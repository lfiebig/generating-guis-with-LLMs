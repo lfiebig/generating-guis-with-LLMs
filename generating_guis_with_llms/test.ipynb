{
 "cells": [
  {
   "cell_type": "code",
   "execution_count": null,
   "metadata": {},
   "outputs": [],
   "source": [
    "from dotenv import load_dotenv\n",
    "from langchain.chat_models import ChatOpenAI\n",
    "from langchain.chains import LLMChain\n",
    "from langchain.prompts import PromptTemplate\n",
    "\n",
    "load_dotenv()\n"
   ]
  },
  {
   "cell_type": "code",
   "execution_count": null,
   "metadata": {},
   "outputs": [],
   "source": [
    "MODEL = \"gpt-3.5-turbo\"\n",
    "\n",
    "OUTPUT_FOLDER = \"../generated_GUIs/\"\n",
    "\n",
    "CREATION_PROMPT = PromptTemplate(\n",
    "    input_variables=[\"summary\"],\n",
    "    template= \"\"\"create the HTML code for a Mobilepage, \n",
    "    with a bit of styling, that represents following functionality: \n",
    "    {summary}.\"\"\"\n",
    ")\n",
    "\n",
    "SUMMARY_PROMPT = PromptTemplate(\n",
    "    input_variables=[\"sum1\",\"sum2\",\"sum3\",\"sum4\",\"sum5\"],\n",
    "    template=\n",
    "        \"\"\"Given a collection on Screensummaries, which descripe the same screen:\n",
    "        Summary 1: {sum1}.\n",
    "        Summary 2: {sum2}.\n",
    "        Summary 3: {sum3}.\n",
    "        Summary 4: {sum4}.\n",
    "        Summary 5: {sum5}.\n",
    "\n",
    "        Extract the provided information of the screen and formulate a new description.\"\"\"\n",
    ")"
   ]
  },
  {
   "cell_type": "code",
   "execution_count": null,
   "metadata": {},
   "outputs": [],
   "source": [
    "#function for Creating a GUI based on a given description\n",
    "def create_gui(id, summary, prompt=CREATION_PROMPT, temp=0):\n",
    "    llm = ChatOpenAI(model_name=MODEL,temperature=temp)\n",
    "\n",
    "    chain = LLMChain(llm=llm, prompt=prompt)\n",
    "\n",
    "    try: \n",
    "        response = chain.run(summary=summary)\n",
    "    except Exception as e:\n",
    "        print(e)\n",
    "    \n",
    "    print(response)\n",
    "    with open(OUTPUT_FOLDER + f\"{id}.html\", 'w') as f:\n",
    "        f.write(response)\n"
   ]
  },
  {
   "cell_type": "code",
   "execution_count": null,
   "metadata": {},
   "outputs": [],
   "source": [
    "from langchain.schema.runnable import RunnablePassthrough\n",
    "from langchain.schema import StrOutputParser\n",
    "\n",
    "#Sequential chain, of summarizing the Screen2Words Summaries into one and creating a GUI\n",
    "def create_gui_S2W(id, sum1, sum2, sum3, sum4, sum5, temp=0):\n",
    "    llm = ChatOpenAI(model_name=MODEL, temperature=temp)\n",
    "    \n",
    "    summary_chain = SUMMARY_PROMPT | llm | StrOutputParser()\n",
    "    creation_chain = CREATION_PROMPT | llm | StrOutputParser()\n",
    "    \n",
    "    chain = {\"summary\": summary_chain} | RunnablePassthrough.assign(creation=creation_chain)\n",
    "    \n",
    "    try: \n",
    "        response = chain.invoke({\"sum1\": sum1,\"sum2\": sum2,\"sum3\": sum3,\"sum4\": sum4,\"sum5\": sum5})\n",
    "    except Exception as e:\n",
    "        print(e)\n",
    "    \n",
    "    print(response)\n",
    "    with open(OUTPUT_FOLDER + f\"{id}_S2W.html\", 'w') as f:\n",
    "        f.write(response.get('creation'))\n",
    "    return response"
   ]
  },
  {
   "cell_type": "code",
   "execution_count": null,
   "metadata": {},
   "outputs": [],
   "source": [
    "SUM1 = \"page showing search option in a flight booking app\"\n",
    "SUM2 = \"screen displaying multiple options in an airline booking application\"\n",
    "SUM3 = \"screen showing with search flights\"\n",
    "SUM4 = \"search page for a flight booking application\"\n",
    "SUM5 = \"searching flights in a transport app\"\n",
    "\n",
    "response = create_gui_S2W(377, SUM1,SUM2,SUM3,SUM4,SUM5)"
   ]
  },
  {
   "cell_type": "code",
   "execution_count": null,
   "metadata": {},
   "outputs": [],
   "source": [
    "DESCRIPTION = \"This is a flight booking screen from a travel app where users can search for flights, specifying departure and arrival cities, travel dates, number of passengers, and class of service. It also offers options for round trip or one-way flights and displays a section for recent searches\"\n",
    "\n",
    "create_gui(377, DESCRIPTION)"
   ]
  },
  {
   "cell_type": "code",
   "execution_count": null,
   "metadata": {},
   "outputs": [],
   "source": [
    "#test"
   ]
  }
 ],
 "metadata": {
  "kernelspec": {
   "display_name": ".venv",
   "language": "python",
   "name": "python3"
  },
  "language_info": {
   "codemirror_mode": {
    "name": "ipython",
    "version": 3
   },
   "file_extension": ".py",
   "mimetype": "text/x-python",
   "name": "python",
   "nbconvert_exporter": "python",
   "pygments_lexer": "ipython3",
   "version": "3.9.0"
  }
 },
 "nbformat": 4,
 "nbformat_minor": 2
}
