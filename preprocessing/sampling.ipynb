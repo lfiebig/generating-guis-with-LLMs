{
 "cells": [
  {
   "cell_type": "code",
   "execution_count": 1,
   "metadata": {},
   "outputs": [],
   "source": [
    "import pandas as pd\n",
    "\n",
    "METADATA = \"../data/metadata.csv\"\n",
    "S2W = \"../data/Screen2Words_tfidf.csv\"\n",
    "\n",
    "\n",
    "MOST_POPULAR_CATEGORIES = [\"Education\",\"Business\",\"Entertainment\",\"Music & Audio\",\"Food & Drink\",\"Shopping\",\"Lifestyle\",\"Books & Reference\",\"Health & Fitness\",\"Finance\"]"
   ]
  },
  {
   "cell_type": "code",
   "execution_count": 2,
   "metadata": {},
   "outputs": [],
   "source": [
    "#import metadata and s2w dataset with tfidf score\n",
    "\n",
    "metadata = pd.read_csv(METADATA)\n",
    "metadata.drop(columns=[\"Unnamed: 0\"], inplace=True)\n",
    "metadata.rename(columns={\"UI Number\": \"screenId\"}, inplace=True)\n",
    "\n",
    "s2w = pd.read_csv(S2W)\n",
    "s2w.drop(columns=[\"Unnamed: 0\"], inplace=True)"
   ]
  },
  {
   "cell_type": "code",
   "execution_count": 3,
   "metadata": {},
   "outputs": [],
   "source": [
    "#add tfidf score to s2w dataset\n",
    "\n",
    "metadata_tfidf = pd.merge(metadata, s2w[[\"screenId\",\"tfidf_grouped_sum\"]].drop_duplicates(), on=\"screenId\")\n",
    "metadata_tfidf = metadata_tfidf[metadata_tfidf['Category'].isin(MOST_POPULAR_CATEGORIES)]"
   ]
  },
  {
   "cell_type": "code",
   "execution_count": 4,
   "metadata": {},
   "outputs": [],
   "source": [
    "#function, where each 50 samples from a dataframe are selected\n",
    "\n",
    "def sampling_data (df, sample_amount=50):\n",
    "    df['strata'] = pd.qcut(df['tfidf_grouped_sum'], sample_amount, labels=False)\n",
    "    df = df.groupby('strata').apply(lambda x: x.sample(n=1))\n",
    "    df = df.reset_index(drop=True)\n",
    "    df = df.drop(columns=[\"strata\"])\n",
    "    return df"
   ]
  },
  {
   "cell_type": "code",
   "execution_count": 5,
   "metadata": {},
   "outputs": [
    {
     "name": "stdout",
     "output_type": "stream",
     "text": [
      "sample for Books & Reference\n",
      "sample for Business\n",
      "sample for Education\n",
      "sample for Entertainment\n",
      "sample for Finance\n",
      "sample for Food & Drink\n",
      "sample for Health & Fitness\n",
      "sample for Lifestyle\n",
      "sample for Music & Audio\n",
      "sample for Shopping\n"
     ]
    }
   ],
   "source": [
    "#spliting the datasframe into a set of dataframes based on the App category\n",
    "\n",
    "categories = {k: v for k, v in metadata_tfidf.groupby('Category')}\n",
    "\n",
    "for key, df in categories.items():\n",
    "    # Apply the function to each DataFrame\n",
    "    categories[key] = sampling_data(df)\n",
    "\n",
    "    # You can store the result or print it\n",
    "    print(f\"sample for {key}\")\n"
   ]
  },
  {
   "cell_type": "code",
   "execution_count": 6,
   "metadata": {},
   "outputs": [
    {
     "data": {
      "text/html": [
       "<div>\n",
       "<style scoped>\n",
       "    .dataframe tbody tr th:only-of-type {\n",
       "        vertical-align: middle;\n",
       "    }\n",
       "\n",
       "    .dataframe tbody tr th {\n",
       "        vertical-align: top;\n",
       "    }\n",
       "\n",
       "    .dataframe thead th {\n",
       "        text-align: right;\n",
       "    }\n",
       "</style>\n",
       "<table border=\"1\" class=\"dataframe\">\n",
       "  <thead>\n",
       "    <tr style=\"text-align: right;\">\n",
       "      <th></th>\n",
       "      <th>App Package Name</th>\n",
       "      <th>Play Store Name</th>\n",
       "      <th>Category</th>\n",
       "      <th>Average Rating</th>\n",
       "      <th>Number of Ratings</th>\n",
       "      <th>Number of Downloads</th>\n",
       "      <th>Date Updated</th>\n",
       "      <th>screenId</th>\n",
       "      <th>Interaction Trace Number</th>\n",
       "      <th>UI Number in Trace</th>\n",
       "      <th>split</th>\n",
       "      <th>tfidf_grouped_sum</th>\n",
       "    </tr>\n",
       "  </thead>\n",
       "  <tbody>\n",
       "    <tr>\n",
       "      <th>0</th>\n",
       "      <td>us.pacourts.docket</td>\n",
       "      <td>PAeDocket</td>\n",
       "      <td>Books &amp; Reference</td>\n",
       "      <td>4.4</td>\n",
       "      <td>156</td>\n",
       "      <td>50,000 - 100,000</td>\n",
       "      <td>February 10, 2017</td>\n",
       "      <td>55521</td>\n",
       "      <td>0</td>\n",
       "      <td>400</td>\n",
       "      <td>train</td>\n",
       "      <td>7.328023</td>\n",
       "    </tr>\n",
       "    <tr>\n",
       "      <th>1</th>\n",
       "      <td>joansoft.dailybible</td>\n",
       "      <td>Daily Bible</td>\n",
       "      <td>Books &amp; Reference</td>\n",
       "      <td>4.7</td>\n",
       "      <td>169034</td>\n",
       "      <td>5,000,000 - 10,000,000</td>\n",
       "      <td>May 5, 2017</td>\n",
       "      <td>9332</td>\n",
       "      <td>0</td>\n",
       "      <td>222</td>\n",
       "      <td>test</td>\n",
       "      <td>8.145251</td>\n",
       "    </tr>\n",
       "    <tr>\n",
       "      <th>2</th>\n",
       "      <td>org.superappsforall.prayerbook</td>\n",
       "      <td>Prayer book</td>\n",
       "      <td>Books &amp; Reference</td>\n",
       "      <td>4.4</td>\n",
       "      <td>605</td>\n",
       "      <td>100,000 - 500,000</td>\n",
       "      <td>January 8, 2016</td>\n",
       "      <td>16442</td>\n",
       "      <td>0</td>\n",
       "      <td>511</td>\n",
       "      <td>train</td>\n",
       "      <td>8.308665</td>\n",
       "    </tr>\n",
       "    <tr>\n",
       "      <th>3</th>\n",
       "      <td>x.abcd</td>\n",
       "      <td>Hacking Tutorials 2.0</td>\n",
       "      <td>Books &amp; Reference</td>\n",
       "      <td>4.3</td>\n",
       "      <td>30071</td>\n",
       "      <td>1,000,000 - 5,000,000</td>\n",
       "      <td>February 21, 2015</td>\n",
       "      <td>65143</td>\n",
       "      <td>0</td>\n",
       "      <td>720</td>\n",
       "      <td>train</td>\n",
       "      <td>8.486382</td>\n",
       "    </tr>\n",
       "    <tr>\n",
       "      <th>4</th>\n",
       "      <td>com.mobilicos.howtotieknots</td>\n",
       "      <td>How to Tie Knots - 3D Animated</td>\n",
       "      <td>Books &amp; Reference</td>\n",
       "      <td>4.0</td>\n",
       "      <td>2800</td>\n",
       "      <td>100,000 - 500,000</td>\n",
       "      <td>December 15, 2015</td>\n",
       "      <td>47478</td>\n",
       "      <td>0</td>\n",
       "      <td>300</td>\n",
       "      <td>dev</td>\n",
       "      <td>8.611719</td>\n",
       "    </tr>\n",
       "    <tr>\n",
       "      <th>...</th>\n",
       "      <td>...</td>\n",
       "      <td>...</td>\n",
       "      <td>...</td>\n",
       "      <td>...</td>\n",
       "      <td>...</td>\n",
       "      <td>...</td>\n",
       "      <td>...</td>\n",
       "      <td>...</td>\n",
       "      <td>...</td>\n",
       "      <td>...</td>\n",
       "      <td>...</td>\n",
       "      <td>...</td>\n",
       "    </tr>\n",
       "    <tr>\n",
       "      <th>495</th>\n",
       "      <td>com.poqstudio.app.platform.boohoo</td>\n",
       "      <td>boohoo.com</td>\n",
       "      <td>Shopping</td>\n",
       "      <td>3.3</td>\n",
       "      <td>862</td>\n",
       "      <td>500,000 - 1,000,000</td>\n",
       "      <td>April 25, 2017</td>\n",
       "      <td>18079</td>\n",
       "      <td>1</td>\n",
       "      <td>397</td>\n",
       "      <td>train</td>\n",
       "      <td>10.765239</td>\n",
       "    </tr>\n",
       "    <tr>\n",
       "      <th>496</th>\n",
       "      <td>com.jet.jet.app</td>\n",
       "      <td>Jet - Online Shopping Deals</td>\n",
       "      <td>Shopping</td>\n",
       "      <td>4.6</td>\n",
       "      <td>27632</td>\n",
       "      <td>1,000,000 - 5,000,000</td>\n",
       "      <td>May 6, 2017</td>\n",
       "      <td>40656</td>\n",
       "      <td>2</td>\n",
       "      <td>232</td>\n",
       "      <td>train</td>\n",
       "      <td>10.834633</td>\n",
       "    </tr>\n",
       "    <tr>\n",
       "      <th>497</th>\n",
       "      <td>com.milanoo.store</td>\n",
       "      <td>Milanoo-Fashion Shopping</td>\n",
       "      <td>Shopping</td>\n",
       "      <td>3.9</td>\n",
       "      <td>1542</td>\n",
       "      <td>100,000 - 500,000</td>\n",
       "      <td>March 1, 2017</td>\n",
       "      <td>7329</td>\n",
       "      <td>0</td>\n",
       "      <td>1287</td>\n",
       "      <td>train</td>\n",
       "      <td>10.940067</td>\n",
       "    </tr>\n",
       "    <tr>\n",
       "      <th>498</th>\n",
       "      <td>com.meamobile.printicular</td>\n",
       "      <td>Printicular Print Photos</td>\n",
       "      <td>Shopping</td>\n",
       "      <td>4.6</td>\n",
       "      <td>5319</td>\n",
       "      <td>500,000 - 1,000,000</td>\n",
       "      <td>May 5, 2017</td>\n",
       "      <td>54998</td>\n",
       "      <td>0</td>\n",
       "      <td>362</td>\n",
       "      <td>train</td>\n",
       "      <td>11.036639</td>\n",
       "    </tr>\n",
       "    <tr>\n",
       "      <th>499</th>\n",
       "      <td>com.etsy.android</td>\n",
       "      <td>Etsy: Handmade &amp; Vintage Goods</td>\n",
       "      <td>Shopping</td>\n",
       "      <td>4.3</td>\n",
       "      <td>90370</td>\n",
       "      <td>10,000,000 - 50,000,000</td>\n",
       "      <td>May 11, 2017</td>\n",
       "      <td>69274</td>\n",
       "      <td>0</td>\n",
       "      <td>564</td>\n",
       "      <td>train</td>\n",
       "      <td>11.496179</td>\n",
       "    </tr>\n",
       "  </tbody>\n",
       "</table>\n",
       "<p>500 rows × 12 columns</p>\n",
       "</div>"
      ],
      "text/plain": [
       "                      App Package Name                 Play Store Name  \\\n",
       "0                   us.pacourts.docket                       PAeDocket   \n",
       "1                  joansoft.dailybible                     Daily Bible   \n",
       "2       org.superappsforall.prayerbook                     Prayer book   \n",
       "3                               x.abcd           Hacking Tutorials 2.0   \n",
       "4          com.mobilicos.howtotieknots  How to Tie Knots - 3D Animated   \n",
       "..                                 ...                             ...   \n",
       "495  com.poqstudio.app.platform.boohoo                      boohoo.com   \n",
       "496                    com.jet.jet.app     Jet - Online Shopping Deals   \n",
       "497                  com.milanoo.store        Milanoo-Fashion Shopping   \n",
       "498          com.meamobile.printicular        Printicular Print Photos   \n",
       "499                   com.etsy.android  Etsy: Handmade & Vintage Goods   \n",
       "\n",
       "              Category  Average Rating Number of Ratings  \\\n",
       "0    Books & Reference             4.4               156   \n",
       "1    Books & Reference             4.7            169034   \n",
       "2    Books & Reference             4.4               605   \n",
       "3    Books & Reference             4.3             30071   \n",
       "4    Books & Reference             4.0              2800   \n",
       "..                 ...             ...               ...   \n",
       "495           Shopping             3.3               862   \n",
       "496           Shopping             4.6             27632   \n",
       "497           Shopping             3.9              1542   \n",
       "498           Shopping             4.6              5319   \n",
       "499           Shopping             4.3             90370   \n",
       "\n",
       "             Number of Downloads       Date Updated  screenId  \\\n",
       "0             50,000 - 100,000    February 10, 2017     55521   \n",
       "1       5,000,000 - 10,000,000          May 5, 2017      9332   \n",
       "2            100,000 - 500,000      January 8, 2016     16442   \n",
       "3        1,000,000 - 5,000,000    February 21, 2015     65143   \n",
       "4            100,000 - 500,000    December 15, 2015     47478   \n",
       "..                           ...                ...       ...   \n",
       "495        500,000 - 1,000,000       April 25, 2017     18079   \n",
       "496      1,000,000 - 5,000,000          May 6, 2017     40656   \n",
       "497          100,000 - 500,000        March 1, 2017      7329   \n",
       "498        500,000 - 1,000,000          May 5, 2017     54998   \n",
       "499    10,000,000 - 50,000,000         May 11, 2017     69274   \n",
       "\n",
       "     Interaction Trace Number  UI Number in Trace  split  tfidf_grouped_sum  \n",
       "0                           0                 400  train           7.328023  \n",
       "1                           0                 222   test           8.145251  \n",
       "2                           0                 511  train           8.308665  \n",
       "3                           0                 720  train           8.486382  \n",
       "4                           0                 300    dev           8.611719  \n",
       "..                        ...                 ...    ...                ...  \n",
       "495                         1                 397  train          10.765239  \n",
       "496                         2                 232  train          10.834633  \n",
       "497                         0                1287  train          10.940067  \n",
       "498                         0                 362  train          11.036639  \n",
       "499                         0                 564  train          11.496179  \n",
       "\n",
       "[500 rows x 12 columns]"
      ]
     },
     "execution_count": 6,
     "metadata": {},
     "output_type": "execute_result"
    }
   ],
   "source": [
    "combined_sample = pd.concat(categories.values(), ignore_index=True)\n",
    "combined_sample"
   ]
  },
  {
   "cell_type": "code",
   "execution_count": 7,
   "metadata": {},
   "outputs": [
    {
     "data": {
      "text/plain": [
       "Category\n",
       "Books & Reference    50\n",
       "Business             50\n",
       "Education            50\n",
       "Entertainment        50\n",
       "Finance              50\n",
       "Food & Drink         50\n",
       "Health & Fitness     50\n",
       "Lifestyle            50\n",
       "Music & Audio        50\n",
       "Shopping             50\n",
       "Name: count, dtype: int64"
      ]
     },
     "execution_count": 7,
     "metadata": {},
     "output_type": "execute_result"
    }
   ],
   "source": [
    "combined_sample[\"Category\"].value_counts()"
   ]
  },
  {
   "cell_type": "code",
   "execution_count": 8,
   "metadata": {},
   "outputs": [
    {
     "data": {
      "image/png": "[encoded data removed]",
      "text/plain": [
       "<Figure size 640x480 with 1 Axes>"
      ]
     },
     "metadata": {},
     "output_type": "display_data"
    }
   ],
   "source": [
    "import matplotlib.pyplot as plt\n",
    "\n",
    "data = combined_sample[\"tfidf_grouped_sum\"]  # your large dataset\n",
    "plt.hist(data, bins=50)  # Adjust the number of bins as needed\n",
    "plt.xlabel('Value')\n",
    "plt.ylabel('Frequency')\n",
    "plt.title('tfidf distribution from sample')\n",
    "plt.show()"
   ]
  },
  {
   "cell_type": "code",
   "execution_count": 9,
   "metadata": {},
   "outputs": [],
   "source": [
    "combined_sample.sort_values(by=\"screenId\", inplace=True)\n",
    "combined_sample.to_csv(\"../data/s2w_sample.csv\")"
   ]
  },
  {
   "cell_type": "code",
   "execution_count": 10,
   "metadata": {},
   "outputs": [
    {
     "ename": "ImportError",
     "evalue": "cannot import name 'SUMMARY_PROMPT_COT' from 'notebooks.prompts' (C:\\Users\\fiebi\\Projects\\generating-guis-with-LLMs\\notebooks\\prompts.py)",
     "output_type": "error",
     "traceback": [
      "\u001b[1;31m---------------------------------------------------------------------------\u001b[0m",
      "\u001b[1;31mImportError\u001b[0m                               Traceback (most recent call last)",
      "Cell \u001b[1;32mIn[10], line 1\u001b[0m\n\u001b[1;32m----> 1\u001b[0m \u001b[38;5;28;01mfrom\u001b[39;00m \u001b[38;5;21;01mnotebooks\u001b[39;00m\u001b[38;5;21;01m.\u001b[39;00m\u001b[38;5;21;01mprompts\u001b[39;00m \u001b[38;5;28;01mimport\u001b[39;00m SUMMARY_PROMPT_COT\n\u001b[0;32m      2\u001b[0m \u001b[38;5;28;01mfrom\u001b[39;00m \u001b[38;5;21;01mlangchain\u001b[39;00m\u001b[38;5;21;01m.\u001b[39;00m\u001b[38;5;21;01mchat_models\u001b[39;00m \u001b[38;5;28;01mimport\u001b[39;00m ChatOpenAI\n\u001b[0;32m      3\u001b[0m \u001b[38;5;28;01mfrom\u001b[39;00m \u001b[38;5;21;01mlangchain\u001b[39;00m\u001b[38;5;21;01m.\u001b[39;00m\u001b[38;5;21;01mchains\u001b[39;00m \u001b[38;5;28;01mimport\u001b[39;00m LLMChain\n",
      "\u001b[1;31mImportError\u001b[0m: cannot import name 'SUMMARY_PROMPT_COT' from 'notebooks.prompts' (C:\\Users\\fiebi\\Projects\\generating-guis-with-LLMs\\notebooks\\prompts.py)"
     ]
    }
   ],
   "source": [
    "from notebooks.prompts import SUMMARY_PROMPT_COT\n",
    "from langchain.chat_models import ChatOpenAI\n",
    "from langchain.chains import LLMChain\n",
    "from langfuse.callback import CallbackHandler\n",
    "import os\n",
    "from dotenv import load_dotenv\n",
    "from langchain.prompts import PromptTemplate\n",
    "\n",
    "\n",
    "load_dotenv()\n",
    "handler = CallbackHandler(os.environ.get(\"LANGFUSE_PUBLIC_KEY\"), os.environ.get(\"LANGFUSE_SECRET_KEY\"))\n",
    "\n",
    "MODEL = \"gpt-3.5-turbo\"\n",
    "\n"
   ]
  },
  {
   "cell_type": "code",
   "execution_count": 16,
   "metadata": {},
   "outputs": [],
   "source": [
    "def create_summaries_s2w(id, prompt=SUMMARY_PROMPT_COT, temp=0):\n",
    "    llm = ChatOpenAI(model_name=MODEL,temperature=temp)\n",
    "\n",
    "    chain = LLMChain(llm=llm, prompt=prompt, callbacks=[handler])\n",
    "\n",
    "    summaries = s2w[s2w[\"screenId\"]==id][\"summary\"].values\n",
    "    summaries_str = \"\\n\".join([f\"Summary {i+1}: {summary}\" for i, summary in enumerate(summaries)])\n",
    "\n",
    "    try: \n",
    "        response = chain.run(summaries=summaries_str, callbacks=[handler])\n",
    "    except Exception as e:\n",
    "        print(e)\n",
    "    return response"
   ]
  },
  {
   "cell_type": "code",
   "execution_count": 17,
   "metadata": {},
   "outputs": [
    {
     "data": {
      "text/plain": [
       "'Certainly, let\\'s break it down step by step:\\n\\nSummary 1: \"App asking to translate the given sentence\" - This suggests that it\\'s an app that prompts the user to translate a specific sentence.\\n\\nSummary 2: \"Page displaying about translating the sentence\" - This indicates that there is a page within the app that provides information about the process of translating the sentence.\\n\\nSummary 3: \"Page displaying the translation\" - This implies that there is a page within the app that displays the translated version of the sentence.\\n\\nSummary 4: \"Page to translate the text\" - Similar to Summary 1, it mentions a page dedicated to translating text.\\n\\nSummary 5: \"Screen page of language translator application\" - This suggests that it\\'s a screen within a language translator application.\\n\\nFrom these summaries, we can formulate a new description:\\n\\nThe mobile page is part of a language translator application and serves as a page where users can input a sentence to be translated. It also displays the translated version of the sentence and provides information about the translation process.'"
      ]
     },
     "execution_count": 17,
     "metadata": {},
     "output_type": "execute_result"
    }
   ],
   "source": [
    "create_summaries_s2w(27729)"
   ]
  },
  {
   "cell_type": "code",
   "execution_count": null,
   "metadata": {},
   "outputs": [],
   "source": []
  }
 ],
 "metadata": {
  "kernelspec": {
   "display_name": ".venv",
   "language": "python",
   "name": "python3"
  },
  "language_info": {
   "codemirror_mode": {
    "name": "ipython",
    "version": 3
   },
   "file_extension": ".py",
   "mimetype": "text/x-python",
   "name": "python",
   "nbconvert_exporter": "python",
   "pygments_lexer": "ipython3",
   "version": "3.9.0"
  }
 },
 "nbformat": 4,
 "nbformat_minor": 2
}
