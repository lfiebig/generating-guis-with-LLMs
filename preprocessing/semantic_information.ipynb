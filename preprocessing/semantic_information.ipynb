{
 "cells": [
  {
   "cell_type": "code",
   "execution_count": 2,
   "metadata": {},
   "outputs": [],
   "source": [
    "import pandas as pd\n",
    "\n",
    "SEMANTIC_INFO = \"../data/all_guis.csv\"\n",
    "SOURCE_DIR = 'D:/unique_uis.tar/unique_uis/unique_uis/unique_uis/combined'\n",
    "\n",
    "\n",
    "info = pd.read_csv(SEMANTIC_INFO)"
   ]
  },
  {
   "cell_type": "code",
   "execution_count": 3,
   "metadata": {},
   "outputs": [
    {
     "name": "stdout",
     "output_type": "stream",
     "text": [
      "{'bg_color': '#FCFCFA', 'ui_comps': [{'text': 'Instructor', 'resource-id': 'se.perigee.android.seven:id/text1', 'ancestors': ['android.widget.TextView', 'android.view.View', 'java.lang.Object'], 'clickable': False, 'class': 'android.support.v7.widget.AppCompatTextView', 'bounds': [238, 1954, 549, 2051], 'componentLabel': 'Text', 'text_color': '#DB6A58', 'bounds_updated': [244.66666666666666, 1979.3333333333333, 548.6666666666666, 2031.3333333333333], 'text_updated': 'Instructor', 'font_size': 12.765578405174079, 'id': '1264_0'}, {'text': 'Announcer', 'resource-id': 'se.perigee.android.seven:id/text3', 'ancestors': ['android.widget.TextView', 'android.view.View', 'java.lang.Object'], 'clickable': False, 'class': 'android.support.v7.widget.AppCompatTextView', 'bounds': [1036, 1954, 1384, 2051], 'componentLabel': 'Text', 'text_color': '#458786', 'bounds_updated': [1037.3333333333333, 1979.3333333333333, 1384.0, 2031.3333333333333], 'text_updated': 'Announcer', 'font_size': 12.956339739552517, 'id': '1264_1'}, {'text': 'Circuits', 'resource-id': 'se.perigee.android.seven:id/text1', 'ancestors': ['android.widget.TextView', 'android.view.View', 'java.lang.Object'], 'clickable': False, 'class': 'android.support.v7.widget.AppCompatTextView', 'bounds': [238, 1768, 481, 1865], 'componentLabel': 'Text', 'text_color': '#F2664D', 'bounds_updated': [243.33333333333334, 1793.3333333333333, 478.0, 1845.3333333333333], 'text_updated': 'Circuits', 'font_size': 12.765644325458334, 'id': '1264_2'}, {'text': '1', 'resource-id': 'se.perigee.android.seven:id/text3', 'ancestors': ['android.widget.TextView', 'android.view.View', 'java.lang.Object'], 'clickable': False, 'class': 'android.support.v7.widget.AppCompatTextView', 'bounds': [1344, 1768, 1384, 1865], 'componentLabel': 'Text', 'text_color': '#458B8B', 'bounds_updated': [1344, 1768, 1384, 1865], 'text_updated': '1', 'font_size': 12, 'id': '1264_3'}, {'text': 'Workout', 'resource-id': 'se.perigee.android.seven:id/text1', 'ancestors': ['android.widget.TextView', 'android.view.View', 'java.lang.Object'], 'clickable': False, 'class': 'android.support.v7.widget.AppCompatTextView', 'bounds': [238, 1582, 508, 1679], 'componentLabel': 'Text', 'text_color': '#E76D58', 'bounds_updated': [240.66666666666666, 1608.6666666666667, 506.0, 1660.6666666666667], 'text_updated': 'Workout', 'font_size': 12.971390949780634, 'id': '1264_4'}, {'text': 'Full Body', 'resource-id': 'se.perigee.android.seven:id/text3', 'ancestors': ['android.widget.TextView', 'android.view.View', 'java.lang.Object'], 'clickable': False, 'class': 'android.support.v7.widget.AppCompatTextView', 'bounds': [1092, 1582, 1384, 1679], 'componentLabel': 'Text', 'text_color': '#498E8B', 'bounds_updated': [1097.3333333333333, 1608.6666666666667, 1382.6666666666665, 1675.3333333333333], 'text_updated': 'Full Body', 'font_size': 12.779004169732644, 'id': '1264_5'}, {'ancestors': ['android.widget.ImageView', 'android.view.View', 'java.lang.Object'], 'resource-id': 'se.perigee.android.seven:id/image', 'clickable': False, 'class': 'android.support.v7.widget.AppCompatImageView', 'bounds': [56, 1957, 182, 2048], 'componentLabel': 'Image', 'id': '1264_6'}, {'iconClass': 'refresh', 'ancestors': ['android.widget.ImageView', 'android.view.View', 'java.lang.Object'], 'resource-id': 'se.perigee.android.seven:id/image', 'clickable': False, 'class': 'android.support.v7.widget.AppCompatImageView', 'bounds': [56, 1771, 182, 1862], 'componentLabel': 'Icon', 'id': '1264_7'}, {'ancestors': ['android.widget.ImageView', 'android.view.View', 'java.lang.Object'], 'resource-id': 'se.perigee.android.seven:id/image', 'clickable': False, 'class': 'android.support.v7.widget.AppCompatImageView', 'bounds': [56, 1585, 182, 1676], 'componentLabel': 'Image', 'id': '1264_8'}, {'text': 'Track', 'resource-id': 'se.perigee.android.seven:id/bb_bottom_bar_title', 'ancestors': ['android.widget.TextView', 'android.view.View', 'java.lang.Object'], 'clickable': False, 'class': 'android.support.v7.widget.AppCompatTextView', 'bounds': [1197, 2314, 1313, 2386], 'componentLabel': 'Text', 'text_color': '#FFBBA1', 'bounds_updated': [1197, 2314, 1313, 2386], 'text_updated': 'Track', 'font_size': 12, 'id': '1264_9'}, {'ancestors': ['android.widget.ImageView', 'android.view.View', 'java.lang.Object'], 'resource-id': 'se.perigee.android.seven:id/bb_bottom_bar_icon', 'clickable': False, 'class': 'android.support.v7.widget.AppCompatImageView', 'bounds': [1213, 2196, 1297, 2308], 'componentLabel': 'Image', 'id': '1264_10'}, {'text': 'Achievements', 'resource-id': 'se.perigee.android.seven:id/bb_bottom_bar_title', 'ancestors': ['android.widget.TextView', 'android.view.View', 'java.lang.Object'], 'clickable': False, 'class': 'android.support.v7.widget.AppCompatTextView', 'bounds': [746, 2314, 1051, 2386], 'componentLabel': 'Text', 'text_color': '#FFC1A1', 'bounds_updated': [746, 2314, 1051, 2386], 'text_updated': 'Achievements', 'font_size': 12, 'id': '1264_11'}, {'iconClass': 'chat', 'ancestors': ['android.widget.ImageView', 'android.view.View', 'java.lang.Object'], 'resource-id': 'se.perigee.android.seven:id/bb_bottom_bar_icon', 'clickable': False, 'class': 'android.support.v7.widget.AppCompatImageView', 'bounds': [856, 2196, 940, 2308], 'componentLabel': 'Icon', 'id': '1264_12'}, {'text': 'Learn', 'resource-id': 'se.perigee.android.seven:id/bb_bottom_bar_title', 'ancestors': ['android.widget.TextView', 'android.view.View', 'java.lang.Object'], 'clickable': False, 'class': 'android.support.v7.widget.AppCompatTextView', 'bounds': [481, 2314, 601, 2386], 'componentLabel': 'Text', 'text_color': '#FFBF9F', 'bounds_updated': [481, 2314, 601, 2386], 'text_updated': 'Learn', 'font_size': 12, 'id': '1264_13'}, {'iconClass': 'book', 'ancestors': ['android.widget.ImageView', 'android.view.View', 'java.lang.Object'], 'resource-id': 'se.perigee.android.seven:id/bb_bottom_bar_icon', 'clickable': False, 'class': 'android.support.v7.widget.AppCompatImageView', 'bounds': [499, 2196, 583, 2308], 'componentLabel': 'Icon', 'id': '1264_14'}, {'text': 'Workout', 'resource-id': 'se.perigee.android.seven:id/bb_bottom_bar_title', 'ancestors': ['android.widget.TextView', 'android.view.View', 'java.lang.Object'], 'clickable': False, 'class': 'android.support.v7.widget.AppCompatTextView', 'bounds': [80, 2301, 289, 2392], 'componentLabel': 'Text', 'text_color': '#FFFBFF', 'bounds_updated': [81.33333333333333, 2321.0, 288.0, 2361.0], 'text_updated': 'Workout', 'font_size': 10.968067597302651, 'id': '1264_15'}, {'ancestors': ['android.widget.ImageView', 'android.view.View', 'java.lang.Object'], 'resource-id': 'se.perigee.android.seven:id/bb_bottom_bar_icon', 'clickable': False, 'class': 'android.support.v7.widget.AppCompatImageView', 'bounds': [142, 2196, 226, 2301], 'componentLabel': 'Image', 'id': '1264_16'}, {'resource-id': 'se.perigee.android.seven:id/start', 'ancestors': ['android.view.ViewGroup', 'android.view.View', 'java.lang.Object'], 'clickable': True, 'class': 'android.widget.RelativeLayout', 'bounds': [328, 418, 1308, 1398], 'componentLabel': 'Text Button', 'textButtonClass': 'go', 'bg_color': '#FCFCFA', 'text_color': '#469093', 'bounds_text': [328, 418, 1308, 1398], 'text_updated': 'go', 'font_size': 12, 'id': '1264_17'}, {'iconClass': 'more', 'ancestors': ['android.support.v7.widget.AppCompatImageView', 'android.widget.ImageView', 'android.view.View', 'java.lang.Object'], 'bounds': [1300, 98, 1440, 266], 'clickable': True, 'class': 'android.support.v7.widget.ActionMenuPresenter$d', 'componentLabel': 'Icon', 'id': '1264_18'}, {'iconClass': 'info', 'resource-id': 'se.perigee.android.seven:id/action_workout_info', 'ancestors': ['android.support.v7.widget.AppCompatTextView', 'android.widget.TextView', 'android.view.View', 'java.lang.Object'], 'clickable': True, 'class': 'android.support.v7.view.menu.ActionMenuItemView', 'bounds': [1132, 98, 1300, 266], 'componentLabel': 'Icon', 'id': '1264_19'}, {'text': 'Workout', 'ancestors': ['android.widget.TextView', 'android.view.View', 'java.lang.Object'], 'clickable': False, 'class': 'android.support.v7.widget.AppCompatTextView', 'bounds': [56, 135, 321, 228], 'componentLabel': 'Text', 'text_color': '#FFFBFF', 'bounds_updated': [57.333333333333336, 159.0, 320.0, 209.66666666666666], 'text_updated': 'Workout', 'font_size': 12.891216702059502, 'id': '1264_20'}], 'ui_comp_groups': [{'componentLabel': 'Layout', 'bounds': [0, 1536, 1440, 2182], 'class': 'android.widget.LinearLayout', 'bg_color': '#FFFFFF', 'id': '1264_21', 'ui_comp_ids': ['1264_0', '1264_1', '1264_2', '1264_3', '1264_4', '1264_5', '1264_6', '1264_7', '1264_8'], 'ui_comp_group_ids': ['1264_25', '1264_26', '1264_27', '1264_28', '1264_29', '1264_30', '1264_31', '1264_32', '1264_33']}, {'componentLabel': 'Layout', 'bounds': [0, 2182, 1440, 2392], 'class': 'com.roughike.bottombar.BottomBar', 'bg_color': '#BE5D4C', 'id': '1264_22', 'ui_comp_ids': ['1264_9', '1264_10', '1264_11', '1264_12', '1264_13', '1264_14', '1264_15', '1264_16'], 'ui_comp_group_ids': ['1264_23', '1264_34', '1264_35', '1264_36', '1264_37']}, {'componentLabel': 'Layout', 'bounds': [0, 2196, 1440, 2392], 'class': 'android.widget.FrameLayout', 'bg_color': '#BE5D4C', 'id': '1264_23', 'ui_comp_ids': ['1264_9', '1264_10', '1264_11', '1264_12', '1264_13', '1264_14', '1264_15', '1264_16'], 'ui_comp_group_ids': ['1264_34', '1264_35', '1264_36', '1264_37']}, {'componentLabel': 'Toolbar', 'bounds': [0, 84, 1440, 280], 'class': 'android.support.v7.widget.ActionBarContainer', 'bg_color': '#BE5D4C', 'id': '1264_24', 'ui_comp_ids': ['1264_18', '1264_19', '1264_20'], 'ui_comp_group_ids': []}, {'componentLabel': 'Layout', 'bounds': [0, 1912, 1440, 2098], 'class': 'android.widget.LinearLayout', 'bg_color': '#FFFFFF', 'id': '1264_25', 'ui_comp_ids': ['1264_0', '1264_1', '1264_6'], 'ui_comp_group_ids': ['1264_28', '1264_31']}, {'componentLabel': 'Layout', 'bounds': [0, 1726, 1440, 1912], 'class': 'android.widget.LinearLayout', 'bg_color': '#FFFFFF', 'id': '1264_26', 'ui_comp_ids': ['1264_2', '1264_3', '1264_7'], 'ui_comp_group_ids': ['1264_29', '1264_32']}, {'componentLabel': 'Layout', 'bounds': [0, 1540, 1440, 1726], 'class': 'android.widget.LinearLayout', 'bg_color': '#FFFFFF', 'id': '1264_27', 'ui_comp_ids': ['1264_4', '1264_5', '1264_8'], 'ui_comp_group_ids': ['1264_30', '1264_33']}, {'componentLabel': 'Layout', 'bounds': [0, 1912, 1440, 2094], 'class': 'android.widget.FrameLayout', 'bg_color': '#FFFFFF', 'id': '1264_28', 'ui_comp_ids': ['1264_0', '1264_1', '1264_6'], 'ui_comp_group_ids': ['1264_31']}, {'componentLabel': 'Layout', 'bounds': [0, 1726, 1440, 1908], 'class': 'android.widget.FrameLayout', 'bg_color': '#FFFFFF', 'id': '1264_29', 'ui_comp_ids': ['1264_2', '1264_3', '1264_7'], 'ui_comp_group_ids': ['1264_32']}, {'componentLabel': 'Layout', 'bounds': [0, 1540, 1440, 1722], 'class': 'android.widget.FrameLayout', 'bg_color': '#FFFFFF', 'id': '1264_30', 'ui_comp_ids': ['1264_4', '1264_5', '1264_8'], 'ui_comp_group_ids': ['1264_33']}, {'componentLabel': 'Layout', 'bounds': [238, 1954, 1384, 2051], 'class': 'android.widget.LinearLayout', 'bg_color': '#FFFFFF', 'id': '1264_31', 'ui_comp_ids': ['1264_0', '1264_1'], 'ui_comp_group_ids': []}, {'componentLabel': 'Layout', 'bounds': [238, 1768, 1384, 1865], 'class': 'android.widget.LinearLayout', 'bg_color': '#FFFFFF', 'id': '1264_32', 'ui_comp_ids': ['1264_2', '1264_3'], 'ui_comp_group_ids': []}, {'componentLabel': 'Layout', 'bounds': [238, 1582, 1384, 1679], 'class': 'android.widget.LinearLayout', 'bg_color': '#FFFFFF', 'id': '1264_33', 'ui_comp_ids': ['1264_4', '1264_5'], 'ui_comp_group_ids': []}, {'componentLabel': 'Layout', 'bounds': [1077, 2196, 1434, 2392], 'class': 'com.roughike.bottombar.BottomBarTab', 'bg_color': '#BE5D4C', 'id': '1264_34', 'ui_comp_ids': ['1264_9', '1264_10'], 'ui_comp_group_ids': []}, {'componentLabel': 'Layout', 'bounds': [720, 2196, 1077, 2392], 'class': 'com.roughike.bottombar.BottomBarTab', 'bg_color': '#BE5D4C', 'id': '1264_35', 'ui_comp_ids': ['1264_11', '1264_12'], 'ui_comp_group_ids': []}, {'componentLabel': 'Layout', 'bounds': [363, 2196, 720, 2392], 'class': 'com.roughike.bottombar.BottomBarTab', 'bg_color': '#BE5D4C', 'id': '1264_36', 'ui_comp_ids': ['1264_13', '1264_14'], 'ui_comp_group_ids': []}, {'componentLabel': 'Layout', 'bounds': [6, 2196, 363, 2392], 'class': 'com.roughike.bottombar.BottomBarTab', 'bg_color': '#BE5D4C', 'id': '1264_37', 'ui_comp_ids': ['1264_15', '1264_16'], 'ui_comp_group_ids': []}]}\n"
     ]
    },
    {
     "data": {
      "text/plain": [
       "\"\\njson_data = json.loads(json_text)\\n\\nwith open(json_file_path, 'w') as json_file:\\n    json.dump(json_data, json_file)\\n\""
      ]
     },
     "execution_count": 3,
     "metadata": {},
     "output_type": "execute_result"
    }
   ],
   "source": [
    "import json\n",
    "\n",
    "json_file_path = \"../data/455.json\"\n",
    "\n",
    "json_text = info[info[\"id\"] == 1264][\"data\"].values[0]\n",
    "print(json_text)\n",
    "#json_text = json_text.replace(\"'\", \"\\\"\")\n",
    "\"\"\"\n",
    "json_data = json.loads(json_text)\n",
    "\n",
    "with open(json_file_path, 'w') as json_file:\n",
    "    json.dump(json_data, json_file)\n",
    "\"\"\""
   ]
  },
  {
   "cell_type": "code",
   "execution_count": 28,
   "metadata": {},
   "outputs": [
    {
     "name": "stdout",
     "output_type": "stream",
     "text": [
      "com.fxnetworks.fxnow:id/featured_image\n",
      "---com.fxnetworks.fxnow.widget.tv.HeroGradientImageView\n",
      "com.fxnetworks.fxnow:id/featured_next_title\n",
      "---com.fxnetworks.fxnow.widget.FXTextView\n",
      "com.fxnetworks.fxnow:id/featured_button_play_episode\n",
      "---com.fxnetworks.fxnow.widget.ExpandingTextView\n",
      "com.fxnetworks.fxnow:id/featured_button_divider\n",
      "---android.view.View\n",
      "com.fxnetworks.fxnow:id/featured_button_detail\n",
      "---com.fxnetworks.fxnow.widget.ExpandingTextView\n",
      "com.fxnetworks.fxnow:id/featured_detail\n",
      "---com.fxnetworks.fxnow.widget.FXTextView\n",
      "com.fxnetworks.fxnow:id/featured_current_title\n",
      "---com.fxnetworks.fxnow.widget.ExpandingTextView\n",
      "com.fxnetworks.fxnow:id/featured_eyebrow\n",
      "---com.fxnetworks.fxnow.widget.FXTextView\n",
      "com.fxnetworks.fxnow:id/featured_page_indicator\n",
      "---com.fxnetworks.fxnow.widget.featured.FeaturedPageIndicator\n",
      "android:id/navigationBarBackground\n",
      "---android.view.View\n",
      "android:id/statusBarBackground\n",
      "---android.view.View\n"
     ]
    }
   ],
   "source": [
    "import os\n",
    "\n",
    "def import_json(id):\n",
    "    filename = f\"{id}.json\"\n",
    "    file_path = os.path.join(SOURCE_DIR, filename)\n",
    "    with open(file_path, 'r') as file:\n",
    "        data = json.load(file)\n",
    "    return data\n",
    "\n",
    "def print_visible_classes(data):\n",
    "\n",
    "    if isinstance(data, dict):\n",
    "        # Check if the current item is a component and visible\n",
    "        if \"resource-id\" in data and data.get(\"visible-to-user\", False) and \"children\" not in data:\n",
    "                print(data[\"resource-id\"])\n",
    "                print(\"---\" + data[\"class\"])\n",
    "\n",
    "        # Recursively check in each value of the dictionary\n",
    "        for value in data.values():\n",
    "            print_visible_classes(value)\n",
    "    elif isinstance(data, list):\n",
    "        # Recursively check each item in the list\n",
    "        for item in data:\n",
    "            print_visible_classes(item)\n",
    "\n",
    "# Traverse the JSON data and print class names of visible components\n",
    "data = import_json(9668)\n",
    "print_visible_classes(data)\n",
    "\n"
   ]
  },
  {
   "cell_type": "code",
   "execution_count": null,
   "metadata": {},
   "outputs": [],
   "source": []
  }
 ],
 "metadata": {
  "kernelspec": {
   "display_name": ".venv",
   "language": "python",
   "name": "python3"
  },
  "language_info": {
   "codemirror_mode": {
    "name": "ipython",
    "version": 3
   },
   "file_extension": ".py",
   "mimetype": "text/x-python",
   "name": "python",
   "nbconvert_exporter": "python",
   "pygments_lexer": "ipython3",
   "version": "3.9.0"
  }
 },
 "nbformat": 4,
 "nbformat_minor": 2
}
