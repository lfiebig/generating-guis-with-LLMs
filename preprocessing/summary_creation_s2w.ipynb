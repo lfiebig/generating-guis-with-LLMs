{
 "cells": [
  {
   "cell_type": "code",
   "execution_count": 12,
   "metadata": {},
   "outputs": [],
   "source": [
    "import pandas as pd\n",
    "from langchain.prompts import PromptTemplate\n",
    "from dotenv import load_dotenv\n",
    "from langchain.chat_models import ChatOpenAI\n",
    "from langchain.llms import OpenAI\n",
    "from langchain.chains import LLMChain\n",
    "from langfuse.callback import CallbackHandler\n",
    "import os\n",
    "\n",
    "load_dotenv()\n",
    "\n",
    "handler = CallbackHandler(os.environ.get(\"LANGFUSE_PUBLIC_KEY\"), os.environ.get(\"LANGFUSE_SECRET_KEY\"))\n",
    "\n",
    "S2W_SAMPLE = \"../data/s2w_sample_improved.csv\"\n",
    "S2W_SUMMARIZED = \"../data/s2w_summarized.csv\"\n",
    "\n",
    "MODEL = \"gpt-3.5-turbo-instruct\""
   ]
  },
  {
   "cell_type": "code",
   "execution_count": 13,
   "metadata": {},
   "outputs": [],
   "source": [
    "s2w_sample = pd.read_csv(S2W_SAMPLE)\n",
    "s2w_sample.drop(columns=['Unnamed: 0'], inplace=True)\n",
    "\n",
    "s2w_complex = pd.read_csv(S2W_SUMMARIZED)\n",
    "s2w_complex.drop(columns=['Unnamed: 0'], inplace=True)\n"
   ]
  },
  {
   "cell_type": "code",
   "execution_count": 14,
   "metadata": {},
   "outputs": [],
   "source": [
    "from notebooks.prompts import SUMMARY_PROMPT_FS\n",
    "\n",
    "def create_summary(id, prompt=SUMMARY_PROMPT_FS, temp=0.7):\n",
    "\n",
    "    llm = OpenAI(model_name=MODEL,temperature=temp)\n",
    "    chain = LLMChain(llm=llm, prompt=prompt, callbacks=[handler])\n",
    "\n",
    "    summaries = s2w_sample[s2w_sample[\"screenId\"]==id][\"summary\"].values\n",
    "    summaries_str = \"\\n\".join([f\"Summary {i+1}: {summary}\" for i, summary in enumerate(summaries)])\n",
    "\n",
    "    try: \n",
    "        response = chain.run(summaries=summaries_str, callbacks=[handler])\n",
    "    except Exception as e:\n",
    "        print(e)\n",
    "    \n",
    "    return response"
   ]
  },
  {
   "cell_type": "code",
   "execution_count": 15,
   "metadata": {},
   "outputs": [
    {
     "name": "stdout",
     "output_type": "stream",
     "text": [
      "300: DONE\n",
      "33: DONE\n",
      "486: DONE\n",
      "494: DONE\n",
      "498: DONE\n",
      "549: DONE\n",
      "70: DONE\n",
      "761: DONE\n",
      "596: DONE\n",
      "495: DONE\n"
     ]
    }
   ],
   "source": [
    "screens = s2w_sample[\"screenId\"].unique()\n",
    "for screen_id in screens:\n",
    "    result = create_summary(screen_id)\n",
    "    new_row = [screen_id, result]\n",
    "    s2w_complex.loc[len(s2w_complex)] = new_row\n",
    "    print(f\"{screen_id}: DONE\")\n"
   ]
  },
  {
   "cell_type": "code",
   "execution_count": 16,
   "metadata": {},
   "outputs": [],
   "source": [
    "s2w_complex.to_csv(\"../data/s2w_summarized.csv\")"
   ]
  },
  {
   "cell_type": "code",
   "execution_count": null,
   "metadata": {},
   "outputs": [],
   "source": []
  }
 ],
 "metadata": {
  "kernelspec": {
   "display_name": ".venv",
   "language": "python",
   "name": "python3"
  },
  "language_info": {
   "codemirror_mode": {
    "name": "ipython",
    "version": 3
   },
   "file_extension": ".py",
   "mimetype": "text/x-python",
   "name": "python",
   "nbconvert_exporter": "python",
   "pygments_lexer": "ipython3",
   "version": "3.9.0"
  }
 },
 "nbformat": 4,
 "nbformat_minor": 2
}
