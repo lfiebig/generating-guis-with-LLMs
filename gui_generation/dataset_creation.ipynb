{
 "cells": [
  {
   "cell_type": "code",
   "execution_count": 1,
   "metadata": {},
   "outputs": [],
   "source": [
    "from dotenv import load_dotenv\n",
    "import pandas as pd\n",
    "import os\n",
    "import base64\n",
    "import requests\n",
    "\n",
    "IMAGE_INPUT_FOLDER = \"dataset/\""
   ]
  },
  {
   "cell_type": "code",
   "execution_count": 2,
   "metadata": {},
   "outputs": [],
   "source": [
    "PROMPT = \"\"\"\n",
    "Q: \n",
    "Given a screenshot of a mobile page. Provide a short description of the pages intent. your description has to striclty follow this format:\n",
    "\"A page from {{What type of App the page is from}} presenting {{What is the main intent of the app?}}\"\n",
    "A:\n",
    "A page from a language Learning application, presenting a sentence translation task for the user.\n",
    "\n",
    "Q: \n",
    "Given a screenshot of a mobile page. Provide a short description of the pages intent. your description has to striclty follow this format:\n",
    "\"A page from a {{What type of App the page is from}} presenting {{What is the main intent of the app?}}\"\n",
    "A:\n",
    "A page from an e-commerce app, presenting a List of armchairs to buy.\n",
    "\n",
    "Q: \n",
    "Given a screenshot of a mobile page. Provide a short description of the pages intent. your description has to striclty follow this format:\n",
    "\"A page from a {{What type of App the page is from}} presenting {{What is the main intent of the app?}}\"\n",
    "\n",
    "A:\n",
    "\"\"\""
   ]
  },
  {
   "cell_type": "code",
   "execution_count": 3,
   "metadata": {},
   "outputs": [],
   "source": [
    "def encode_image(id):\n",
    "    image_path = IMAGE_INPUT_FOLDER + f\"{id}.jpg\"\n",
    "    with open(image_path,\"rb\") as image_file:\n",
    "        return base64.b64encode(image_file.read()).decode('utf-8')    \n",
    "   "
   ]
  },
  {
   "cell_type": "code",
   "execution_count": 4,
   "metadata": {},
   "outputs": [],
   "source": [
    "def describe_image(id):\n",
    "    api_key = os.getenv(\"OPENAI_API_KEY\")\n",
    "    base64_image = encode_image(id)\n",
    "\n",
    "    headers = {\n",
    "        \"Content-Type\": \"application/json\",\n",
    "        \"Authorization\": f\"Bearer {api_key}\"\n",
    "    }\n",
    "\n",
    "    payload = {\n",
    "        \"model\": \"gpt-4-vision-preview\",\n",
    "        \"messages\": [\n",
    "        {\n",
    "            \"role\": \"user\",\n",
    "            \"content\": [\n",
    "                {\n",
    "                    \"type\": \"text\",\n",
    "                    \"text\": \n",
    "                    f\"{PROMPT}\"\n",
    "                }\n",
    "            ]\n",
    "        },\n",
    "        {\n",
    "            \"role\": \"user\",\n",
    "            \"content\": [\n",
    "            {\n",
    "                \"type\": \"image_url\",\n",
    "                \"image_url\": {\n",
    "                \"url\": f\"data:image/jpeg;base64,{base64_image}\"\n",
    "                }\n",
    "            }\n",
    "            ]\n",
    "        }\n",
    "        ],\n",
    "        \"max_tokens\": 300\n",
    "    }\n",
    "    response = requests.post(\"https://api.openai.com/v1/chat/completions\", headers=headers, json=payload)\n",
    "    return response"
   ]
  }
 ],
 "metadata": {
  "kernelspec": {
   "display_name": ".venv",
   "language": "python",
   "name": "python3"
  },
  "language_info": {
   "codemirror_mode": {
    "name": "ipython",
    "version": 3
   },
   "file_extension": ".py",
   "mimetype": "text/x-python",
   "name": "python",
   "nbconvert_exporter": "python",
   "pygments_lexer": "ipython3",
   "version": "3.11.0"
  }
 },
 "nbformat": 4,
 "nbformat_minor": 2
}
