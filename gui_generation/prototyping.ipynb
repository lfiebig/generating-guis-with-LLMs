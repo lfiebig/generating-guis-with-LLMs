{
 "cells": [
  {
   "cell_type": "code",
   "execution_count": null,
   "metadata": {},
   "outputs": [],
   "source": [
    "from dotenv import load_dotenv\n",
    "from langchain.chat_models import ChatOpenAI\n",
    "import pandas as pd\n",
    "from langchain.chains import LLMChain\n",
    "from langfuse.callback import CallbackHandler\n",
    "from langchain.llms import OpenAI\n",
    "import os\n",
    "from langchain.chains import SequentialChain\n",
    "\n",
    "\n",
    "load_dotenv()\n",
    "\n",
    "handler = CallbackHandler(os.environ.get(\"LANGFUSE_PUBLIC_KEY\"), os.environ.get(\"LANGFUSE_SECRET_KEY\"))"
   ]
  },
  {
   "cell_type": "code",
   "execution_count": null,
   "metadata": {},
   "outputs": [],
   "source": [
    "MODEL = \"gpt-4-1106-preview\"\n",
    "\n",
    "OUTPUT_FOLDER = \"guis\"\n",
    "DATASET = \"dataset.csv\"\n",
    "\n",
    "df = pd.read_csv(DATASET, sep=\";\")"
   ]
  },
  {
   "cell_type": "code",
   "execution_count": null,
   "metadata": {},
   "outputs": [],
   "source": [
    "from prompts import SUMMARY2REQUIREMENTS_ZS, REQUIREMENTS2IMPLEMENTATION_ZS, IMPLEMETATION2STRUCTURE_ZS, STRUCTURE2CODE_ZS\n",
    "\n",
    "def s2r2e2s2c (summary, temp=0.7):\n",
    "    llm = ChatOpenAI(model_name=MODEL,temperature=temp)\n",
    "    chain_1 = LLMChain(llm=llm, prompt=SUMMARY2REQUIREMENTS_ZS, output_key=\"requirements\")\n",
    "    chain_2 = LLMChain(llm=llm, prompt=REQUIREMENTS2IMPLEMENTATION_ZS, output_key=\"implementation\")\n",
    "    chain_3 = LLMChain(llm=llm, prompt=IMPLEMETATION2STRUCTURE_ZS, output_key=\"structure\")\n",
    "    chain_4 = LLMChain(llm=llm, prompt=STRUCTURE2CODE_ZS, output_key=\"code\")\n",
    "\n",
    "    seq_chain = SequentialChain(\n",
    "        chains = [chain_1,chain_2,chain_3,chain_4],\n",
    "        input_variables=[\"summary\"])\n",
    "    \n",
    "    return(seq_chain.run(summary, callbacks=[handler]))\n"
   ]
  },
  {
   "cell_type": "code",
   "execution_count": null,
   "metadata": {},
   "outputs": [],
   "source": [
    "from prompts import SUMMARY2REQUIRMENTS_FS, REQUIREMENTS2IMPLEMENTATION_FS, IMPLEMETATION2STRUCTURE_FS, STRUCTURE2CODE_FS\n",
    "\n",
    "def s2r2e2s2c_fs (summary, temp=0.7):\n",
    "    llm = ChatOpenAI(model_name=MODEL,temperature=temp)\n",
    "    chain_1 = LLMChain(llm=llm, prompt=SUMMARY2REQUIRMENTS_FS, output_key=\"requirements\")\n",
    "    chain_2 = LLMChain(llm=llm, prompt=REQUIREMENTS2IMPLEMENTATION_FS, output_key=\"implementation\")\n",
    "    chain_3 = LLMChain(llm=llm, prompt=IMPLEMETATION2STRUCTURE_FS, output_key=\"structure\")\n",
    "    chain_4 = LLMChain(llm=llm, prompt=STRUCTURE2CODE_FS, output_key=\"code\")\n",
    "\n",
    "    seq_chain = SequentialChain(\n",
    "        chains = [chain_1,chain_2,chain_3,chain_4],\n",
    "        input_variables=[\"summary\"])\n",
    "    \n",
    "    return(seq_chain.run(summary, callbacks=[handler]))"
   ]
  },
  {
   "cell_type": "code",
   "execution_count": null,
   "metadata": {},
   "outputs": [],
   "source": [
    "from prompts import SUMMARY2STRUCTURE_ZS, STRUCTURE2CODE_ZS\n",
    "\n",
    "def s2s2c (summary, temp=0.7):\n",
    "    llm = ChatOpenAI(model_name=MODEL,temperature=temp)\n",
    "    chain_1 = LLMChain(llm=llm, prompt=SUMMARY2STRUCTURE_ZS, output_key=\"structure\",)\n",
    "    chain_2 = LLMChain(llm=llm, prompt=STRUCTURE2CODE_ZS, output_key=\"code\",)\n",
    "\n",
    "    seq_chain = SequentialChain(\n",
    "        chains = [chain_1,chain_2],\n",
    "        input_variables=[\"summary\"])\n",
    "    \n",
    "    return(seq_chain.run(summary, callbacks=[handler]))"
   ]
  },
  {
   "cell_type": "code",
   "execution_count": null,
   "metadata": {},
   "outputs": [],
   "source": [
    "from prompts import SUMMARY2STRUCTURE_FS, STRUCTURE2CODE_FS\n",
    "\n",
    "def s2s2c_fs (summary, temp=0.7):\n",
    "    llm = ChatOpenAI(model_name=MODEL,temperature=temp)\n",
    "    chain_1 = LLMChain(llm=llm, prompt=SUMMARY2STRUCTURE_FS, output_key=\"structure\",)\n",
    "    chain_2 = LLMChain(llm=llm, prompt=STRUCTURE2CODE_FS, output_key=\"code\",)\n",
    "\n",
    "    seq_chain = SequentialChain(\n",
    "        chains = [chain_1,chain_2],\n",
    "        input_variables=[\"summary\"])\n",
    "    \n",
    "    return(seq_chain.run(summary, callbacks=[handler]))"
   ]
  },
  {
   "cell_type": "code",
   "execution_count": null,
   "metadata": {},
   "outputs": [],
   "source": [
    "from prompts import SUMMARY2CODE_ZS\n",
    "\n",
    "def s2c(summary, temp=0.7):\n",
    "    llm = ChatOpenAI(model_name=MODEL,temperature=temp)\n",
    "    chain = LLMChain(llm=llm, prompt=SUMMARY2CODE_ZS, callbacks=[handler])\n",
    "\n",
    "    try: \n",
    "        response = chain.run(summary=summary, callbacks=[handler])\n",
    "    except Exception as e:\n",
    "        print(e)\n",
    "    \n",
    "    return(response)"
   ]
  },
  {
   "cell_type": "code",
   "execution_count": null,
   "metadata": {},
   "outputs": [],
   "source": [
    "from prompts import CoT_ZS\n",
    "\n",
    "def s2c_xot_zs(summary, temp=0.7):\n",
    "    llm = ChatOpenAI(model_name=MODEL,temperature=temp)\n",
    "    chain = LLMChain(llm=llm, prompt=CoT_ZS, callbacks=[handler])\n",
    "\n",
    "    try: \n",
    "        response = chain.run(summary=summary, callbacks=[handler])\n",
    "    except Exception as e:\n",
    "        print(e)\n",
    "    \n",
    "    return(response)"
   ]
  },
  {
   "cell_type": "code",
   "execution_count": null,
   "metadata": {},
   "outputs": [],
   "source": [
    "from prompts import CoT_FS\n",
    "\n",
    "def s2c_xot_fs(summary, temp=0.7):\n",
    "    llm = ChatOpenAI(model_name=MODEL,temperature=temp)\n",
    "    chain = LLMChain(llm=llm, prompt=CoT_FS, callbacks=[handler])\n",
    "\n",
    "    try: \n",
    "        response = chain.run(summary=summary, callbacks=[handler])\n",
    "    except Exception as e:\n",
    "        print(e)\n",
    "    \n",
    "    return(response)"
   ]
  },
  {
   "cell_type": "code",
   "execution_count": null,
   "metadata": {},
   "outputs": [],
   "source": [
    "import re\n",
    "\n",
    "def extract_html(code, file, folder):\n",
    "    html_content = re.search(r'<!DOCTYPE html>.*</html>', code, re.DOTALL)\n",
    "    extracted_text = html_content.group()\n",
    "    try:\n",
    "        with open(f\"{folder}/{file}.html\", 'w') as f:\n",
    "            f.write(extracted_text)\n",
    "    except Exception as e:\n",
    "        print(f\"{file} failed\")\n",
    "        print(e)"
   ]
  },
  {
   "cell_type": "code",
   "execution_count": null,
   "metadata": {},
   "outputs": [],
   "source": [
    "def prototyping(summary,folder):\n",
    "   \n",
    "    code = s2c(summary)\n",
    "    extract_html(code,\"instruction\",folder)    \n",
    "    \n",
    "    code = s2c_xot_zs(summary)\n",
    "    extract_html(code,\"CoT_zs\",folder)    \n",
    "    \n",
    "    code = s2c_xot_fs(summary)\n",
    "    extract_html(code,\"CoT_fs\",folder)    \n",
    "\n",
    "    code = s2s2c(summary)\n",
    "    extract_html(code,\"simple_pd_zs\",folder)    \n",
    "\n",
    "    code = s2s2c_fs(summary)\n",
    "    extract_html(code,\"simple_pd_fs\",folder)    \n",
    "\n",
    "    code = s2r2e2s2c(summary)\n",
    "    extract_html(code,\"complex_pd_zs\",folder)    \n",
    "\n",
    "    code = s2r2e2s2c_fs(summary)\n",
    "    extract_html(code,\"complex_pd_fs\",folder)    \n",
    "   \n"
   ]
  },
  {
   "cell_type": "code",
   "execution_count": null,
   "metadata": {},
   "outputs": [],
   "source": [
    "def pipeline():\n",
    "    for index, row in df.iterrows():\n",
    "        os.makedirs(f\"{OUTPUT_FOLDER}/{row['UI Number']}\")\n",
    "        prototyping(row['Summary'],f\"{OUTPUT_FOLDER}/{row['UI Number']}\")\n"
   ]
  },
  {
   "cell_type": "code",
   "execution_count": null,
   "metadata": {},
   "outputs": [],
   "source": [
    "pipeline()"
   ]
  }
 ],
 "metadata": {
  "kernelspec": {
   "display_name": ".venv",
   "language": "python",
   "name": "python3"
  },
  "language_info": {
   "codemirror_mode": {
    "name": "ipython",
    "version": 3
   },
   "file_extension": ".py",
   "mimetype": "text/x-python",
   "name": "python",
   "nbconvert_exporter": "python",
   "pygments_lexer": "ipython3",
   "version": "3.11.0"
  }
 },
 "nbformat": 4,
 "nbformat_minor": 2
}
