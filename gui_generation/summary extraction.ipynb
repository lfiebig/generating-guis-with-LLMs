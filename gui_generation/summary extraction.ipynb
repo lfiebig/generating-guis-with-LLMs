{
 "cells": [
  {
   "cell_type": "code",
   "execution_count": 1,
   "metadata": {},
   "outputs": [],
   "source": [
    "import pandas as pd\n",
    "\n",
    "S2W = \"../data/Screen2Words.csv\"\n",
    "\n",
    "s2w = pd.read_csv(S2W)"
   ]
  },
  {
   "cell_type": "code",
   "execution_count": 2,
   "metadata": {},
   "outputs": [],
   "source": [
    "def extract(id):\n",
    "    summaries = s2w[s2w[\"screenId\"]==id][\"summary\"].values\n",
    "    text = \"\"\n",
    "    counter = 1\n",
    "    for summary in summaries:\n",
    "        text = text + \"\\n\" + f\"Summary{counter}: {summary}\"\n",
    "        counter = counter + 1\n",
    "    print(text)\n",
    "\n"
   ]
  },
  {
   "cell_type": "code",
   "execution_count": 4,
   "metadata": {},
   "outputs": [
    {
     "name": "stdout",
     "output_type": "stream",
     "text": [
      "\n",
      "Summary1: page displaying multiple skin products with cost\n",
      "Summary2: screen showing page of an shopping application\n",
      "Summary3: screen showing search bar to find beauty product\n",
      "Summary4: search bar to enter skin care products\n",
      "Summary5: shopping app displays products with search and other options\n"
     ]
    }
   ],
   "source": [
    "extract(20163)"
   ]
  },
  {
   "cell_type": "code",
   "execution_count": null,
   "metadata": {},
   "outputs": [],
   "source": []
  }
 ],
 "metadata": {
  "kernelspec": {
   "display_name": ".venv",
   "language": "python",
   "name": "python3"
  },
  "language_info": {
   "codemirror_mode": {
    "name": "ipython",
    "version": 3
   },
   "file_extension": ".py",
   "mimetype": "text/x-python",
   "name": "python",
   "nbconvert_exporter": "python",
   "pygments_lexer": "ipython3",
   "version": "3.11.0"
  }
 },
 "nbformat": 4,
 "nbformat_minor": 2
}
