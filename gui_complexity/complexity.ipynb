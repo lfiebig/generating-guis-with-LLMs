{
 "cells": [
  {
   "cell_type": "code",
   "execution_count": 32,
   "metadata": {},
   "outputs": [],
   "source": [
    "import pandas as pd\n",
    "\n",
    "LAYOUT = \"../data/all_guis.csv\""
   ]
  },
  {
   "cell_type": "code",
   "execution_count": 33,
   "metadata": {},
   "outputs": [],
   "source": [
    "layout = pd.read_csv(LAYOUT)"
   ]
  },
  {
   "cell_type": "code",
   "execution_count": 48,
   "metadata": {},
   "outputs": [
    {
     "name": "stdout",
     "output_type": "stream",
     "text": [
      "{'bg_color': '#FCFCFA', 'ui_comps': [{'text': 'Instructor', 'resource-id': 'se.perigee.android.seven:id/text1', 'ancestors': ['android.widget.TextView', 'android.view.View', 'java.lang.Object'], 'clickable': False, 'class': 'android.support.v7.widget.AppCompatTextView', 'bounds': [238, 1954, 549, 2051], 'componentLabel': 'Text', 'text_color': '#DB6A58', 'bounds_updated': [244.66666666666666, 1979.3333333333333, 548.6666666666666, 2031.3333333333333], 'text_updated': 'Instructor', 'font_size': 12.765578405174079, 'id': '1264_0'}, {'text': 'Announcer', 'resource-id': 'se.perigee.android.seven:id/text3', 'ancestors': ['android.widget.TextView', 'android.view.View', 'java.lang.Object'], 'clickable': False, 'class': 'android.support.v7.widget.AppCompatTextView', 'bounds': [1036, 1954, 1384, 2051], 'componentLabel': 'Text', 'text_color': '#458786', 'bounds_updated': [1037.3333333333333, 1979.3333333333333, 1384.0, 2031.3333333333333], 'text_updated': 'Announcer', 'font_size': 12.956339739552517, 'id': '1264_1'}, {'text': 'Circuits', 'resource-id': 'se.perigee.android.seven:id/text1', 'ancestors': ['android.widget.TextView', 'android.view.View', 'java.lang.Object'], 'clickable': False, 'class': 'android.support.v7.widget.AppCompatTextView', 'bounds': [238, 1768, 481, 1865], 'componentLabel': 'Text', 'text_color': '#F2664D', 'bounds_updated': [243.33333333333334, 1793.3333333333333, 478.0, 1845.3333333333333], 'text_updated': 'Circuits', 'font_size': 12.765644325458334, 'id': '1264_2'}, {'text': '1', 'resource-id': 'se.perigee.android.seven:id/text3', 'ancestors': ['android.widget.TextView', 'android.view.View', 'java.lang.Object'], 'clickable': False, 'class': 'android.support.v7.widget.AppCompatTextView', 'bounds': [1344, 1768, 1384, 1865], 'componentLabel': 'Text', 'text_color': '#458B8B', 'bounds_updated': [1344, 1768, 1384, 1865], 'text_updated': '1', 'font_size': 12, 'id': '1264_3'}, {'text': 'Workout', 'resource-id': 'se.perigee.android.seven:id/text1', 'ancestors': ['android.widget.TextView', 'android.view.View', 'java.lang.Object'], 'clickable': False, 'class': 'android.support.v7.widget.AppCompatTextView', 'bounds': [238, 1582, 508, 1679], 'componentLabel': 'Text', 'text_color': '#E76D58', 'bounds_updated': [240.66666666666666, 1608.6666666666667, 506.0, 1660.6666666666667], 'text_updated': 'Workout', 'font_size': 12.971390949780634, 'id': '1264_4'}, {'text': 'Full Body', 'resource-id': 'se.perigee.android.seven:id/text3', 'ancestors': ['android.widget.TextView', 'android.view.View', 'java.lang.Object'], 'clickable': False, 'class': 'android.support.v7.widget.AppCompatTextView', 'bounds': [1092, 1582, 1384, 1679], 'componentLabel': 'Text', 'text_color': '#498E8B', 'bounds_updated': [1097.3333333333333, 1608.6666666666667, 1382.6666666666665, 1675.3333333333333], 'text_updated': 'Full Body', 'font_size': 12.779004169732644, 'id': '1264_5'}, {'ancestors': ['android.widget.ImageView', 'android.view.View', 'java.lang.Object'], 'resource-id': 'se.perigee.android.seven:id/image', 'clickable': False, 'class': 'android.support.v7.widget.AppCompatImageView', 'bounds': [56, 1957, 182, 2048], 'componentLabel': 'Image', 'id': '1264_6'}, {'iconClass': 'refresh', 'ancestors': ['android.widget.ImageView', 'android.view.View', 'java.lang.Object'], 'resource-id': 'se.perigee.android.seven:id/image', 'clickable': False, 'class': 'android.support.v7.widget.AppCompatImageView', 'bounds': [56, 1771, 182, 1862], 'componentLabel': 'Icon', 'id': '1264_7'}, {'ancestors': ['android.widget.ImageView', 'android.view.View', 'java.lang.Object'], 'resource-id': 'se.perigee.android.seven:id/image', 'clickable': False, 'class': 'android.support.v7.widget.AppCompatImageView', 'bounds': [56, 1585, 182, 1676], 'componentLabel': 'Image', 'id': '1264_8'}, {'text': 'Track', 'resource-id': 'se.perigee.android.seven:id/bb_bottom_bar_title', 'ancestors': ['android.widget.TextView', 'android.view.View', 'java.lang.Object'], 'clickable': False, 'class': 'android.support.v7.widget.AppCompatTextView', 'bounds': [1197, 2314, 1313, 2386], 'componentLabel': 'Text', 'text_color': '#FFBBA1', 'bounds_updated': [1197, 2314, 1313, 2386], 'text_updated': 'Track', 'font_size': 12, 'id': '1264_9'}, {'ancestors': ['android.widget.ImageView', 'android.view.View', 'java.lang.Object'], 'resource-id': 'se.perigee.android.seven:id/bb_bottom_bar_icon', 'clickable': False, 'class': 'android.support.v7.widget.AppCompatImageView', 'bounds': [1213, 2196, 1297, 2308], 'componentLabel': 'Image', 'id': '1264_10'}, {'text': 'Achievements', 'resource-id': 'se.perigee.android.seven:id/bb_bottom_bar_title', 'ancestors': ['android.widget.TextView', 'android.view.View', 'java.lang.Object'], 'clickable': False, 'class': 'android.support.v7.widget.AppCompatTextView', 'bounds': [746, 2314, 1051, 2386], 'componentLabel': 'Text', 'text_color': '#FFC1A1', 'bounds_updated': [746, 2314, 1051, 2386], 'text_updated': 'Achievements', 'font_size': 12, 'id': '1264_11'}, {'iconClass': 'chat', 'ancestors': ['android.widget.ImageView', 'android.view.View', 'java.lang.Object'], 'resource-id': 'se.perigee.android.seven:id/bb_bottom_bar_icon', 'clickable': False, 'class': 'android.support.v7.widget.AppCompatImageView', 'bounds': [856, 2196, 940, 2308], 'componentLabel': 'Icon', 'id': '1264_12'}, {'text': 'Learn', 'resource-id': 'se.perigee.android.seven:id/bb_bottom_bar_title', 'ancestors': ['android.widget.TextView', 'android.view.View', 'java.lang.Object'], 'clickable': False, 'class': 'android.support.v7.widget.AppCompatTextView', 'bounds': [481, 2314, 601, 2386], 'componentLabel': 'Text', 'text_color': '#FFBF9F', 'bounds_updated': [481, 2314, 601, 2386], 'text_updated': 'Learn', 'font_size': 12, 'id': '1264_13'}, {'iconClass': 'book', 'ancestors': ['android.widget.ImageView', 'android.view.View', 'java.lang.Object'], 'resource-id': 'se.perigee.android.seven:id/bb_bottom_bar_icon', 'clickable': False, 'class': 'android.support.v7.widget.AppCompatImageView', 'bounds': [499, 2196, 583, 2308], 'componentLabel': 'Icon', 'id': '1264_14'}, {'text': 'Workout', 'resource-id': 'se.perigee.android.seven:id/bb_bottom_bar_title', 'ancestors': ['android.widget.TextView', 'android.view.View', 'java.lang.Object'], 'clickable': False, 'class': 'android.support.v7.widget.AppCompatTextView', 'bounds': [80, 2301, 289, 2392], 'componentLabel': 'Text', 'text_color': '#FFFBFF', 'bounds_updated': [81.33333333333333, 2321.0, 288.0, 2361.0], 'text_updated': 'Workout', 'font_size': 10.968067597302651, 'id': '1264_15'}, {'ancestors': ['android.widget.ImageView', 'android.view.View', 'java.lang.Object'], 'resource-id': 'se.perigee.android.seven:id/bb_bottom_bar_icon', 'clickable': False, 'class': 'android.support.v7.widget.AppCompatImageView', 'bounds': [142, 2196, 226, 2301], 'componentLabel': 'Image', 'id': '1264_16'}, {'resource-id': 'se.perigee.android.seven:id/start', 'ancestors': ['android.view.ViewGroup', 'android.view.View', 'java.lang.Object'], 'clickable': True, 'class': 'android.widget.RelativeLayout', 'bounds': [328, 418, 1308, 1398], 'componentLabel': 'Text Button', 'textButtonClass': 'go', 'bg_color': '#FCFCFA', 'text_color': '#469093', 'bounds_text': [328, 418, 1308, 1398], 'text_updated': 'go', 'font_size': 12, 'id': '1264_17'}, {'iconClass': 'more', 'ancestors': ['android.support.v7.widget.AppCompatImageView', 'android.widget.ImageView', 'android.view.View', 'java.lang.Object'], 'bounds': [1300, 98, 1440, 266], 'clickable': True, 'class': 'android.support.v7.widget.ActionMenuPresenter$d', 'componentLabel': 'Icon', 'id': '1264_18'}, {'iconClass': 'info', 'resource-id': 'se.perigee.android.seven:id/action_workout_info', 'ancestors': ['android.support.v7.widget.AppCompatTextView', 'android.widget.TextView', 'android.view.View', 'java.lang.Object'], 'clickable': True, 'class': 'android.support.v7.view.menu.ActionMenuItemView', 'bounds': [1132, 98, 1300, 266], 'componentLabel': 'Icon', 'id': '1264_19'}, {'text': 'Workout', 'ancestors': ['android.widget.TextView', 'android.view.View', 'java.lang.Object'], 'clickable': False, 'class': 'android.support.v7.widget.AppCompatTextView', 'bounds': [56, 135, 321, 228], 'componentLabel': 'Text', 'text_color': '#FFFBFF', 'bounds_updated': [57.333333333333336, 159.0, 320.0, 209.66666666666666], 'text_updated': 'Workout', 'font_size': 12.891216702059502, 'id': '1264_20'}], 'ui_comp_groups': [{'componentLabel': 'Layout', 'bounds': [0, 1536, 1440, 2182], 'class': 'android.widget.LinearLayout', 'bg_color': '#FFFFFF', 'id': '1264_21', 'ui_comp_ids': ['1264_0', '1264_1', '1264_2', '1264_3', '1264_4', '1264_5', '1264_6', '1264_7', '1264_8'], 'ui_comp_group_ids': ['1264_25', '1264_26', '1264_27', '1264_28', '1264_29', '1264_30', '1264_31', '1264_32', '1264_33']}, {'componentLabel': 'Layout', 'bounds': [0, 2182, 1440, 2392], 'class': 'com.roughike.bottombar.BottomBar', 'bg_color': '#BE5D4C', 'id': '1264_22', 'ui_comp_ids': ['1264_9', '1264_10', '1264_11', '1264_12', '1264_13', '1264_14', '1264_15', '1264_16'], 'ui_comp_group_ids': ['1264_23', '1264_34', '1264_35', '1264_36', '1264_37']}, {'componentLabel': 'Layout', 'bounds': [0, 2196, 1440, 2392], 'class': 'android.widget.FrameLayout', 'bg_color': '#BE5D4C', 'id': '1264_23', 'ui_comp_ids': ['1264_9', '1264_10', '1264_11', '1264_12', '1264_13', '1264_14', '1264_15', '1264_16'], 'ui_comp_group_ids': ['1264_34', '1264_35', '1264_36', '1264_37']}, {'componentLabel': 'Toolbar', 'bounds': [0, 84, 1440, 280], 'class': 'android.support.v7.widget.ActionBarContainer', 'bg_color': '#BE5D4C', 'id': '1264_24', 'ui_comp_ids': ['1264_18', '1264_19', '1264_20'], 'ui_comp_group_ids': []}, {'componentLabel': 'Layout', 'bounds': [0, 1912, 1440, 2098], 'class': 'android.widget.LinearLayout', 'bg_color': '#FFFFFF', 'id': '1264_25', 'ui_comp_ids': ['1264_0', '1264_1', '1264_6'], 'ui_comp_group_ids': ['1264_28', '1264_31']}, {'componentLabel': 'Layout', 'bounds': [0, 1726, 1440, 1912], 'class': 'android.widget.LinearLayout', 'bg_color': '#FFFFFF', 'id': '1264_26', 'ui_comp_ids': ['1264_2', '1264_3', '1264_7'], 'ui_comp_group_ids': ['1264_29', '1264_32']}, {'componentLabel': 'Layout', 'bounds': [0, 1540, 1440, 1726], 'class': 'android.widget.LinearLayout', 'bg_color': '#FFFFFF', 'id': '1264_27', 'ui_comp_ids': ['1264_4', '1264_5', '1264_8'], 'ui_comp_group_ids': ['1264_30', '1264_33']}, {'componentLabel': 'Layout', 'bounds': [0, 1912, 1440, 2094], 'class': 'android.widget.FrameLayout', 'bg_color': '#FFFFFF', 'id': '1264_28', 'ui_comp_ids': ['1264_0', '1264_1', '1264_6'], 'ui_comp_group_ids': ['1264_31']}, {'componentLabel': 'Layout', 'bounds': [0, 1726, 1440, 1908], 'class': 'android.widget.FrameLayout', 'bg_color': '#FFFFFF', 'id': '1264_29', 'ui_comp_ids': ['1264_2', '1264_3', '1264_7'], 'ui_comp_group_ids': ['1264_32']}, {'componentLabel': 'Layout', 'bounds': [0, 1540, 1440, 1722], 'class': 'android.widget.FrameLayout', 'bg_color': '#FFFFFF', 'id': '1264_30', 'ui_comp_ids': ['1264_4', '1264_5', '1264_8'], 'ui_comp_group_ids': ['1264_33']}, {'componentLabel': 'Layout', 'bounds': [238, 1954, 1384, 2051], 'class': 'android.widget.LinearLayout', 'bg_color': '#FFFFFF', 'id': '1264_31', 'ui_comp_ids': ['1264_0', '1264_1'], 'ui_comp_group_ids': []}, {'componentLabel': 'Layout', 'bounds': [238, 1768, 1384, 1865], 'class': 'android.widget.LinearLayout', 'bg_color': '#FFFFFF', 'id': '1264_32', 'ui_comp_ids': ['1264_2', '1264_3'], 'ui_comp_group_ids': []}, {'componentLabel': 'Layout', 'bounds': [238, 1582, 1384, 1679], 'class': 'android.widget.LinearLayout', 'bg_color': '#FFFFFF', 'id': '1264_33', 'ui_comp_ids': ['1264_4', '1264_5'], 'ui_comp_group_ids': []}, {'componentLabel': 'Layout', 'bounds': [1077, 2196, 1434, 2392], 'class': 'com.roughike.bottombar.BottomBarTab', 'bg_color': '#BE5D4C', 'id': '1264_34', 'ui_comp_ids': ['1264_9', '1264_10'], 'ui_comp_group_ids': []}, {'componentLabel': 'Layout', 'bounds': [720, 2196, 1077, 2392], 'class': 'com.roughike.bottombar.BottomBarTab', 'bg_color': '#BE5D4C', 'id': '1264_35', 'ui_comp_ids': ['1264_11', '1264_12'], 'ui_comp_group_ids': []}, {'componentLabel': 'Layout', 'bounds': [363, 2196, 720, 2392], 'class': 'com.roughike.bottombar.BottomBarTab', 'bg_color': '#BE5D4C', 'id': '1264_36', 'ui_comp_ids': ['1264_13', '1264_14'], 'ui_comp_group_ids': []}, {'componentLabel': 'Layout', 'bounds': [6, 2196, 363, 2392], 'class': 'com.roughike.bottombar.BottomBarTab', 'bg_color': '#BE5D4C', 'id': '1264_37', 'ui_comp_ids': ['1264_15', '1264_16'], 'ui_comp_group_ids': []}]}\n"
     ]
    }
   ],
   "source": [
    "import ast\n",
    "\n",
    "data_string = layout[layout[\"id\"]==1264][\"data\"].values[0]\n",
    "\n",
    "try:\n",
    "    data = ast.literal_eval(data_string)\n",
    "    print(data)\n",
    "except Exception as e:\n",
    "    print(f\"Error parsing string: {e}\")"
   ]
  },
  {
   "cell_type": "code",
   "execution_count": 67,
   "metadata": {},
   "outputs": [],
   "source": [
    "#TODO: Dictionary should be different form:\n",
    "    #Keys -> comps and comp_groups\n",
    "    #Values -> ids\n",
    "    #empty groups or groups that only contain on group or component should be deleted. group or component that was inside the deleted group should be elevated one layer\n",
    "\n",
    "def generate_structure_dict(data):\n",
    "    # Function to record the deepest level of each component and group\n",
    "    def record_depth(group, current_depth, component_depths, group_depths):\n",
    "        group_depths[group['id']] = max(group_depths.get(group['id'], 0), current_depth)\n",
    "        for comp_id in group.get(\"ui_comp_ids\", []):\n",
    "            component_depths[comp_id] = max(component_depths.get(comp_id, 0), current_depth)\n",
    "        for sub_group_id in group.get(\"ui_comp_group_ids\", []):\n",
    "            sub_group = next((g for g in data[\"ui_comp_groups\"] if g[\"id\"] == sub_group_id), None)\n",
    "            if sub_group:\n",
    "                record_depth(sub_group, current_depth + 1, component_depths, group_depths)\n",
    "\n",
    "    # Function to populate the dictionary at the deepest level they are found\n",
    "    def populate_dict(group, current_depth, component_depths, group_depths, structure_dict):\n",
    "        total_items = len(group.get(\"ui_comp_ids\", [])) + len(group.get(\"ui_comp_group_ids\", []))\n",
    "        \n",
    "        if group_depths[group['id']] == current_depth and total_items > 1:\n",
    "            structure_dict[group['id']] = {}\n",
    "\n",
    "            for comp_id in group.get(\"ui_comp_ids\", []):\n",
    "                if component_depths[comp_id] == current_depth:\n",
    "                    structure_dict[group['id']][comp_id] = current_depth\n",
    "\n",
    "        elif total_items == 1:\n",
    "            if group.get(\"ui_comp_ids\"):\n",
    "                structure_dict[group['ui_comp_ids'][0]] = current_depth\n",
    "            else:\n",
    "                sub_group_id = group['ui_comp_group_ids'][0]\n",
    "                sub_group = next(g for g in data[\"ui_comp_groups\"] if g[\"id\"] == sub_group_id)\n",
    "                populate_dict(sub_group, current_depth, component_depths, group_depths, structure_dict)\n",
    "\n",
    "        for sub_group_id in group.get(\"ui_comp_group_ids\", []):\n",
    "            if total_items != 1 or sub_group_id != group['ui_comp_group_ids'][0]:\n",
    "                sub_group = next((g for g in data[\"ui_comp_groups\"] if g[\"id\"] == sub_group_id), None)\n",
    "                if sub_group:\n",
    "                    if group['id'] not in structure_dict:\n",
    "                        structure_dict[group['id']] = {}\n",
    "                    populate_dict(sub_group, current_depth + 1, component_depths, group_depths, structure_dict[group['id']])\n",
    "\n",
    "    component_depths = {}\n",
    "    group_depths = {}\n",
    "    structure_dict = {}\n",
    "\n",
    "    # Record the deepest level of each component and group\n",
    "    for group in data[\"ui_comp_groups\"]:\n",
    "        if not any(group['id'] in g.get(\"ui_comp_group_ids\", []) for g in data[\"ui_comp_groups\"]):\n",
    "            record_depth(group, 1, component_depths, group_depths)\n",
    "\n",
    "    # Populate the dictionary with components and groups at their deepest level\n",
    "    for group in data[\"ui_comp_groups\"]:\n",
    "        if not any(group['id'] in g.get(\"ui_comp_group_ids\", []) for g in data[\"ui_comp_groups\"]):\n",
    "            populate_dict(group, 1, component_depths, group_depths, structure_dict)\n",
    "\n",
    "    # Add components that are not in any group to the root level of the structure dictionary\n",
    "    for component in data[\"ui_comps\"]:\n",
    "        if component[\"id\"] not in component_depths:\n",
    "            structure_dict[component[\"id\"]] = 0  # Assuming root level depth as 0\n",
    "\n",
    "    return structure_dict\n",
    "\n",
    "# Call the function with your data\n",
    "structure = generate_structure_dict(data)\n"
   ]
  },
  {
   "cell_type": "code",
   "execution_count": 69,
   "metadata": {},
   "outputs": [
    {
     "name": "stdout",
     "output_type": "stream",
     "text": [
      "{   '1264_17': 0,\n",
      "    '1264_21': {   '1264_25': {   '1264_28': {   '1264_31': {   '1264_0': 4,\n",
      "                                                                '1264_1': 4},\n",
      "                                                 '1264_6': 3}},\n",
      "                   '1264_26': {   '1264_29': {   '1264_32': {   '1264_2': 4,\n",
      "                                                                '1264_3': 4},\n",
      "                                                 '1264_7': 3}},\n",
      "                   '1264_27': {   '1264_30': {   '1264_33': {   '1264_4': 4,\n",
      "                                                                '1264_5': 4},\n",
      "                                                 '1264_8': 3}},\n",
      "                   '1264_28': {},\n",
      "                   '1264_29': {},\n",
      "                   '1264_30': {}},\n",
      "    '1264_22': {   '1264_23': {   '1264_34': {'1264_10': 3, '1264_9': 3},\n",
      "                                  '1264_35': {'1264_11': 3, '1264_12': 3},\n",
      "                                  '1264_36': {'1264_13': 3, '1264_14': 3},\n",
      "                                  '1264_37': {'1264_15': 3, '1264_16': 3}}},\n",
      "    '1264_24': {'1264_18': 1, '1264_19': 1, '1264_20': 1}}\n"
     ]
    }
   ],
   "source": [
    "import pprint\n",
    "\n",
    "pp = pprint.PrettyPrinter(indent=4)\n",
    "pp.pprint(structure)"
   ]
  },
  {
   "cell_type": "code",
   "execution_count": 68,
   "metadata": {},
   "outputs": [
    {
     "name": "stdout",
     "output_type": "stream",
     "text": [
      "{'1264_21': {'1264_25': {'1264_28': {'1264_6': 3, '1264_31': {'1264_0': 4, '1264_1': 4}}}, '1264_26': {'1264_29': {'1264_7': 3, '1264_32': {'1264_2': 4, '1264_3': 4}}}, '1264_27': {'1264_30': {'1264_8': 3, '1264_33': {'1264_4': 4, '1264_5': 4}}}, '1264_28': {}, '1264_29': {}, '1264_30': {}}, '1264_22': {'1264_23': {'1264_34': {'1264_9': 3, '1264_10': 3}, '1264_35': {'1264_11': 3, '1264_12': 3}, '1264_36': {'1264_13': 3, '1264_14': 3}, '1264_37': {'1264_15': 3, '1264_16': 3}}}, '1264_24': {'1264_18': 1, '1264_19': 1, '1264_20': 1}, '1264_17': 0}\n"
     ]
    }
   ],
   "source": [
    "print(structure)"
   ]
  },
  {
   "cell_type": "code",
   "execution_count": 70,
   "metadata": {},
   "outputs": [
    {
     "name": "stdout",
     "output_type": "stream",
     "text": [
      "{\n",
      "    \"1264_21\": {\n",
      "        \"1264_25\": {\n",
      "            \"1264_28\": {\n",
      "                \"1264_6\": 3,\n",
      "                \"1264_31\": {\n",
      "                    \"1264_0\": 4,\n",
      "                    \"1264_1\": 4\n",
      "                }\n",
      "            }\n",
      "        },\n",
      "        \"1264_26\": {\n",
      "            \"1264_29\": {\n",
      "                \"1264_7\": 3,\n",
      "                \"1264_32\": {\n",
      "                    \"1264_2\": 4,\n",
      "                    \"1264_3\": 4\n",
      "                }\n",
      "            }\n",
      "        },\n",
      "        \"1264_27\": {\n",
      "            \"1264_30\": {\n",
      "                \"1264_8\": 3,\n",
      "                \"1264_33\": {\n",
      "                    \"1264_4\": 4,\n",
      "                    \"1264_5\": 4\n",
      "                }\n",
      "            }\n",
      "        },\n",
      "        \"1264_28\": {},\n",
      "        \"1264_29\": {},\n",
      "        \"1264_30\": {}\n",
      "    },\n",
      "    \"1264_22\": {\n",
      "        \"1264_23\": {\n",
      "            \"1264_34\": {\n",
      "                \"1264_9\": 3,\n",
      "                \"1264_10\": 3\n",
      "            },\n",
      "            \"1264_35\": {\n",
      "                \"1264_11\": 3,\n",
      "                \"1264_12\": 3\n",
      "            },\n",
      "            \"1264_36\": {\n",
      "                \"1264_13\": 3,\n",
      "                \"1264_14\": 3\n",
      "            },\n",
      "            \"1264_37\": {\n",
      "                \"1264_15\": 3,\n",
      "                \"1264_16\": 3\n",
      "            }\n",
      "        }\n",
      "    },\n",
      "    \"1264_24\": {\n",
      "        \"1264_18\": 1,\n",
      "        \"1264_19\": 1,\n",
      "        \"1264_20\": 1\n",
      "    },\n",
      "    \"1264_17\": 0\n",
      "}\n"
     ]
    }
   ],
   "source": [
    "import json\n",
    "print(json.dumps(structure, indent=4))"
   ]
  },
  {
   "cell_type": "code",
   "execution_count": 42,
   "metadata": {},
   "outputs": [
    {
     "ename": "SyntaxError",
     "evalue": "invalid syntax (3690680801.py, line 1)",
     "output_type": "error",
     "traceback": [
      "\u001b[1;36m  Cell \u001b[1;32mIn[42], line 1\u001b[1;36m\u001b[0m\n\u001b[1;33m    cangrejo mi tortuga mi animales mis | icon | checkbutton | Skip button | Text Input | Translate this sentence | quit Button\u001b[0m\n\u001b[1;37m             ^\u001b[0m\n\u001b[1;31mSyntaxError\u001b[0m\u001b[1;31m:\u001b[0m invalid syntax\n"
     ]
    }
   ],
   "source": [
    "cangrejo mi tortuga mi animales mis | icon | checkbutton | Skip button | Text Input | Translate this sentence | quit Button "
   ]
  },
  {
   "cell_type": "code",
   "execution_count": null,
   "metadata": {},
   "outputs": [],
   "source": []
  }
 ],
 "metadata": {
  "kernelspec": {
   "display_name": ".venv",
   "language": "python",
   "name": "python3"
  },
  "language_info": {
   "codemirror_mode": {
    "name": "ipython",
    "version": 3
   },
   "file_extension": ".py",
   "mimetype": "text/x-python",
   "name": "python",
   "nbconvert_exporter": "python",
   "pygments_lexer": "ipython3",
   "version": "3.9.0"
  }
 },
 "nbformat": 4,
 "nbformat_minor": 2
}
