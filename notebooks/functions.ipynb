{
 "cells": [
  {
   "cell_type": "code",
   "execution_count": 32,
   "metadata": {},
   "outputs": [],
   "source": [
    "from dotenv import load_dotenv\n",
    "from langchain.chat_models import ChatOpenAI\n",
    "from langchain.chains import LLMChain\n",
    "from langchain.prompts import PromptTemplate\n",
    "import pandas as pd\n",
    "from langfuse.callback import CallbackHandler\n",
    "import os\n",
    "\n",
    "load_dotenv()\n",
    "\n",
    "handler = CallbackHandler(os.environ.get(\"LANGFUSE_PUBLIC_KEY\"), os.environ.get(\"LANGFUSE_SECRET_KEY\"))"
   ]
  },
  {
   "cell_type": "code",
   "execution_count": 33,
   "metadata": {},
   "outputs": [],
   "source": [
    "MODEL = \"gpt-3.5-turbo\"\n",
    "\n",
    "OUTPUT_FOLDER = \"../generated_GUIs/\"\n",
    "\n",
    "IMAGE_INPUT_FOLDER = \"../data/\"\n",
    "\n",
    "CREATION_PROMPT = PromptTemplate(\n",
    "    input_variables=[\"summary\"],\n",
    "    template= \"\"\"create the HTML code for a Mobilepage, \n",
    "    with a bit of styling, that represents following functionality: \n",
    "    {summary}.\"\"\"\n",
    ")\n",
    "\n",
    "SUMMARY_PROMPT = PromptTemplate(\n",
    "    input_variables=[\"summaries\"],\n",
    "    template=\"\"\"Given a collection of Screen summaries, which describe the same screen:\n",
    "        {summaries}.\n",
    "        \n",
    "        Extract the provided information of the screen and formulate a new description.\"\"\"\n",
    ")\n",
    "\n",
    "S2W = pd.read_csv(\"../data/Screen2Words.csv\")\n",
    "S2W = S2W.drop('Unnamed: 0', axis=1)"
   ]
  },
  {
   "cell_type": "code",
   "execution_count": 23,
   "metadata": {},
   "outputs": [],
   "source": [
    "#function for Creating a GUI based on a given description\n",
    "def create_gui(id, summary, prompt=CREATION_PROMPT, temp=0):\n",
    "    llm = ChatOpenAI(model_name=MODEL,temperature=temp)\n",
    "\n",
    "    chain = LLMChain(llm=llm, prompt=prompt, callbacks=[handler])\n",
    "\n",
    "    try: \n",
    "        response = chain.run(summary=summary, callbacks=[handler])\n",
    "    except Exception as e:\n",
    "        print(e)\n",
    "    \n",
    "    print(response)\n",
    "    with open(OUTPUT_FOLDER + f\"{id}.html\", 'w') as f:\n",
    "        f.write(response)\n"
   ]
  },
  {
   "cell_type": "code",
   "execution_count": 34,
   "metadata": {},
   "outputs": [],
   "source": [
    "from langchain.schema.runnable import RunnablePassthrough\n",
    "from langchain.schema import StrOutputParser\n",
    "\n",
    "#Sequential chain, of summarizing the Screen2Words Summaries into one and creating a GUI\n",
    "def create_gui_S2W(id, summaries, temp=0.5):\n",
    "    llm = ChatOpenAI(model_name=MODEL, temperature=temp)\n",
    "    \n",
    "    summary_chain = SUMMARY_PROMPT | llm | StrOutputParser()\n",
    "    creation_chain = CREATION_PROMPT | llm | StrOutputParser()\n",
    "    \n",
    "    chain = {\"summary\": summary_chain} | RunnablePassthrough.assign(creation=creation_chain)\n",
    "    \n",
    "    summaries_str = \"\\n\".join([f\"Summary {i+1}: {summary}\" for i, summary in enumerate(summaries)])\n",
    "    \n",
    "    try: \n",
    "        response = chain.invoke({\"summaries\": summaries_str}, config={\"callbacks\":[handler]})\n",
    "    except Exception as e:\n",
    "        print(e)\n",
    "    \n",
    "    print(response)\n",
    "    with open(OUTPUT_FOLDER + f\"{id}_S2W.html\", 'w') as f:\n",
    "        f.write(response.get('creation'))\n",
    "    return response"
   ]
  },
  {
   "cell_type": "code",
   "execution_count": 35,
   "metadata": {},
   "outputs": [
    {
     "name": "stdout",
     "output_type": "stream",
     "text": [
      "{'summary': 'The screen is a fitness app page that offers various workout options to set. It also includes a timer and different features related to exercise. Additionally, there is a pop-up providing information about body workouts.', 'creation': '<!DOCTYPE html>\\n<html>\\n<head>\\n<style>\\nbody {\\n  font-family: Arial, sans-serif;\\n  background-color: #f2f2f2;\\n}\\n\\n.container {\\n  max-width: 600px;\\n  margin: 0 auto;\\n  padding: 20px;\\n  background-color: white;\\n  border-radius: 10px;\\n  box-shadow: 0 0 10px rgba(0,0,0,0.1);\\n}\\n\\nh1 {\\n  text-align: center;\\n  color: #333333;\\n}\\n\\n.workout-options {\\n  display: flex;\\n  flex-wrap: wrap;\\n  justify-content: space-between;\\n  margin-top: 20px;\\n}\\n\\n.workout-card {\\n  width: 45%;\\n  padding: 10px;\\n  background-color: #f9f9f9;\\n  border-radius: 5px;\\n  box-shadow: 0 0 5px rgba(0,0,0,0.1);\\n  margin-bottom: 10px;\\n}\\n\\n.workout-card:hover {\\n  background-color: #e9e9e9;\\n}\\n\\n.timer {\\n  text-align: center;\\n  margin-top: 20px;\\n}\\n\\n.timer span {\\n  font-size: 24px;\\n  color: #333333;\\n}\\n\\n.popup {\\n  position: fixed;\\n  top: 0;\\n  left: 0;\\n  width: 100%;\\n  height: 100%;\\n  background-color: rgba(0,0,0,0.5);\\n  display: flex;\\n  align-items: center;\\n  justify-content: center;\\n  z-index: 9999;\\n  opacity: 0;\\n  pointer-events: none;\\n  transition: opacity 0.3s ease-in-out;\\n}\\n\\n.popup.active {\\n  opacity: 1;\\n  pointer-events: auto;\\n}\\n\\n.popup-content {\\n  max-width: 400px;\\n  padding: 20px;\\n  background-color: white;\\n  border-radius: 5px;\\n  box-shadow: 0 0 10px rgba(0,0,0,0.3);\\n}\\n\\n.popup h2 {\\n  color: #333333;\\n}\\n\\n.popup p {\\n  color: #666666;\\n}\\n\\n.popup-close {\\n  position: absolute;\\n  top: 10px;\\n  right: 10px;\\n  color: #999999;\\n  cursor: pointer;\\n}\\n</style>\\n</head>\\n<body>\\n<div class=\"container\">\\n  <h1>Fitness App</h1>\\n  \\n  <div class=\"workout-options\">\\n    <div class=\"workout-card\">\\n      <h2>Cardio Workout</h2>\\n      <p>Improve cardiovascular health with high-intensity exercises.</p>\\n    </div>\\n    <div class=\"workout-card\">\\n      <h2>Strength Training</h2>\\n      <p>Build strength and tone your muscles with resistance exercises.</p>\\n    </div>\\n    <div class=\"workout-card\">\\n      <h2>Yoga</h2>\\n      <p>Enhance flexibility, balance, and mindfulness with yoga poses.</p>\\n    </div>\\n    <div class=\"workout-card\">\\n      <h2>Pilates</h2>\\n      <p>Strengthen your core and improve posture with Pilates exercises.</p>\\n    </div>\\n  </div>\\n  \\n  <div class=\"timer\">\\n    <span>00:00:00</span>\\n  </div>\\n  \\n  <div class=\"popup\">\\n    <div class=\"popup-content\">\\n      <h2>Body Workouts</h2>\\n      <p>Explore various body workouts to target specific muscle groups and achieve your fitness goals.</p>\\n      <span class=\"popup-close\">&times;</span>\\n    </div>\\n  </div>\\n</div>\\n\\n<script>\\n// JavaScript code for timer functionality\\n</script>\\n</body>\\n</html>'}\n"
     ]
    }
   ],
   "source": [
    "descriptions = S2W[S2W[\"screenId\"]==1264][\"summary\"].values\n",
    "\n",
    "response = create_gui_S2W(1264, descriptions)"
   ]
  },
  {
   "cell_type": "code",
   "execution_count": 36,
   "metadata": {},
   "outputs": [
    {
     "data": {
      "text/plain": [
       "array(['page displaying different workout options to set',\n",
       "       'page displaying to start exercise',\n",
       "       'page displaying to start workout',\n",
       "       'pop-up displaying about body work outs',\n",
       "       'timer and different features of a fitness app are displaying'],\n",
       "      dtype=object)"
      ]
     },
     "execution_count": 36,
     "metadata": {},
     "output_type": "execute_result"
    }
   ],
   "source": [
    "S2W[S2W[\"screenId\"]==1264][\"summary\"].values"
   ]
  },
  {
   "cell_type": "code",
   "execution_count": 14,
   "metadata": {},
   "outputs": [
    {
     "name": "stdout",
     "output_type": "stream",
     "text": [
      "<!DOCTYPE html>\n",
      "<html>\n",
      "<head>\n",
      "    <title>Flight Booking</title>\n",
      "    <style>\n",
      "        body {\n",
      "            font-family: Arial, sans-serif;\n",
      "            background-color: #f2f2f2;\n",
      "        }\n",
      "        \n",
      "        .container {\n",
      "            max-width: 600px;\n",
      "            margin: 0 auto;\n",
      "            padding: 20px;\n",
      "            background-color: #fff;\n",
      "            border-radius: 5px;\n",
      "            box-shadow: 0 2px 5px rgba(0, 0, 0, 0.1);\n",
      "        }\n",
      "        \n",
      "        h1 {\n",
      "            text-align: center;\n",
      "            margin-bottom: 20px;\n",
      "        }\n",
      "        \n",
      "        label {\n",
      "            display: block;\n",
      "            margin-bottom: 10px;\n",
      "            font-weight: bold;\n",
      "        }\n",
      "        \n",
      "        input[type=\"text\"],\n",
      "        select {\n",
      "            width: 100%;\n",
      "            padding: 10px;\n",
      "            border: 1px solid #ccc;\n",
      "            border-radius: 4px;\n",
      "            box-sizing: border-box;\n",
      "            margin-bottom: 20px;\n",
      "        }\n",
      "        \n",
      "        .search-button {\n",
      "            width: 100%;\n",
      "            padding: 10px;\n",
      "            background-color: #4CAF50;\n",
      "            color: #fff;\n",
      "            border: none;\n",
      "            border-radius: 4px;\n",
      "            cursor: pointer;\n",
      "        }\n",
      "        \n",
      "        .recent-searches {\n",
      "            margin-top: 30px;\n",
      "        }\n",
      "        \n",
      "        .recent-searches h2 {\n",
      "            margin-bottom: 10px;\n",
      "        }\n",
      "        \n",
      "        .recent-searches ul {\n",
      "            list-style-type: none;\n",
      "            padding: 0;\n",
      "        }\n",
      "        \n",
      "        .recent-searches li {\n",
      "            margin-bottom: 5px;\n",
      "        }\n",
      "    </style>\n",
      "</head>\n",
      "<body>\n",
      "    <div class=\"container\">\n",
      "        <h1>Flight Booking</h1>\n",
      "        <label for=\"departure\">Departure City:</label>\n",
      "        <input type=\"text\" id=\"departure\" name=\"departure\" placeholder=\"Enter departure city\">\n",
      "        \n",
      "        <label for=\"arrival\">Arrival City:</label>\n",
      "        <input type=\"text\" id=\"arrival\" name=\"arrival\" placeholder=\"Enter arrival city\">\n",
      "        \n",
      "        <label for=\"date\">Travel Date:</label>\n",
      "        <input type=\"text\" id=\"date\" name=\"date\" placeholder=\"Select travel date\">\n",
      "        \n",
      "        <label for=\"passengers\">Number of Passengers:</label>\n",
      "        <select id=\"passengers\" name=\"passengers\">\n",
      "            <option value=\"1\">1</option>\n",
      "            <option value=\"2\">2</option>\n",
      "            <option value=\"3\">3</option>\n",
      "            <option value=\"4\">4</option>\n",
      "            <option value=\"5\">5</option>\n",
      "        </select>\n",
      "        \n",
      "        <label for=\"class\">Class of Service:</label>\n",
      "        <select id=\"class\" name=\"class\">\n",
      "            <option value=\"economy\">Economy</option>\n",
      "            <option value=\"business\">Business</option>\n",
      "            <option value=\"first\">First</option>\n",
      "        </select>\n",
      "        \n",
      "        <label for=\"flight-type\">Flight Type:</label>\n",
      "        <input type=\"radio\" id=\"one-way\" name=\"flight-type\" value=\"one-way\" checked>\n",
      "        <label for=\"one-way\">One-way</label>\n",
      "        <input type=\"radio\" id=\"round-trip\" name=\"flight-type\" value=\"round-trip\">\n",
      "        <label for=\"round-trip\">Round Trip</label>\n",
      "        \n",
      "        <input type=\"submit\" value=\"Search\" class=\"search-button\">\n",
      "        \n",
      "        <div class=\"recent-searches\">\n",
      "            <h2>Recent Searches</h2>\n",
      "            <ul>\n",
      "                <li>Flight from New York to Los Angeles</li>\n",
      "                <li>Flight from London to Paris</li>\n",
      "                <li>Flight from Tokyo to Sydney</li>\n",
      "            </ul>\n",
      "        </div>\n",
      "    </div>\n",
      "</body>\n",
      "</html>\n"
     ]
    }
   ],
   "source": [
    "DESCRIPTION = \"This is a flight booking screen from a travel app where users can search for flights, specifying departure and arrival cities, travel dates, number of passengers, and class of service. It also offers options for round trip or one-way flights and displays a section for recent searches\"\n",
    "\n",
    "create_gui(377, DESCRIPTION)"
   ]
  }
 ],
 "metadata": {
  "kernelspec": {
   "display_name": ".venv",
   "language": "python",
   "name": "python3"
  },
  "language_info": {
   "codemirror_mode": {
    "name": "ipython",
    "version": 3
   },
   "file_extension": ".py",
   "mimetype": "text/x-python",
   "name": "python",
   "nbconvert_exporter": "python",
   "pygments_lexer": "ipython3",
   "version": "3.9.0"
  }
 },
 "nbformat": 4,
 "nbformat_minor": 2
}
