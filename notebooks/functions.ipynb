{
 "cells": [
  {
   "cell_type": "code",
   "execution_count": 1,
   "metadata": {},
   "outputs": [],
   "source": [
    "from dotenv import load_dotenv\n",
    "from langchain.chat_models import ChatOpenAI\n",
    "from langchain.chains import LLMChain\n",
    "from langchain.prompts import PromptTemplate\n",
    "import pandas as pd\n",
    "from langfuse.callback import CallbackHandler\n",
    "import os\n",
    "\n",
    "load_dotenv()\n",
    "\n",
    "handler = CallbackHandler(os.environ.get(\"LANGFUSE_PUBLIC_KEY\"), os.environ.get(\"LANGFUSE_SECRET_KEY\"))"
   ]
  },
  {
   "cell_type": "code",
   "execution_count": 2,
   "metadata": {},
   "outputs": [],
   "source": [
    "MODEL = \"gpt-3.5-turbo\"\n",
    "\n",
    "OUTPUT_FOLDER = \"../generated_GUIs/\"\n",
    "\n",
    "IMAGE_INPUT_FOLDER = \"../data/\"\n",
    "\n",
    "CREATION_PROMPT = PromptTemplate(\n",
    "    input_variables=[\"summary\"],\n",
    "    template= \"\"\"create the HTML code for a Mobilepage, \n",
    "    with a bit of styling, that represents following functionality: \n",
    "    {summary}.\"\"\"\n",
    ")\n",
    "\n",
    "SUMMARY_PROMPT = PromptTemplate(\n",
    "    input_variables=[\"summaries\"],\n",
    "    template=\"\"\"Given a collection of Screen summaries, which describe the same screen:\n",
    "        {summaries}.\n",
    "        \n",
    "        Extract the provided information of the screen and formulate a new description. make sure, that no information is lost\"\"\"\n",
    ")\n",
    "\n",
    "S2W = pd.read_csv(\"../data/Screen2Words.csv\")\n",
    "S2W = S2W.drop('Unnamed: 0', axis=1)"
   ]
  },
  {
   "cell_type": "code",
   "execution_count": 3,
   "metadata": {},
   "outputs": [],
   "source": [
    "#function for Creating a GUI based on a given description\n",
    "def create_gui(id, summary, prompt=CREATION_PROMPT, temp=0):\n",
    "    llm = ChatOpenAI(model_name=MODEL,temperature=temp)\n",
    "\n",
    "    chain = LLMChain(llm=llm, prompt=prompt, callbacks=[handler])\n",
    "\n",
    "    try: \n",
    "        response = chain.run(summary=summary, callbacks=[handler])\n",
    "    except Exception as e:\n",
    "        print(e)\n",
    "    \n",
    "    print(response)\n",
    "    with open(OUTPUT_FOLDER + f\"{id}.html\", 'w') as f:\n",
    "        f.write(response)\n"
   ]
  },
  {
   "cell_type": "code",
   "execution_count": 4,
   "metadata": {},
   "outputs": [
    {
     "name": "stdout",
     "output_type": "stream",
     "text": [
      "<!DOCTYPE html>\n",
      "<html>\n",
      "<head>\n",
      "    <title>Pitch Application</title>\n",
      "    <style>\n",
      "        body {\n",
      "            background-color: #FF69B4;\n",
      "        }\n",
      "        \n",
      "        .container {\n",
      "            display: grid;\n",
      "            grid-template-columns: repeat(3, 1fr);\n",
      "            gap: 10px;\n",
      "            padding: 20px;\n",
      "        }\n",
      "        \n",
      "        .button {\n",
      "            background-color: white;\n",
      "            border: none;\n",
      "            border-radius: 5px;\n",
      "            padding: 20px;\n",
      "            font-size: 24px;\n",
      "            text-align: center;\n",
      "            cursor: pointer;\n",
      "        }\n",
      "        \n",
      "        .advertisement {\n",
      "            background-color: white;\n",
      "            padding: 10px;\n",
      "            text-align: center;\n",
      "            font-size: 18px;\n",
      "        }\n",
      "    </style>\n",
      "</head>\n",
      "<body>\n",
      "    <div class=\"container\">\n",
      "        <button class=\"button\">0</button>\n",
      "        <button class=\"button\">1</button>\n",
      "        <button class=\"button\">2</button>\n",
      "        <button class=\"button\">0</button>\n",
      "        <button class=\"button\">1</button>\n",
      "        <button class=\"button\">2</button>\n",
      "        <button class=\"button\">0</button>\n",
      "        <button class=\"button\">1</button>\n",
      "        <button class=\"button\">2</button>\n",
      "    </div>\n",
      "    <div class=\"advertisement\">\n",
      "        <p>Advertisement:</p>\n",
      "        <p>Gutter and Downspout Cleaning</p>\n",
      "        <p>Full Service Lawn and Landscape Care</p>\n",
      "        <p>Visit <a href=\"https://www.pride-outdoor.com\">Pride-Outdoor.com</a> for more information.</p>\n",
      "    </div>\n",
      "</body>\n",
      "</html>\n"
     ]
    }
   ],
   "source": [
    "DESCRIPTION = \"The displayed mobile screen is the home page of an application themed around the concept of 'Pitch', presenting a grid of interactive buttons with numbers for selection. This interface contains a variety of numbers including multiple instances of '0', '1', and '2' set against a vibrant pink background, offering users the functionality to perhaps select or input a pitch value. At the bottom of the screen, there is also an advertisement for 'Gutter and Downspout Cleaning' and 'full service lawn and landscape care' from Pride-Outdoor.com.\"\n",
    "\n",
    "create_gui(377, DESCRIPTION)"
   ]
  },
  {
   "cell_type": "code",
   "execution_count": null,
   "metadata": {},
   "outputs": [],
   "source": []
  }
 ],
 "metadata": {
  "kernelspec": {
   "display_name": ".venv",
   "language": "python",
   "name": "python3"
  },
  "language_info": {
   "codemirror_mode": {
    "name": "ipython",
    "version": 3
   },
   "file_extension": ".py",
   "mimetype": "text/x-python",
   "name": "python",
   "nbconvert_exporter": "python",
   "pygments_lexer": "ipython3",
   "version": "3.9.0"
  }
 },
 "nbformat": 4,
 "nbformat_minor": 2
}
