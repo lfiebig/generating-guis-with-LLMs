{
 "cells": [
  {
   "cell_type": "code",
   "execution_count": 113,
   "metadata": {},
   "outputs": [],
   "source": [
    "from dotenv import load_dotenv\n",
    "import pandas as pd\n",
    "import os\n",
    "import base64\n",
    "import requests"
   ]
  },
  {
   "cell_type": "code",
   "execution_count": 114,
   "metadata": {},
   "outputs": [],
   "source": [
    "load_dotenv()\n",
    "\n",
    "IMAGE_INPUT_FOLDER = \"../data/s2w_sample1/\"\n",
    "\n",
    "S2W = \"../data/s2w_summarized.csv\"\n",
    "\n",
    "\n",
    "s2w = pd.read_csv(S2W)\n",
    "s2w.drop(columns=[\"Unnamed: 0\"], inplace=True)"
   ]
  },
  {
   "cell_type": "code",
   "execution_count": 115,
   "metadata": {},
   "outputs": [],
   "source": [
    "def encode_image(id):\n",
    "    image_path = IMAGE_INPUT_FOLDER + f\"{id}.jpg\"\n",
    "    with open(image_path,\"rb\") as image_file:\n",
    "        return base64.b64encode(image_file.read()).decode('utf-8')    \n",
    "   "
   ]
  },
  {
   "cell_type": "code",
   "execution_count": 116,
   "metadata": {},
   "outputs": [],
   "source": [
    "def describe_image(id):\n",
    "    api_key = os.getenv(\"OPENAI_API_KEY\")\n",
    "    base64_image = encode_image(id)\n",
    "\n",
    "    headers = {\n",
    "        \"Content-Type\": \"application/json\",\n",
    "        \"Authorization\": f\"Bearer {api_key}\"\n",
    "    }\n",
    "\n",
    "    payload = {\n",
    "        \"model\": \"gpt-4-vision-preview\",\n",
    "        \"messages\": [\n",
    "        {\n",
    "            \"role\": \"user\",\n",
    "            \"content\": [\n",
    "                {\n",
    "                    \"type\": \"text\",\n",
    "                    \"text\": \n",
    "                    \"\"\"\n",
    "                    Q: Given a screenshot of a mobile page. Provide a text in the form of a list, that describes the functional requirements of the given mobile page. Focus solely on the required functionality. Ignore Layout and design characteristics. Include only information, that is visible in the screenshot, by Ignoring the android status bar at the top of the screenshot and the android navigation bar at the bottom. If a popup is visible, ignore everything else but the the popup.\n",
    "\n",
    "                    A:\n",
    "                    The mobile page is a language-learning application with the following functionalities:\n",
    "\n",
    "                    1. Display a sentence in a foreign language that the user is expected to translate.\n",
    "                    2. Provide audio playback of the sentence for the user to hear the pronunciation.\n",
    "                    3. Allow the user to input their translation into a text field.\n",
    "                    4. Submit the translation for verification by clicking a 'CHECK' button.\n",
    "                    5. Offer an option to skip the current sentence and move to the next one with a 'SKIP' button.\n",
    "                    6. Display a progress bar or indicator to show the user's progress through the lesson or activity.\n",
    "\n",
    "                    Q: Given a screenshot of a mobile page. Provide a text in the form of a list, that describes the functional requirements of the given mobile page. Focus solely on the required functionality. Ignore Layout and design characteristics. Include only information, that is visible in the screenshot, by Ignoring the android status bar at the top of the screenshot and the android navigation bar at the bottom. If a popup is visible, ignore everything else but the the popup.\n",
    "\n",
    "                    A:\n",
    "                    The mobile page is a fitness app with the following functionalities:\n",
    "\n",
    "                    1. Start a workout session by interacting with a 'START WORKOUT' button.\n",
    "                    2. Select different types of workouts, such as \"Full Body\" workouts, as an option for the user.\n",
    "                    3. Choose the number of circuits the user wishes to perform during the workout.\n",
    "                    4. Select an instructor or possibly a type of guidance for the workout.\n",
    "                    5. Provide access to a navigation menu at the bottom, with tabs for: 'Workout' (where the user is currently) to presumably start and configure workouts. 'Learn' to offer educational content or instructions. 'Achievements' to show the user's progress or rewards. 'Track' to presumably monitor the user's workout activity or progress over time. \n",
    "\n",
    "                    Q: Given a screenshot of a mobile page. Provide a text in the form of a list, that describes the functional requirements of the given mobile page. Focus solely on the required functionality. Ignore Layout and design characteristics. Include only information, that is visible in the screenshot, by Ignoring the android status bar at the top of the screenshot and the android navigation bar at the bottom. If a popup is visible, ignore everything else but the the popup.\n",
    "\n",
    "                    A:                    \n",
    "                    \"\"\"\n",
    "                }\n",
    "            ]\n",
    "        },\n",
    "        {\n",
    "            \"role\": \"user\",\n",
    "            \"content\": [\n",
    "            {\n",
    "                \"type\": \"image_url\",\n",
    "                \"image_url\": {\n",
    "                \"url\": f\"data:image/jpeg;base64,{base64_image}\"\n",
    "                }\n",
    "            }\n",
    "            ]\n",
    "        }\n",
    "        ],\n",
    "        \"max_tokens\": 300\n",
    "    }\n",
    "    response = requests.post(\"https://api.openai.com/v1/chat/completions\", headers=headers, json=payload)\n",
    "    return response"
   ]
  },
  {
   "cell_type": "code",
   "execution_count": 117,
   "metadata": {},
   "outputs": [
    {
     "name": "stdout",
     "output_type": "stream",
     "text": [
      "300: DONE\n",
      "33: DONE\n",
      "486: DONE\n",
      "494: DONE\n",
      "498: DONE\n",
      "549: DONE\n",
      "70: DONE\n",
      "761: DONE\n",
      "596: DONE\n",
      "495: DONE\n"
     ]
    }
   ],
   "source": [
    "screens = s2w[\"screenId\"]\n",
    "for screen_id in screens:\n",
    "    result = describe_image(screen_id)\n",
    "    s2w.loc[s2w['screenId'] == screen_id, 'llm_summary'] = result.json().get(\"choices\")[0].get(\"message\").get(\"content\")\n",
    "    print(f\"{screen_id}: DONE\")"
   ]
  },
  {
   "cell_type": "code",
   "execution_count": 118,
   "metadata": {},
   "outputs": [],
   "source": [
    "s2w.to_csv(\"../data/s2w_summarized.csv\")"
   ]
  },
  {
   "cell_type": "code",
   "execution_count": 119,
   "metadata": {},
   "outputs": [
    {
     "data": {
      "text/plain": [
       "array(['Based on the screenshot provided, the mobile page is an educational app focused on teaching JavaScript with the following functionalities:\\n\\n1. Present a multiple-choice question related to JavaScript to the user.\\n2. Offer several answer options in radio button format for the user to select.\\n3. Allow the user to submit their selected answer for validation.\\n4. Display feedback indicating whether the submitted answer is correct or incorrect, in this case by displaying \"Wrong\" with an \"X\" symbol.\\n5. Provide navigation options for the user to either return to the previous screen or question with a \\'BACK\\' button or to retry the question with a \\'TRY AGAIN\\' button.\\n6. Show a hint that there are comments related to the question by displaying a comment count (\"26 COMMENTS\"), suggesting user interaction or discussion is possible.\\n7. Include additional action options on the page such as \\'UNLOCK\\' and \\'SHARE\\', indicating possible features such as sharing content with others or unlocking further content.\\n\\nPlease remember that these points are inferred only from what is visible in the screenshot and might not fully represent the complete functionality of the app.',\n",
       "       'Based on the screenshot provided, the mobile page appears to be a game or an app with a grid-based numeric puzzle, similar to the game \"2048.\" The functional requirements of this page are as follows:\\n\\n1. Display a grid with numbered tiles that the user can interact with.\\n2. Allow the user to swipe in four directions (up, down, left, and right) to combine tiles with the same number, which presumably double in value upon combining.\\n3. Generate new numbered tiles on the grid after each swipe action.\\n4. Update the displayed numbers on the tiles as they are combined and new tiles appear.\\n5. Display a title or category of the game or activity at the top of the page (labeled \"Pitch\" in this case).\\n6. Provide navigation options: a back button on the top left corner to presumably return to a previous screen or menu.\\n\\nThe android status bar at the top and the android navigation bar at the bottom of the screenshot, as well as the advertisement at the bottom, are to be ignored based on your instructions.',\n",
       "       'The mobile page is displaying a popup with the following functionalities:\\n\\n1. Inform the user of a failed download attempt with a message \"Download failed\".\\n2. Provide visual cues or buttons within the popup that may allow the user to interact further, although their specific functions are not discernible from the image provided.',\n",
       "       \"The mobile page is a playlist creation interface with the following functionalities:\\n\\n1. Allow the user to create a new playlist, as indicated by the 'Create playlist' title.\\n2. Provide a text input field for the user to enter the name of the new playlist.\\n3. Display the current input inside the text field ('1233' is visible as the current input).\\n4. Include a confirmation action, likely the checkmark in the top right, to save or confirm the creation of the playlist with the entered name.\\n5. Feature a navigation arrow in the top left, suggesting the ability to go back or cancel the playlist creation process.\",\n",
       "       'The screenshot shows a podcast application with a popup that has the following functionalities:\\n\\n1. Toggle option to \"Delete Played Episodes\" which appears to either enable or disable automatic deletion of episodes that have been played.\\n2. An option to \"Keep 1 Auto-downloads\" with increment (+) and decrement (-) buttons to adjust the number of automatic downloads kept.\\n3. A button labeled \"Delete Podcast,\" allowing the user to remove the podcast from their list.\\n4. A close button (X) at the top of the popup to dismiss the popup and return to the previous screen.',\n",
       "       'The mobile page is a settings screen of an application with the following functionalities:\\n\\n1. Toggle the time format between 12-hour and 24-hour modes.\\n2. Enable or disable prayer notifications by interacting with a checkbox.\\n3. Activate vibration for notifications with an on/off toggle.\\n4. Select a notification tone for prayers from the system tones.\\n5. Enable or disable the Fajr alarm by interacting with a checkbox.\\n6. Adjust the Fajr alarm time by accessing a sub-menu or option.\\n7. Activate vibration for the Fajr alarm with an on/off toggle.\\n8. Select a Fajr alarm tone from the system tones.',\n",
       "       'The mobile page displayed appears to be a video gallery or library app with the following functionalities:\\n\\n1. Exhibit a list or grid of video thumbnails, each with a title below.\\n2. Enable navigation back to a previous page or menu, as suggested by a left-pointing arrow at the top left corner of the screen.\\n3. Provide social media sharing capabilities, as indicated by social media icons at the top of the page.\\n4. Offer a search function, accessible through a magnifying glass icon at the top right corner.\\n5. Allow the user to access more options or functionalities via an icon represented by three stacked lines, also located at the top right corner.\\n6. Each video item can likely be selected to play the video or view more details about the video.\\n7. Display, at the bottom of the screen, information indicating the count of videos available, showcasing the ability to track the context of the user\\'s position in the list (\"Showing 1 of 14072 Videos\").\\n\\nPlease note that the exact functionalities might vary depending on the actual interaction design, which is not entirely discernible from the screenshot alone.',\n",
       "       \"The screenshot appears to be from a voice recording application's settings menu with the following functionalities:\\n\\n1. Toggle 'Skip silence mode' to presumably skip silence during recording or playback.\\n2. Change 'Sample rate (quality)' indicating the user can select the quality level which implies a trade-off between quality and file size.\\n3. View and possibly change the 'Location of recordings' to specify where audio files are saved.\\n4. Enable or disable 'Datetime file naming' to choose the naming convention of the audio files based on date and time instead of sequential numbering.\\n5. Access options for 'Dialogs and confirmations' which likely refers to settings for interaction prompts and acknowledgments within the app.\\n6. Adjust 'Microphone adjustment' settings which likely includes the sensitivity or gain of the microphone.\\n7. Expand 'Advanced' settings to possibly access more complex or detailed settings options not immediately visible.\\n\\nPlease note that the additional functionalities might exist but are not visible in this screenshot or are indicated by textual descriptions without any visual indication of toggle switches, checkboxes, or other input elements.\",\n",
       "       \"The mobile page shown appears to be a settings menu with the following functionalities:\\n\\n1. Navigate back to the previous screen using a back arrow in the top left corner.\\n2. Display the title of the current settings page as 'Advanced'.\\n3. List the categories of advanced settings including:\\n   - 'General'\\n   - 'Protocol'\\n   - 'Rendering'\\n4. Allow the user to select one of these categories to view and alter more detailed settings options within that category.\",\n",
       "       'Based on the screenshot provided, the mobile page has the following functional requirements:\\n\\n1. Display a list of podcast episodes or similar audio content that a user likes or has favorited.\\n2. Include the ability to return to a previous page or section, as indicated by the back arrow in the upper-left corner.\\n3. Exhibit the title of the currently viewed section as \"Episodes I Like\" at the top of the page.\\n4. Show individual podcast episodes with associated artwork, title (e.g., \"Case #6 Kotter\"), and metadata such as the date (e.g., \"Jul 30, 2015\") and duration (e.g., \"01:17:46\").\\n5. Offer social media sharing functionality, as suggested by the presence of social media icons (Facebook, WhatsApp, Twitter).\\n\\nOther aspects such as navigation bars, the Android status bar, and the Android navigation bar are to be ignored as per the provided instructions.'],\n",
       "      dtype=object)"
      ]
     },
     "execution_count": 119,
     "metadata": {},
     "output_type": "execute_result"
    }
   ],
   "source": [
    "s2w[\"llm_summary\"].values"
   ]
  },
  {
   "cell_type": "code",
   "execution_count": 120,
   "metadata": {},
   "outputs": [],
   "source": [
    "s2w.to_csv(\"../data/s2w_summarized.csv\")"
   ]
  },
  {
   "cell_type": "code",
   "execution_count": null,
   "metadata": {},
   "outputs": [],
   "source": []
  }
 ],
 "metadata": {
  "kernelspec": {
   "display_name": ".venv",
   "language": "python",
   "name": "python3"
  },
  "language_info": {
   "codemirror_mode": {
    "name": "ipython",
    "version": 3
   },
   "file_extension": ".py",
   "mimetype": "text/x-python",
   "name": "python",
   "nbconvert_exporter": "python",
   "pygments_lexer": "ipython3",
   "version": "3.9.0"
  }
 },
 "nbformat": 4,
 "nbformat_minor": 2
}
