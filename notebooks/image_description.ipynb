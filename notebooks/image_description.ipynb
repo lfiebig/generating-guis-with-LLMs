{
 "cells": [
  {
   "cell_type": "code",
   "execution_count": 7,
   "metadata": {},
   "outputs": [],
   "source": [
    "from dotenv import load_dotenv\n",
    "import pandas as pd\n",
    "import os\n",
    "import base64\n",
    "import requests"
   ]
  },
  {
   "cell_type": "code",
   "execution_count": 8,
   "metadata": {},
   "outputs": [],
   "source": [
    "load_dotenv()\n",
    "\n",
    "IMAGE_INPUT_FOLDER = \"../data/s2w_sample1/\"\n",
    "\n",
    "S2W = \"../data/s2w_summarized.csv\"\n",
    "\n",
    "\n",
    "s2w = pd.read_csv(S2W)\n",
    "s2w.drop(columns=[\"Unnamed: 0\"], inplace=True)\n",
    "s2w.drop(columns=[\"Unnamed: 0.1\"], inplace=True)"
   ]
  },
  {
   "cell_type": "code",
   "execution_count": 9,
   "metadata": {},
   "outputs": [],
   "source": [
    "PROMPT = \"\"\"\n",
    "Q: \n",
    "Given a screenshot of a mobile page. Provide a text in the form of a list, that describes the functional requirements of the given mobile page. Focus solely on the required functionality. Ignore Layout and design characteristics. Include only information, that is visible in the screenshot, by Ignoring the android status bar at the top of the screenshot and the android navigation bar at the bottom. If a popup is visible, split the Requirements betweeen the pop up and the underlying mobile page.\n",
    "\n",
    "A:\n",
    "```JSON\n",
    "{\n",
    "    \"typeOfApp\": \"language-learning app\",\n",
    "    \"isPopUp\": false,\n",
    "    \"requirements\": {\n",
    "        \"popUp\": [],\n",
    "        \"mobilePage\": [\n",
    "            \"Display a sentence in a foreign language that the user is expected to translate\",\n",
    "            \"Provide audio playback of the sentence for the user to hear the pronunciation\",\n",
    "            \"Allow the user to input their translation into a text field\",\n",
    "            \"Submit the translation for verification by clicking a 'CHECK' button\",\n",
    "            \"Offer an option to skip the current sentence and move to the next one with a 'SKIP' button\",\n",
    "            \"Display a progress bar or indicator to show the user's progress through the lesson or activity\"\n",
    "        ]\n",
    "    }\n",
    "}\n",
    "```\n",
    "Q: \n",
    "Given a screenshot of a mobile page. Provide a text in the form of a list, that describes the functional requirements of the given mobile page. Focus solely on the required functionality. Ignore Layout and design characteristics. Include only information, that is visible in the screenshot, by Ignoring the android status bar at the top of the screenshot and the android navigation bar at the bottom. If a popup is visible, split the Requirements betweeen the pop up and the underlying mobile page.\n",
    "\n",
    "A:\n",
    "```JSON\n",
    "{\n",
    "    \"typeOfApp\": \"fittnes app\",\n",
    "    \"isPopUp\": false,\n",
    "    \"requirements\": \n",
    "    {\n",
    "        \"popUp\": [],\n",
    "        \"mobilePage\":\n",
    "        [\n",
    "            \"Select a Date in a calendar\",\n",
    "            \"Selected Date is \",\n",
    "            \"Choose the number of circuits the user wishes to perform during the workout\",\n",
    "            \"Select an instructor or possibly a type of guidance for the workout\",\n",
    "            \"Provide access to a navigation menu at the bottom, with tabs for: 'Workout' (where the user is currently) to presumably start and configure workouts. 'Learn' to offer educational content or instructions. 'Achievements' to show the user's progress or rewards. 'Track' to presumably monitor the user's workout activity or progress over time\"\n",
    "        ]\n",
    "    }\n",
    "}\n",
    "``` \n",
    "Q: Given a screenshot of a mobile page. Provide a text in the form of a list, that describes the functional requirements of the given mobile page. Focus solely on the required functionality. Ignore Layout and design characteristics. Include only information, that is visible in the screenshot, by Ignoring the android status bar at the top of the screenshot and the android navigation bar at the bottom. If a popup is visible, split the Requirements betweeen the pop up and the underlying mobile page.\n",
    "\n",
    "A:    \n",
    "```JSON\n",
    "{\n",
    "    \"typeOfApp\": \"Birthday notification app\",\n",
    "    \"isPopUp\": true,\n",
    "    \"requirements\": {\n",
    "        \"popUp\":\n",
    "        [\n",
    "            \"Display a calendar view for selecting a date\",\n",
    "            \"Highlight the current selected date\",\n",
    "            \"Show the month for the currently displayed days in the calendar\",\n",
    "            \"Provide buttons to navigate to the previous or next month\",\n",
    "            \"Display a confirmation button labeled 'DONE' for finalizing the date selection\"\n",
    "        ],\n",
    "        \"mobilePage\": []\n",
    "    }\n",
    "}\n",
    "```           \n",
    "Q: Given a screenshot of a mobile page. Provide a text in the form of a list, that describes the functional requirements of the given mobile page. Focus solely on the required functionality. Ignore Layout and design characteristics. Include only information, that is visible in the screenshot, by Ignoring the android status bar at the top of the screenshot and the android navigation bar at the bottom. If a popup is visible, split the Requirements betweeen the pop up and the underlying mobile page.\n",
    "\n",
    "A:    \n",
    "\"\"\""
   ]
  },
  {
   "cell_type": "code",
   "execution_count": 10,
   "metadata": {},
   "outputs": [],
   "source": [
    "def encode_image(id):\n",
    "    image_path = IMAGE_INPUT_FOLDER + f\"{id}.jpg\"\n",
    "    with open(image_path,\"rb\") as image_file:\n",
    "        return base64.b64encode(image_file.read()).decode('utf-8')    \n",
    "   "
   ]
  },
  {
   "cell_type": "code",
   "execution_count": 11,
   "metadata": {},
   "outputs": [],
   "source": [
    "def describe_image(id):\n",
    "    api_key = os.getenv(\"OPENAI_API_KEY\")\n",
    "    base64_image = encode_image(id)\n",
    "\n",
    "    headers = {\n",
    "        \"Content-Type\": \"application/json\",\n",
    "        \"Authorization\": f\"Bearer {api_key}\"\n",
    "    }\n",
    "\n",
    "    payload = {\n",
    "        \"model\": \"gpt-4-vision-preview\",\n",
    "        \"messages\": [\n",
    "        {\n",
    "            \"role\": \"user\",\n",
    "            \"content\": [\n",
    "                {\n",
    "                    \"type\": \"text\",\n",
    "                    \"text\": \n",
    "                    f\"{PROMPT}\"\n",
    "                }\n",
    "            ]\n",
    "        },\n",
    "        {\n",
    "            \"role\": \"user\",\n",
    "            \"content\": [\n",
    "            {\n",
    "                \"type\": \"image_url\",\n",
    "                \"image_url\": {\n",
    "                \"url\": f\"data:image/jpeg;base64,{base64_image}\"\n",
    "                }\n",
    "            }\n",
    "            ]\n",
    "        }\n",
    "        ],\n",
    "        \"max_tokens\": 300\n",
    "    }\n",
    "    response = requests.post(\"https://api.openai.com/v1/chat/completions\", headers=headers, json=payload)\n",
    "    return response"
   ]
  },
  {
   "cell_type": "code",
   "execution_count": 78,
   "metadata": {},
   "outputs": [
    {
     "data": {
      "text/plain": [
       "37      300\n",
       "38     3501\n",
       "39    27595\n",
       "40    22605\n",
       "41    12179\n",
       "42    18877\n",
       "43    19984\n",
       "44    27064\n",
       "45    10535\n",
       "46    19704\n",
       "47    23501\n",
       "48     3546\n",
       "49    26080\n",
       "Name: screenId, dtype: int64"
      ]
     },
     "execution_count": 78,
     "metadata": {},
     "output_type": "execute_result"
    }
   ],
   "source": [
    "s2w[\"screenId\"].iloc[37:50]"
   ]
  },
  {
   "cell_type": "code",
   "execution_count": 79,
   "metadata": {},
   "outputs": [
    {
     "name": "stdout",
     "output_type": "stream",
     "text": [
      "300: DONE\n",
      "3501: DONE\n",
      "27595: DONE\n",
      "22605: DONE\n",
      "12179: DONE\n",
      "18877: DONE\n",
      "19984: DONE\n",
      "27064: DONE\n",
      "10535: DONE\n",
      "19704: DONE\n",
      "23501: DONE\n",
      "3546: DONE\n",
      "26080: DONE\n"
     ]
    }
   ],
   "source": [
    "screens = s2w[\"screenId\"].iloc[37:50]\n",
    "for screen_id in screens:\n",
    "    result = describe_image(screen_id)\n",
    "    s2w.loc[s2w['screenId'] == screen_id, 'llm_summary'] = result.json().get(\"choices\")[0].get(\"message\").get(\"content\")\n",
    "    print(f\"{screen_id}: DONE\")"
   ]
  },
  {
   "cell_type": "code",
   "execution_count": 73,
   "metadata": {},
   "outputs": [
    {
     "data": {
      "text/plain": [
       "\"I'm sorry, but the image you've provided is too dark and lacks visible content which makes it difficult to determine the functional requirements of the mobile page. It appears to be a camera interface possibly in a dark environment or with the lens covered. If you have an image with visible elements, I would be happy to provide the functional requirements for that page.\""
      ]
     },
     "execution_count": 73,
     "metadata": {},
     "output_type": "execute_result"
    }
   ],
   "source": [
    "s2w[\"llm_summary\"][9]"
   ]
  },
  {
   "cell_type": "code",
   "execution_count": 80,
   "metadata": {},
   "outputs": [],
   "source": [
    "s2w.to_csv(\"../data/s2w_summarized.csv\")"
   ]
  },
  {
   "cell_type": "code",
   "execution_count": 28,
   "metadata": {},
   "outputs": [],
   "source": [
    "text = s2w[\"llm_summary\"][0]"
   ]
  },
  {
   "cell_type": "code",
   "execution_count": 29,
   "metadata": {},
   "outputs": [
    {
     "name": "stdout",
     "output_type": "stream",
     "text": [
      "{'typeOfApp': 'health tracking app', 'isPopUp': False, 'requirements': {'popUp': [], 'mobilePage': ['Provide an option for users to sign up for a free account', 'Offer a secure and automatic data backup service on a monthly basis for signed-up users', 'Include an option for users who already have an account to log in and restore their data', 'Present an option to skip the account creation or login process']}}\n"
     ]
    }
   ],
   "source": [
    "import json\n",
    "\n",
    "# Removing the ```JSON and ``` markers\n",
    "cleaned_string = text.replace(\"```JSON\", \"\").replace(\"```\", \"\").strip()\n",
    "\n",
    "# Convert the cleaned string to a Python object\n",
    "python_object = json.loads(cleaned_string)\n",
    "\n",
    "# Print the Python object\n",
    "print(python_object)"
   ]
  },
  {
   "cell_type": "code",
   "execution_count": null,
   "metadata": {},
   "outputs": [],
   "source": []
  }
 ],
 "metadata": {
  "kernelspec": {
   "display_name": ".venv",
   "language": "python",
   "name": "python3"
  },
  "language_info": {
   "codemirror_mode": {
    "name": "ipython",
    "version": 3
   },
   "file_extension": ".py",
   "mimetype": "text/x-python",
   "name": "python",
   "nbconvert_exporter": "python",
   "pygments_lexer": "ipython3",
   "version": "3.9.0"
  }
 },
 "nbformat": 4,
 "nbformat_minor": 2
}
