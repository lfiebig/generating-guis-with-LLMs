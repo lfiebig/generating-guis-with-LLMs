{
 "cells": [
  {
   "cell_type": "code",
   "execution_count": null,
   "metadata": {},
   "outputs": [],
   "source": [
    "import imgkit\n",
    "import os\n",
    "\n",
    "\n",
    "GUIS = \"../generated_GUIs/gpt-4-1106-preview/\"\n",
    "IMAGES = \"../generated_GUIs/images/\"\n",
    "GUIS_TEST = \"../generated_GUIs/gpt-3.5-turbo-instruct/testrun/\"\n",
    "\n",
    "files = {\n",
    "    \"cot_llm.html\": \"cot_llm\",\n",
    "    \"cot_s2w_single.html\": \"cot_s2w_single\",\n",
    "    \"cot_s2w_full.html\": \"cot_s2w_full\",\n",
    "    \"cot_s2w_filtered.html\": \"cot_s2w_filtered\",\n",
    "    \"FS_llm.html\": \"FS_llm\",\n",
    "    \"FS_s2w_single.html\": \"FS_s2w_single\",\n",
    "    \"FS_s2w_full.html\": \"FS_s2w_full\",\n",
    "    \"FS_s2w_filtered.html\": \"FS_s2w_filtered\", \n",
    "    \"ZS_llm.html\": \"ZS_llm\",\n",
    "    \"ZS_s2w_single.html\": \"ZS_s2w_single\",\n",
    "    \"ZS_s2w_full.html\": \"ZS_s2w_full\",\n",
    "    \"ZS_s2w_filtered.html\": \"ZS_s2w_filtered\"\n",
    "}"
   ]
  },
  {
   "cell_type": "code",
   "execution_count": null,
   "metadata": {},
   "outputs": [],
   "source": [
    "def create_image(id):\n",
    "    DIR_FOLDER = IMAGES + f\"/{id}/\"\n",
    "    SOURCE_FOLDER = GUIS_TEST + f\"/{id}/\"\n",
    "    if not os.path.exists(DIR_FOLDER):\n",
    "        try:\n",
    "            os.mkdir(DIR_FOLDER)\n",
    "        except OSError:\n",
    "            print(f\"Folder already exists\")\n",
    "    \n",
    "    file_names = [f for f in os.listdir(SOURCE_FOLDER) if os.path.isfile(os.path.join(SOURCE_FOLDER, f))]\n",
    "\n",
    "    for file_name in file_names:\n",
    "        imgkit.from_file(SOURCE_FOLDER + file_name, DIR_FOLDER + f\"{files[file_name]}.jpg\")"
   ]
  },
  {
   "cell_type": "code",
   "execution_count": null,
   "metadata": {},
   "outputs": [],
   "source": [
    "create_image(486)"
   ]
  },
  {
   "cell_type": "code",
   "execution_count": null,
   "metadata": {},
   "outputs": [],
   "source": []
  }
 ],
 "metadata": {
  "kernelspec": {
   "display_name": ".venv",
   "language": "python",
   "name": "python3"
  },
  "language_info": {
   "codemirror_mode": {
    "name": "ipython",
    "version": 3
   },
   "file_extension": ".py",
   "mimetype": "text/x-python",
   "name": "python",
   "nbconvert_exporter": "python",
   "pygments_lexer": "ipython3",
   "version": "3.9.0"
  }
 },
 "nbformat": 4,
 "nbformat_minor": 2
}
