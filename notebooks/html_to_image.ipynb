{
 "cells": [
  {
   "cell_type": "code",
   "execution_count": 7,
   "metadata": {},
   "outputs": [],
   "source": [
    "import imgkit\n",
    "import os\n",
    "\n",
    "\n",
    "GUIS = \"../generated_GUIs/gpt-4-1106-preview/\"\n",
    "IMAGES = \"../generated_GUIs/images/\""
   ]
  },
  {
   "cell_type": "code",
   "execution_count": 8,
   "metadata": {},
   "outputs": [],
   "source": [
    "import re\n",
    "\n",
    "def extract_text(html_file):\n",
    "    # Pattern to match the text between ```html and ```\n",
    "    pattern = r\"```html(.*?)```\"\n",
    "    with open(html_file, 'r') as file:\n",
    "        file_contents = file.read()\n",
    "    extracted_texts = re.findall(pattern, file_contents, re.DOTALL)\n",
    "    with open(html_file, 'w') as f:\n",
    "        f.write(\"\".join(extracted_texts))"
   ]
  },
  {
   "cell_type": "code",
   "execution_count": 9,
   "metadata": {},
   "outputs": [],
   "source": [
    "def create_image(id):\n",
    "    FOLDER = IMAGES + f\"/{id}/\"\n",
    "    if not os.path.exists(FOLDER):\n",
    "        try:\n",
    "            os.mkdir(FOLDER)\n",
    "        except OSError:\n",
    "            print(f\"Folder already exists\")\n",
    "    \n",
    "    #cot\n",
    "    cot_llm = GUIS + f\"/COT/llm_summarized/{id}.html\"\n",
    "    imgkit.from_file(cot_llm, FOLDER + f\"/cot_llm.jpg\")\n",
    "    \n",
    "    cot_s2w_single = GUIS + f\"/COT/s2w_single/{id}.html\"\n",
    "    imgkit.from_file(cot_s2w_single, FOLDER + f\"/cot_s2w_single.jpg\")\n",
    "\n",
    "    cot_s2w_full = GUIS + f\"/COT/s2w_full/{id}.html\"\n",
    "    imgkit.from_file(cot_s2w_full, FOLDER + f\"/cot_s2w_full.jpg\")\n",
    "\n",
    "    cot_s2w_summary = GUIS + f\"/COT/s2w_summary/{id}.html\"\n",
    "    imgkit.from_file(cot_s2w_summary, FOLDER + f\"/cot_s2w_summary.jpg\")\n",
    "\n",
    "    #FS\n",
    "    FS_llm = GUIS + f\"/Few_shot/llm_summarized/{id}.html\"\n",
    "    imgkit.from_file(FS_llm, FOLDER + f\"/FS_llm.jpg\")\n",
    "    \n",
    "    FS_s2w_single = GUIS + f\"/Few_shot/s2w_single/{id}.html\"\n",
    "    imgkit.from_file(FS_s2w_single, FOLDER + f\"/FS_s2w_single.jpg\")\n",
    "\n",
    "    FS_s2w_full = GUIS + f\"/Few_shot/s2w_full/{id}.html\"\n",
    "    imgkit.from_file(FS_s2w_full, FOLDER + f\"/FS_s2w_full.jpg\")\n",
    "\n",
    "    FS_s2w_summary = GUIS + f\"/Few_shot/s2w_summary/{id}.html\"\n",
    "    imgkit.from_file(FS_s2w_summary, FOLDER + f\"/FS_s2w_summary.jpg\")\n",
    "    \n",
    "    #ZS\n",
    "    ZS_llm = GUIS + f\"/Zero_shot/llm_summarized/{id}.html\"\n",
    "    imgkit.from_file(ZS_llm, FOLDER + f\"/ZS_llm.jpg\")\n",
    "    \n",
    "    ZS_s2w_single = GUIS + f\"/Zero_shot/s2w_single/{id}.html\"\n",
    "    imgkit.from_file(ZS_s2w_single, FOLDER + f\"/ZS_s2w_single.jpg\")\n",
    "\n",
    "    ZS_s2w_full = GUIS + f\"/Zero_shot/s2w_full/{id}.html\"\n",
    "    imgkit.from_file(ZS_s2w_full, FOLDER + f\"/ZS_s2w_full.jpg\")\n",
    "\n",
    "    ZS_s2w_summary = GUIS + f\"/Zero_shot/s2w_summary/{id}.html\"\n",
    "    imgkit.from_file(ZS_s2w_summary, FOLDER + f\"/ZS_s2w_summary.jpg\")"
   ]
  },
  {
   "cell_type": "code",
   "execution_count": 10,
   "metadata": {},
   "outputs": [
    {
     "name": "stdout",
     "output_type": "stream",
     "text": [
      "Loading page (1/2)\n",
      "Rendering (2/2)                                                    \n",
      "Done                                                               \n",
      "Loading page (1/2)\n",
      "Rendering (2/2)                                                    \n",
      "Done                                                               \n",
      "Loading page (1/2)\n",
      "Rendering (2/2)                                                    \n",
      "Done                                                               \n",
      "Loading page (1/2)\n",
      "Rendering (2/2)                                                    \n",
      "Done                                                               \n",
      "Loading page (1/2)\n",
      "Rendering (2/2)                                                    \n",
      "Done                                                               \n",
      "Loading page (1/2)\n",
      "Rendering (2/2)                                                    \n",
      "Done                                                               \n",
      "Loading page (1/2)\n",
      "Rendering (2/2)                                                    \n",
      "Done                                                               \n",
      "Loading page (1/2)\n",
      "Rendering (2/2)                                                    \n",
      "Done                                                               \n",
      "Loading page (1/2)\n",
      "Rendering (2/2)                                                    \n",
      "Done                                                               \n",
      "Loading page (1/2)\n",
      "Rendering (2/2)                                                    \n",
      "Done                                                               \n",
      "Loading page (1/2)\n",
      "Rendering (2/2)                                                    \n",
      "Done                                                               \n",
      "Loading page (1/2)\n",
      "Rendering (2/2)                                                    \n",
      "Done                                                               \n"
     ]
    }
   ],
   "source": [
    "create_image(33)"
   ]
  },
  {
   "cell_type": "code",
   "execution_count": null,
   "metadata": {},
   "outputs": [],
   "source": []
  }
 ],
 "metadata": {
  "kernelspec": {
   "display_name": ".venv",
   "language": "python",
   "name": "python3"
  },
  "language_info": {
   "codemirror_mode": {
    "name": "ipython",
    "version": 3
   },
   "file_extension": ".py",
   "mimetype": "text/x-python",
   "name": "python",
   "nbconvert_exporter": "python",
   "pygments_lexer": "ipython3",
   "version": "3.9.0"
  }
 },
 "nbformat": 4,
 "nbformat_minor": 2
}
