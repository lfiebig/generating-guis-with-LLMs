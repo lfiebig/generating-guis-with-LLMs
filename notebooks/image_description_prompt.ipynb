{
 "cells": [
  {
   "cell_type": "markdown",
   "metadata": {},
   "source": [
    "Q: \n",
    "Given a screenshot of a mobile page. Provide a text in the form of a list, that describes the functional requirements of the given mobile page. Focus solely on the required functionality. Ignore Layout and design characteristics. Include only information, that is visible in the screenshot, by Ignoring the android status bar at the top of the screenshot and the android navigation bar at the bottom. If a popup is visible, ignore everything else but the the popup.                    \n",
    "\n",
    "A:\n",
    "```JSON\n",
    "{\n",
    "    \"typeOfApp\": \"language-learning app\",\n",
    "    \"isPopUp\": false,\n",
    "    \"requirements\": [\n",
    "        \"Display a sentence in a foreign language that the user is expected to translate\",\n",
    "        \"Provide audio playback of the sentence for the user to hear the pronunciation\",\n",
    "        \"Allow the user to input their translation into a text field\",\n",
    "        \"Submit the translation for verification by clicking a 'CHECK' button\",\n",
    "        \"Offer an option to skip the current sentence and move to the next one with a 'SKIP' button\",\n",
    "        \"Display a progress bar or indicator to show the user's progress through the lesson or activity\"\n",
    "    ]\n",
    "}\n",
    "```\n",
    "Q: \n",
    "Given a screenshot of a mobile page. Provide a text in the form of a list, that describes the functional requirements of the given mobile page. Focus solely on the required functionality. Ignore Layout and design characteristics. Include only information, that is visible in the screenshot, by Ignoring the android status bar at the top of the screenshot and the android navigation bar at the bottom. If a popup is visible, ignore everything else but the the popup.     \n",
    "\n",
    "A:\n",
    "```JSON\n",
    "{\n",
    "    \"typeOfApp\": \"fittnes app\",\n",
    "    \"isPopUp\": false,\n",
    "    \"requirements\": [\n",
    "        \"Select a Date in a calendar\",\n",
    "        \"Selected Date is \",\n",
    "        \"Choose the number of circuits the user wishes to perform during the workout\",\n",
    "        \"Select an instructor or possibly a type of guidance for the workout\",\n",
    "        \"Provide access to a navigation menu at the bottom, with tabs for: 'Workout' (where the user is currently) to presumably start and configure workouts. 'Learn' to offer educational content or instructions. 'Achievements' to show the user's progress or rewards. 'Track' to presumably monitor the user's workout activity or progress over time\"\n",
    "    ]\n",
    "}\n",
    "``` \n",
    "Q: Given a screenshot of a mobile page. Provide a text in the form of a list, that describes the functional requirements of the given mobile page. Focus solely on the required functionality. Ignore Layout and design characteristics. Include only information, that is visible in the screenshot, by Ignoring the android status bar at the top of the screenshot and the android navigation bar at the bottom. If a popup is visible, ignore everything else but the the popup.\n",
    "\n",
    "A:    \n",
    "```JSON\n",
    "{\n",
    "    \"typeOfApp\": \"Birthday notification app\",\n",
    "    \"isPopUp\": true,\n",
    "    \"requirements\": [\n",
    "        \"Display a calendar view for selecting a date\",\n",
    "        \"Highlight the current selected date\",\n",
    "        \"Show the month for the currently displayed days in the calendar\",\n",
    "        \"Provide buttons to navigate to the previous or next month\",\n",
    "        \"Display a confirmation button labeled 'DONE' for finalizing the date selection\"\n",
    "    ]\n",
    "}\n",
    "```           \n"
   ]
  },
  {
   "cell_type": "markdown",
   "metadata": {},
   "source": []
  }
 ],
 "metadata": {
  "language_info": {
   "name": "python"
  }
 },
 "nbformat": 4,
 "nbformat_minor": 2
}
