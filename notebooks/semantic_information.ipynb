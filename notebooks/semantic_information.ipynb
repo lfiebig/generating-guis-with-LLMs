{
 "cells": [
  {
   "cell_type": "code",
   "execution_count": 7,
   "metadata": {},
   "outputs": [],
   "source": [
    "import pandas as pd\n",
    "\n",
    "SEMANTIC_INFO = \"../data/all_guis.csv\"\n",
    "SOURCE_DIR = 'D:/unique_uis.tar/unique_uis/unique_uis/unique_uis/combined'\n",
    "\n",
    "\n",
    "info = pd.read_csv(SEMANTIC_INFO)"
   ]
  },
  {
   "cell_type": "code",
   "execution_count": 22,
   "metadata": {},
   "outputs": [
    {
     "name": "stdout",
     "output_type": "stream",
     "text": [
      "{'bg_color': '#143058', 'ui_comps': [{'iconClass': 'menu', 'ancestors': ['android.view.View', 'java.lang.Object'], 'bounds': [1236, 1808, 1394, 1966], 'clickable': False, 'class': 'android.widget.ImageView', 'componentLabel': 'Icon', 'id': '13974_0'}, {'text': 'Weather Details', 'resource-id': 'com.abclocal.ktrk.news:id/list_items_draggable_title', 'ancestors': ['android.view.View', 'java.lang.Object'], 'clickable': False, 'class': 'android.widget.TextView', 'bounds': [46, 1808, 1236, 1966], 'componentLabel': 'Text', 'text_color': '#D0D3E2', 'bounds_updated': [83.33333333333333, 1869.3333333333333, 471.3333333333333, 1909.3333333333333], 'text_updated': 'Weather Details', 'font_size': 10.617722248772978, 'id': '13974_1'}, {'iconClass': 'menu', 'ancestors': ['android.view.View', 'java.lang.Object'], 'bounds': [1236, 1649, 1394, 1807], 'clickable': False, 'class': 'android.widget.ImageView', 'componentLabel': 'Icon', 'id': '13974_2'}, {'text': 'Hourly Forecast', 'resource-id': 'com.abclocal.ktrk.news:id/list_items_draggable_title', 'ancestors': ['android.view.View', 'java.lang.Object'], 'clickable': False, 'class': 'android.widget.TextView', 'bounds': [46, 1649, 1236, 1807], 'componentLabel': 'Text', 'text_color': '#C8CFD9', 'bounds_updated': [86.0, 1710.3333333333333, 472.66666666666663, 1761.0], 'text_updated': 'Hourly Forecast', 'font_size': 10.813116929165384, 'id': '13974_3'}, {'iconClass': 'menu', 'ancestors': ['android.view.View', 'java.lang.Object'], 'bounds': [1236, 1490, 1394, 1648], 'clickable': False, 'class': 'android.widget.ImageView', 'componentLabel': 'Icon', 'id': '13974_4'}, {'text': '7 Day Forecast', 'resource-id': 'com.abclocal.ktrk.news:id/list_items_draggable_title', 'ancestors': ['android.view.View', 'java.lang.Object'], 'clickable': False, 'class': 'android.widget.TextView', 'bounds': [46, 1490, 1236, 1648], 'componentLabel': 'Text', 'text_color': '#CFCBC8', 'bounds_updated': [83.33333333333333, 1550.0, 448.66666666666663, 1602.0], 'text_updated': '7 Day Forecast', 'font_size': 10.697430624855102, 'id': '13974_5'}, {'text': 'C°', 'resource-id': 'com.abclocal.ktrk.news:id/wx_location_edit_celsius', 'ancestors': ['android.widget.CompoundButton', 'android.widget.Button', 'android.widget.TextView', 'android.view.View', 'java.lang.Object'], 'clickable': True, 'class': 'android.widget.RadioButton', 'bounds': [264, 2227, 469, 2339], 'componentLabel': 'Radio Button', 'id': '13974_6'}, {'text': 'F°', 'resource-id': 'com.abclocal.ktrk.news:id/wx_location_edit_fahrenheit', 'ancestors': ['android.widget.CompoundButton', 'android.widget.Button', 'android.widget.TextView', 'android.view.View', 'java.lang.Object'], 'clickable': True, 'class': 'android.widget.RadioButton', 'bounds': [64, 2227, 264, 2339], 'componentLabel': 'Radio Button', 'id': '13974_7'}, {'text': '+', 'resource-id': 'com.abclocal.ktrk.news:id/wx_location_new_location_button', 'ancestors': ['android.widget.TextView', 'android.view.View', 'java.lang.Object'], 'clickable': True, 'class': 'android.widget.Button', 'bounds': [1219, 496, 1394, 601], 'componentLabel': 'Text Button', 'bg_color': '#355E8C', 'text_color': '#E8F5FF', 'bounds_text': [1219, 496, 1394, 601], 'text_updated': '+', 'font_size': 12, 'id': '13974_8'}, {'ancestors': ['android.view.View', 'java.lang.Object'], 'text': 'New Location', 'bounds': [46, 470, 1219, 628], 'clickable': False, 'class': 'android.widget.TextView', 'componentLabel': 'Text', 'text_color': '#C6CFE0', 'bounds_updated': [86.0, 531.3333333333334, 419.3333333333333, 572.6666666666666], 'text_updated': 'New Location', 'font_size': 10.878295514057108, 'id': '13974_9'}, {'text': ' (Long press to delete)', 'resource-id': 'com.abclocal.ktrk.news:id/settings_weather_remove_howto', 'ancestors': ['android.view.View', 'java.lang.Object'], 'clickable': False, 'class': 'android.widget.TextView', 'bounds': [503, 382, 968, 452], 'componentLabel': 'Text', 'text_color': '#C4CDD2', 'bounds_updated': [503, 382, 968, 452], 'text_updated': ' (Long press to delete)', 'font_size': 12, 'id': '13974_10'}, {'ancestors': ['android.view.View', 'java.lang.Object'], 'text': 'SAVED LOCATIONS', 'bounds': [46, 361, 503, 468], 'clickable': False, 'class': 'android.widget.TextView', 'componentLabel': 'Text', 'text_color': '#E9F3FC', 'bounds_updated': [46, 361, 503, 468], 'text_updated': 'SAVED LOCATIONS', 'font_size': 12, 'id': '13974_11'}, {'ancestors': ['android.view.View', 'java.lang.Object'], 'text': 'FORECAST TABS', 'bounds': [46, 1381, 449, 1488], 'clickable': False, 'class': 'android.widget.TextView', 'componentLabel': 'Text', 'text_color': '#EFF0EA', 'bounds_updated': [51.333333333333336, 1417.0, 448.66666666666663, 1455.6666666666667], 'text_updated': 'FORECAST TABS', 'font_size': 10.747382410017744, 'id': '13974_12'}, {'ancestors': ['android.view.ViewGroup', 'android.view.View', 'java.lang.Object'], 'class': 'android.widget.LinearLayout', 'bounds': [0, 84, 489, 252], 'clickable': True, 'componentLabel': 'Text Button', 'textButtonClass': 'settings', 'bg_color': '#4B7CB6', 'text_color': '#F3FFFF', 'bounds_text': [0, 84, 489, 252], 'text_updated': 'settings', 'font_size': 12, 'id': '13974_13'}], 'ui_comp_groups': [{'componentLabel': 'Layout', 'bounds': [46, 1490, 1394, 2191], 'class': 'com.go.abclocal.news.views.TouchInterceptor', 'bg_color': '#102750', 'id': '13974_14', 'ui_comp_ids': ['13974_0', '13974_1', '13974_2', '13974_3', '13974_4', '13974_5'], 'ui_comp_group_ids': ['13974_15', '13974_16', '13974_17']}, {'componentLabel': 'Layout', 'bounds': [46, 1808, 1394, 1966], 'class': 'android.widget.LinearLayout', 'bg_color': '#112851', 'id': '13974_15', 'ui_comp_ids': ['13974_0', '13974_1'], 'ui_comp_group_ids': []}, {'componentLabel': 'Layout', 'bounds': [46, 1649, 1394, 1807], 'class': 'android.widget.LinearLayout', 'bg_color': '#112A52', 'id': '13974_16', 'ui_comp_ids': ['13974_2', '13974_3'], 'ui_comp_group_ids': []}, {'componentLabel': 'Layout', 'bounds': [46, 1490, 1394, 1648], 'class': 'android.widget.LinearLayout', 'bg_color': '#122B53', 'id': '13974_17', 'ui_comp_ids': ['13974_4', '13974_5'], 'ui_comp_group_ids': []}, {'componentLabel': 'Layout', 'bounds': [46, 470, 1394, 628], 'class': 'android.widget.LinearLayout', 'bg_color': '#15325C', 'id': '13974_18', 'ui_comp_ids': ['13974_8', '13974_9'], 'ui_comp_group_ids': []}, {'componentLabel': 'Layout', 'bounds': [46, 361, 1394, 468], 'class': 'android.widget.LinearLayout', 'bg_color': '#15325C', 'id': '13974_19', 'ui_comp_ids': ['13974_10', '13974_11'], 'ui_comp_group_ids': []}, {'componentLabel': 'Layout', 'bounds': [46, 2209, 487, 2357], 'class': 'android.widget.RadioGroup', 'bg_color': '#10284E', 'id': '13974_20', 'ui_comp_ids': ['13974_6', '13974_7'], 'ui_comp_group_ids': []}]}\n"
     ]
    },
    {
     "data": {
      "text/plain": [
       "\"\\njson_data = json.loads(json_text)\\n\\nwith open(json_file_path, 'w') as json_file:\\n    json.dump(json_data, json_file)\\n\""
      ]
     },
     "execution_count": 22,
     "metadata": {},
     "output_type": "execute_result"
    }
   ],
   "source": [
    "import json\n",
    "\n",
    "json_file_path = \"../data/455.json\"\n",
    "\n",
    "json_text = info[info[\"id\"] == 13974][\"data\"].values[0]\n",
    "print(json_text)\n",
    "#json_text = json_text.replace(\"'\", \"\\\"\")\n",
    "\"\"\"\n",
    "json_data = json.loads(json_text)\n",
    "\n",
    "with open(json_file_path, 'w') as json_file:\n",
    "    json.dump(json_data, json_file)\n",
    "\"\"\""
   ]
  },
  {
   "cell_type": "code",
   "execution_count": 28,
   "metadata": {},
   "outputs": [
    {
     "name": "stdout",
     "output_type": "stream",
     "text": [
      "com.fxnetworks.fxnow:id/featured_image\n",
      "---com.fxnetworks.fxnow.widget.tv.HeroGradientImageView\n",
      "com.fxnetworks.fxnow:id/featured_next_title\n",
      "---com.fxnetworks.fxnow.widget.FXTextView\n",
      "com.fxnetworks.fxnow:id/featured_button_play_episode\n",
      "---com.fxnetworks.fxnow.widget.ExpandingTextView\n",
      "com.fxnetworks.fxnow:id/featured_button_divider\n",
      "---android.view.View\n",
      "com.fxnetworks.fxnow:id/featured_button_detail\n",
      "---com.fxnetworks.fxnow.widget.ExpandingTextView\n",
      "com.fxnetworks.fxnow:id/featured_detail\n",
      "---com.fxnetworks.fxnow.widget.FXTextView\n",
      "com.fxnetworks.fxnow:id/featured_current_title\n",
      "---com.fxnetworks.fxnow.widget.ExpandingTextView\n",
      "com.fxnetworks.fxnow:id/featured_eyebrow\n",
      "---com.fxnetworks.fxnow.widget.FXTextView\n",
      "com.fxnetworks.fxnow:id/featured_page_indicator\n",
      "---com.fxnetworks.fxnow.widget.featured.FeaturedPageIndicator\n",
      "android:id/navigationBarBackground\n",
      "---android.view.View\n",
      "android:id/statusBarBackground\n",
      "---android.view.View\n"
     ]
    }
   ],
   "source": [
    "import os\n",
    "\n",
    "def import_json(id):\n",
    "    filename = f\"{id}.json\"\n",
    "    file_path = os.path.join(SOURCE_DIR, filename)\n",
    "    with open(file_path, 'r') as file:\n",
    "        data = json.load(file)\n",
    "    return data\n",
    "\n",
    "def print_visible_classes(data):\n",
    "\n",
    "    if isinstance(data, dict):\n",
    "        # Check if the current item is a component and visible\n",
    "        if \"resource-id\" in data and data.get(\"visible-to-user\", False) and \"children\" not in data:\n",
    "                print(data[\"resource-id\"])\n",
    "                print(\"---\" + data[\"class\"])\n",
    "\n",
    "        # Recursively check in each value of the dictionary\n",
    "        for value in data.values():\n",
    "            print_visible_classes(value)\n",
    "    elif isinstance(data, list):\n",
    "        # Recursively check each item in the list\n",
    "        for item in data:\n",
    "            print_visible_classes(item)\n",
    "\n",
    "# Traverse the JSON data and print class names of visible components\n",
    "data = import_json(9668)\n",
    "print_visible_classes(data)\n",
    "\n"
   ]
  },
  {
   "cell_type": "code",
   "execution_count": null,
   "metadata": {},
   "outputs": [],
   "source": []
  }
 ],
 "metadata": {
  "kernelspec": {
   "display_name": ".venv",
   "language": "python",
   "name": "python3"
  },
  "language_info": {
   "codemirror_mode": {
    "name": "ipython",
    "version": 3
   },
   "file_extension": ".py",
   "mimetype": "text/x-python",
   "name": "python",
   "nbconvert_exporter": "python",
   "pygments_lexer": "ipython3",
   "version": "3.9.0"
  }
 },
 "nbformat": 4,
 "nbformat_minor": 2
}
