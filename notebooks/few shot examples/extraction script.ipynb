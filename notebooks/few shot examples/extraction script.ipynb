{
 "cells": [
  {
   "cell_type": "code",
   "execution_count": 26,
   "metadata": {},
   "outputs": [
    {
     "data": {
      "text/plain": [
       "'C:/Users/fiebi/OneDrive - Universität Mannheim/uni/Bachelorarbeit/few shot examples\\\\54788.jpg'"
      ]
     },
     "execution_count": 26,
     "metadata": {},
     "output_type": "execute_result"
    }
   ],
   "source": [
    "import os\n",
    "import shutil\n",
    "\n",
    "SOURCE_DIR = 'D:/unique_uis.tar/unique_uis/unique_uis/unique_uis/combined'\n",
    "DESTINATION_DIR = 'C:/Users/fiebi/OneDrive - Universität Mannheim/uni/Bachelorarbeit/few shot examples'\n",
    "\n",
    "filename = \"54788.jpg\"\n",
    "file_path = os.path.join(SOURCE_DIR, filename)\n",
    "shutil.copy(file_path, DESTINATION_DIR)"
   ]
  },
  {
   "cell_type": "code",
   "execution_count": null,
   "metadata": {},
   "outputs": [],
   "source": []
  }
 ],
 "metadata": {
  "kernelspec": {
   "display_name": ".venv",
   "language": "python",
   "name": "python3"
  },
  "language_info": {
   "codemirror_mode": {
    "name": "ipython",
    "version": 3
   },
   "file_extension": ".py",
   "mimetype": "text/x-python",
   "name": "python",
   "nbconvert_exporter": "python",
   "pygments_lexer": "ipython3",
   "version": "3.9.0"
  }
 },
 "nbformat": 4,
 "nbformat_minor": 2
}
