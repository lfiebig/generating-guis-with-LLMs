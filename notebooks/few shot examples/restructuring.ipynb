{
 "cells": [
  {
   "cell_type": "code",
   "execution_count": 5,
   "metadata": {},
   "outputs": [],
   "source": [
    "import os\n",
    "import shutil\n",
    "\n",
    "\n",
    "GUIS = \"../../generated_GUIs/gpt-4-1106-preview/\"\n",
    "GUIS_NEW = \"../../generated_GUIs/gpt-3.5-turbo-instruct/\""
   ]
  },
  {
   "cell_type": "code",
   "execution_count": 6,
   "metadata": {},
   "outputs": [],
   "source": [
    "import re\n",
    "\n",
    "def extract_html(file_path, new_file):\n",
    "\n",
    "    with open(file_path, 'r') as file:\n",
    "        content = file.read()\n",
    "\n",
    "    html_content = re.search(r'<!DOCTYPE html>.*</html>', content, re.DOTALL)\n",
    "\n",
    "    extracted_text = html_content.group()\n",
    "\n",
    "    with open(new_file, 'w') as f:\n",
    "        f.write(extracted_text)"
   ]
  },
  {
   "cell_type": "code",
   "execution_count": 9,
   "metadata": {},
   "outputs": [],
   "source": [
    "def restructure(id):\n",
    "    FOLDER = GUIS_NEW + f\"/{id}/\"\n",
    "    if not os.path.exists(FOLDER):\n",
    "        try:\n",
    "            os.mkdir(FOLDER)\n",
    "        except OSError:\n",
    "            print(f\"Folder already exists\")\n",
    "\n",
    "    #cot\n",
    "    cot_llm = GUIS + f\"/COT/llm_summarized/{id}.html\"\n",
    "    extract_html(cot_llm, FOLDER + f\"/cot_llm.html\")\n",
    "    \n",
    "    cot_s2w_single = GUIS + f\"/COT/s2w_single/{id}.html\"\n",
    "    extract_html(cot_s2w_single, FOLDER + f\"/cot_s2w_single.html\")\n",
    "\n",
    "    cot_s2w_full = GUIS + f\"/COT/s2w_full/{id}.html\"\n",
    "    extract_html(cot_s2w_full, FOLDER + f\"/cot_s2w_full.html\")\n",
    "\n",
    "    cot_s2w_summary = GUIS + f\"/COT/s2w_summary/{id}.html\"\n",
    "    extract_html(cot_s2w_summary, FOLDER + f\"/cot_s2w_filtered.html\")\n",
    "\n",
    "    #FS\n",
    "    FS_llm = GUIS + f\"/Few_shot/llm_summarized/{id}.html\"\n",
    "    extract_html(FS_llm, FOLDER + f\"/FS_llm.html\")\n",
    "    \n",
    "    FS_s2w_single = GUIS + f\"/Few_shot/s2w_single/{id}.html\"\n",
    "    extract_html(FS_s2w_single, FOLDER + f\"/FS_s2w_single.html\")\n",
    "\n",
    "    FS_s2w_full = GUIS + f\"/Few_shot/s2w_full/{id}.html\"\n",
    "    extract_html(FS_s2w_full, FOLDER + f\"/FS_s2w_full.html\")\n",
    "\n",
    "    FS_s2w_summary = GUIS + f\"/Few_shot/s2w_summary/{id}.html\"\n",
    "    extract_html(FS_s2w_summary, FOLDER + f\"/FS_s2w_filtered.html\")\n",
    "    \n",
    "    #ZS\n",
    "    ZS_llm = GUIS + f\"/Zero_shot/llm_summarized/{id}.html\"\n",
    "    extract_html(ZS_llm, FOLDER + f\"/ZS_llm.html\")\n",
    "    \n",
    "    ZS_s2w_single = GUIS + f\"/Zero_shot/s2w_single/{id}.html\"\n",
    "    extract_html(ZS_s2w_single, FOLDER + f\"/ZS_s2w_single.html\")\n",
    "\n",
    "    ZS_s2w_full = GUIS + f\"/Zero_shot/s2w_full/{id}.html\"\n",
    "    extract_html(ZS_s2w_full, FOLDER + f\"/ZS_s2w_full.html\")\n",
    "\n",
    "    ZS_s2w_summary = GUIS + f\"/Zero_shot/s2w_summary/{id}.html\"\n",
    "    extract_html(ZS_s2w_summary, FOLDER + f\"/ZS_s2w_filtered.html\")"
   ]
  },
  {
   "cell_type": "code",
   "execution_count": 20,
   "metadata": {},
   "outputs": [],
   "source": [
    "restructure(761)"
   ]
  },
  {
   "cell_type": "code",
   "execution_count": null,
   "metadata": {},
   "outputs": [],
   "source": []
  }
 ],
 "metadata": {
  "kernelspec": {
   "display_name": ".venv",
   "language": "python",
   "name": "python3"
  },
  "language_info": {
   "codemirror_mode": {
    "name": "ipython",
    "version": 3
   },
   "file_extension": ".py",
   "mimetype": "text/x-python",
   "name": "python",
   "nbconvert_exporter": "python",
   "pygments_lexer": "ipython3",
   "version": "3.9.0"
  }
 },
 "nbformat": 4,
 "nbformat_minor": 2
}
