{
 "cells": [
  {
   "cell_type": "code",
   "execution_count": null,
   "metadata": {},
   "outputs": [],
   "source": [
    "from generating_guis_with_llms import create_gui_S2W\n",
    "\n",
    "SUM1 = \"display page showing various options in weather forecast app\"\n",
    "SUM2 = \"page displaying various settings\"\n",
    "SUM3 = \"screen displaying multiple setting options in a weather forecast application\"\n",
    "SUM4 = \"setting page displaying various options in weather application\"\n",
    "SUM5 = \"settings page displaying various options in weather application\"\n",
    "\n",
    "response = create_gui_S2W(13974, SUM1,SUM2,SUM3,SUM4,SUM5)"
   ]
  },
  {
   "cell_type": "code",
   "execution_count": null,
   "metadata": {},
   "outputs": [],
   "source": [
    "from generating_guis_with_llms import create_gui\n",
    "\n",
    "DESCRIPTION = \"This is a flight booking screen from a travel app where users can search for flights, specifying departure and arrival cities, travel dates, number of passengers, and class of service. It also offers options for round trip or one-way flights and displays a section for recent searches\"\n",
    "\n",
    "create_gui(377, DESCRIPTION)"
   ]
  },
  {
   "cell_type": "code",
   "execution_count": 2,
   "metadata": {},
   "outputs": [
    {
     "ename": "ModuleNotFoundError",
     "evalue": "No module named 'notebooks.functions'",
     "output_type": "error",
     "traceback": [
      "\u001b[1;31m---------------------------------------------------------------------------\u001b[0m",
      "\u001b[1;31mModuleNotFoundError\u001b[0m                       Traceback (most recent call last)",
      "\u001b[1;32mc:\\Users\\fiebi\\Projects\\generating-guis-with-LLMs\\notebooks\\testing.ipynb Cell 3\u001b[0m line \u001b[0;36m1\n\u001b[1;32m----> <a href='vscode-notebook-cell:/c%3A/Users/fiebi/Projects/generating-guis-with-LLMs/notebooks/testing.ipynb#W2sZmlsZQ%3D%3D?line=0'>1</a>\u001b[0m \u001b[39mfrom\u001b[39;00m \u001b[39mnotebooks\u001b[39;00m\u001b[39m.\u001b[39;00m\u001b[39mfunctions\u001b[39;00m \u001b[39mimport\u001b[39;00m describe_image\n\u001b[0;32m      <a href='vscode-notebook-cell:/c%3A/Users/fiebi/Projects/generating-guis-with-LLMs/notebooks/testing.ipynb#W2sZmlsZQ%3D%3D?line=2'>3</a>\u001b[0m description \u001b[39m=\u001b[39m describe_image(\u001b[39m455\u001b[39m)  \n",
      "\u001b[1;31mModuleNotFoundError\u001b[0m: No module named 'notebooks.functions'"
     ]
    }
   ],
   "source": [
    "from notebooks.functions import describe_image\n",
    "\n",
    "description = describe_image(455)  "
   ]
  },
  {
   "cell_type": "code",
   "execution_count": null,
   "metadata": {},
   "outputs": [],
   "source": []
  }
 ],
 "metadata": {
  "kernelspec": {
   "display_name": ".venv",
   "language": "python",
   "name": "python3"
  },
  "language_info": {
   "codemirror_mode": {
    "name": "ipython",
    "version": 3
   },
   "file_extension": ".py",
   "mimetype": "text/x-python",
   "name": "python",
   "nbconvert_exporter": "python",
   "pygments_lexer": "ipython3",
   "version": "3.9.0"
  }
 },
 "nbformat": 4,
 "nbformat_minor": 2
}
