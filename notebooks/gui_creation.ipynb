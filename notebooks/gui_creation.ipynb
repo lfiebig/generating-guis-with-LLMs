{
 "cells": [
  {
   "cell_type": "code",
   "execution_count": 1,
   "metadata": {},
   "outputs": [],
   "source": [
    "from dotenv import load_dotenv\n",
    "from langchain.chat_models import ChatOpenAI\n",
    "import pandas as pd\n",
    "from langchain.chains import LLMChain\n",
    "from langfuse.callback import CallbackHandler\n",
    "import os\n",
    "\n",
    "load_dotenv()\n",
    "\n",
    "handler = CallbackHandler(os.environ.get(\"LANGFUSE_PUBLIC_KEY\"), os.environ.get(\"LANGFUSE_SECRET_KEY\"))"
   ]
  },
  {
   "cell_type": "code",
   "execution_count": 2,
   "metadata": {},
   "outputs": [],
   "source": [
    "MODEL = \"gpt-3.5-turbo\"\n",
    "OUTPUT_FOLDER = \"../generated_GUIs/\"\n",
    "IMAGE_INPUT_FOLDER = \"../data/\"\n",
    "S2W = \"../data/s2w_sample_improved.csv\"\n",
    "S2W_SUMMARIZED = \"../data/s2w_summarized.csv\"\n",
    "S2W_SAMPLE = \"../data/s2w_sample.csv\""
   ]
  },
  {
   "cell_type": "code",
   "execution_count": 3,
   "metadata": {},
   "outputs": [],
   "source": [
    "s2w = pd.read_csv(S2W)\n",
    "s2w.drop(columns=[\"Unnamed: 0\"], inplace=True)\n",
    "\n",
    "s2w_summarized = pd.read_csv(S2W_SUMMARIZED)\n",
    "s2w_summarized.drop(columns=[\"Unnamed: 0\"], inplace=True)\n",
    "\n",
    "s2w_sample = pd.read_csv(S2W_SAMPLE)\n",
    "s2w_sample.drop(columns=[\"Unnamed: 0\"], inplace=True)"
   ]
  },
  {
   "cell_type": "code",
   "execution_count": 4,
   "metadata": {},
   "outputs": [],
   "source": [
    "from notebooks.prompts import CREATION_PROMPT_FS, CREATION_PROMPT_ZS\n",
    "\n",
    "def create_GUI(id, prompt_type=\"\",temp=1):\n",
    "    \n",
    "    llm = ChatOpenAI(model_name=MODEL,temperature=temp)\n",
    "\n",
    "    if prompt_type == \"ZS\":\n",
    "        chain = LLMChain(llm=llm, prompt=CREATION_PROMPT_ZS, callbacks=[handler])\n",
    "        summary = s2w_summarized[s2w_summarized[\"screenId\"]==id][\"summary\"].iloc[0]\n",
    "    elif prompt_type == \"FS\":\n",
    "        chain = LLMChain(llm=llm, prompt=CREATION_PROMPT_FS, callbacks=[handler])\n",
    "        summary = s2w_summarized[s2w_summarized[\"screenId\"]==id][\"summary\"].iloc[0]\n",
    "    else:\n",
    "        return \"ERROR: Unknown prompt type provided!\"\n",
    "\n",
    "    \n",
    "    try: \n",
    "        response = chain.run(summary=summary, callbacks=[handler])\n",
    "    except Exception as e:\n",
    "        print(e)\n",
    "    \n",
    "    if prompt_type == \"ZS\":\n",
    "        output_file = OUTPUT_FOLDER + f\"/Zero_shot/s2w_summarized/{id}.html\"\n",
    "    elif prompt_type == \"FS\":\n",
    "        output_file = OUTPUT_FOLDER + f\"/Few_shot/s2w_summarized/{id}.html\"\n",
    "\n",
    "    with open(output_file, 'w') as f:\n",
    "        f.write(response)\n"
   ]
  },
  {
   "cell_type": "code",
   "execution_count": 5,
   "metadata": {},
   "outputs": [],
   "source": [
    "def creation_pipeline(prompt_type):\n",
    "    screens = s2w_sample[\"screenId\"].head(10).values\n",
    "    for screen_id in screens:\n",
    "        create_GUI(screen_id, prompt_type=prompt_type)\n",
    "        print(f\"{screen_id}: creation done\")"
   ]
  },
  {
   "cell_type": "code",
   "execution_count": 6,
   "metadata": {},
   "outputs": [
    {
     "name": "stdout",
     "output_type": "stream",
     "text": [
      "33: creation done\n",
      "70: creation done\n",
      "300: creation done\n",
      "486: creation done\n",
      "494: creation done\n",
      "495: creation done\n",
      "498: creation done\n",
      "549: creation done\n",
      "596: creation done\n",
      "761: creation done\n"
     ]
    }
   ],
   "source": [
    "creation_pipeline(\"FS\")"
   ]
  },
  {
   "cell_type": "code",
   "execution_count": null,
   "metadata": {},
   "outputs": [],
   "source": []
  }
 ],
 "metadata": {
  "kernelspec": {
   "display_name": ".venv",
   "language": "python",
   "name": "python3"
  },
  "language_info": {
   "codemirror_mode": {
    "name": "ipython",
    "version": 3
   },
   "file_extension": ".py",
   "mimetype": "text/x-python",
   "name": "python",
   "nbconvert_exporter": "python",
   "pygments_lexer": "ipython3",
   "version": "3.9.0"
  }
 },
 "nbformat": 4,
 "nbformat_minor": 2
}
