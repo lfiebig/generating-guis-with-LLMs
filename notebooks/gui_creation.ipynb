{
 "cells": [
  {
   "cell_type": "code",
   "execution_count": 1,
   "metadata": {},
   "outputs": [],
   "source": [
    "from dotenv import load_dotenv\n",
    "from langchain.chat_models import ChatOpenAI\n",
    "import pandas as pd\n",
    "from langchain.chains import LLMChain\n",
    "from langfuse.callback import CallbackHandler\n",
    "import os\n",
    "from langchain.schema.runnable import RunnablePassthrough\n",
    "from langchain.schema import StrOutputParser\n",
    "\n",
    "load_dotenv()\n",
    "\n",
    "handler = CallbackHandler(os.environ.get(\"LANGFUSE_PUBLIC_KEY\"), os.environ.get(\"LANGFUSE_SECRET_KEY\"))"
   ]
  },
  {
   "cell_type": "code",
   "execution_count": 2,
   "metadata": {},
   "outputs": [],
   "source": [
    "MODEL = \"gpt-3.5-turbo\"\n",
    "OUTPUT_FOLDER = \"../generated_GUIs/\"\n",
    "IMAGE_INPUT_FOLDER = \"../data/\"\n",
    "\n",
    "s2w = pd.read_csv(\"../data/Screen2Words.csv\")\n",
    "s2w = s2w.drop('Unnamed: 0', axis=1)\n",
    "sample = pd.read_csv(\"../data/s2w_sample.csv\")\n",
    "sample = sample.drop(\"Unnamed: 0\", axis=1)"
   ]
  },
  {
   "cell_type": "code",
   "execution_count": 3,
   "metadata": {},
   "outputs": [],
   "source": [
    "from notebooks.prompts import SUMMARY_PROMPT, CREATION_PROMPT, COT_CREATION_PROMPT, TOT_CREATION_PROMPT\n",
    "\n",
    "\n",
    "#Sequential chain, of summarizing the Screen2Words Summaries into one and creating a GUI\n",
    "def s2w_summarized(id, prompt_type=\"\",temp=0.1, summary_prompt=SUMMARY_PROMPT, creation_prompt=CREATION_PROMPT):\n",
    "\n",
    "    summaries = s2w[s2w[\"screenId\"]==id][\"summary\"].values\n",
    "\n",
    "    llm = ChatOpenAI(model_name=MODEL, temperature=temp)\n",
    "    \n",
    "    summary_chain = summary_prompt | llm | StrOutputParser()\n",
    "    creation_chain = creation_prompt | llm | StrOutputParser()\n",
    "    \n",
    "    chain = {\"summary\": summary_chain} | RunnablePassthrough.assign(creation=creation_chain)\n",
    "    \n",
    "    summaries_str = \"\\n\".join([f\"Summary {i+1}: {summary}\" for i, summary in enumerate(summaries)])\n",
    "    \n",
    "    try: \n",
    "        response = chain.invoke({\"summaries\": summaries_str}, config={\"callbacks\":[handler]})\n",
    "    except Exception as e:\n",
    "        print(e)\n",
    "    \n",
    "    print(response)\n",
    "    if prompt_type == \"COT\":\n",
    "        output_file = OUTPUT_FOLDER + f\"/summarized/Cot/{id}.html\"\n",
    "    elif prompt_type == \"TOT\":\n",
    "        output_file = OUTPUT_FOLDER + f\"/summarized/Tot/{id}.html\"\n",
    "    else:\n",
    "        output_file = OUTPUT_FOLDER + f\"/summarized/vanilla/{id}.html\"\n",
    "\n",
    "    with open(output_file, 'w') as f:\n",
    "        f.write(response.get('creation'))\n",
    "    return response"
   ]
  },
  {
   "cell_type": "code",
   "execution_count": 5,
   "metadata": {},
   "outputs": [
    {
     "name": "stdout",
     "output_type": "stream",
     "text": [
      "<!DOCTYPE html>\n",
      "<html>\n",
      "<head>\n",
      "    <title>Mobile Screen</title>\n",
      "    <style>\n",
      "        body {\n",
      "            font-family: Arial, sans-serif;\n",
      "            background-color: #f2f2f2;\n",
      "        }\n",
      "        \n",
      "        .container {\n",
      "            width: 100%;\n",
      "            max-width: 400px;\n",
      "            margin: 0 auto;\n",
      "            padding: 20px;\n",
      "            background-color: #fff;\n",
      "            border-radius: 10px;\n",
      "            box-shadow: 0 2px 5px rgba(0, 0, 0, 0.1);\n",
      "        }\n",
      "        \n",
      "        h1 {\n",
      "            text-align: center;\n",
      "            margin-top: 0;\n",
      "        }\n",
      "        \n",
      "        p {\n",
      "            margin-bottom: 10px;\n",
      "        }\n",
      "        \n",
      "        .alert {\n",
      "            background-color: #f8d7da;\n",
      "            color: #721c24;\n",
      "            padding: 10px;\n",
      "            border-radius: 5px;\n",
      "            margin-bottom: 20px;\n",
      "        }\n",
      "        \n",
      "        .popup {\n",
      "            position: fixed;\n",
      "            top: 50%;\n",
      "            left: 50%;\n",
      "            transform: translate(-50%, -50%);\n",
      "            width: 300px;\n",
      "            padding: 20px;\n",
      "            background-color: #fff;\n",
      "            border-radius: 10px;\n",
      "            box-shadow: 0 2px 5px rgba(0, 0, 0, 0.1);\n",
      "            z-index: 9999;\n",
      "        }\n",
      "        \n",
      "        .share-options {\n",
      "            display: flex;\n",
      "            justify-content: space-between;\n",
      "            margin-bottom: 20px;\n",
      "        }\n",
      "        \n",
      "        .share-option {\n",
      "            width: 30%;\n",
      "            text-align: center;\n",
      "            padding: 10px;\n",
      "            background-color: #f2f2f2;\n",
      "            border-radius: 5px;\n",
      "            cursor: pointer;\n",
      "        }\n",
      "        \n",
      "        .share-option:hover {\n",
      "            background-color: #e6e6e6;\n",
      "        }\n",
      "    </style>\n",
      "</head>\n",
      "<body>\n",
      "    <div class=\"container\">\n",
      "        <h1>Mobile Screen</h1>\n",
      "        \n",
      "        <div class=\"alert\">\n",
      "            <p>Alert message displaying social apps</p>\n",
      "        </div>\n",
      "        \n",
      "        <div class=\"popup\">\n",
      "            <h2>Share Options</h2>\n",
      "            <div class=\"share-options\">\n",
      "                <div class=\"share-option\">Option 1</div>\n",
      "                <div class=\"share-option\">Option 2</div>\n",
      "                <div class=\"share-option\">Option 3</div>\n",
      "            </div>\n",
      "        </div>\n",
      "        \n",
      "        <div class=\"share-options\">\n",
      "            <div class=\"share-option\">Option 1</div>\n",
      "            <div class=\"share-option\">Option 2</div>\n",
      "            <div class=\"share-option\">Option 3</div>\n",
      "        </div>\n",
      "        \n",
      "        <div class=\"popup\">\n",
      "            <h2>Sharing Options</h2>\n",
      "            <div class=\"share-options\">\n",
      "                <div class=\"share-option\">Option 1</div>\n",
      "                <div class=\"share-option\">Option 2</div>\n",
      "                <div class=\"share-option\">Option 3</div>\n",
      "            </div>\n",
      "        </div>\n",
      "        \n",
      "        <div class=\"share-options\">\n",
      "            <div class=\"share-option\">Option 1</div>\n",
      "            <div class=\"share-option\">Option 2</div>\n",
      "            <div class=\"share-option\">Option 3</div>\n",
      "        </div>\n",
      "        \n",
      "        <div class=\"alert\">\n",
      "            <p>Share episode through social app.</p>\n",
      "        </div>\n",
      "    </div>\n",
      "</body>\n",
      "</html>\n"
     ]
    }
   ],
   "source": [
    "create_gui(486, prompt=S2W_CREATION_PROMPT)"
   ]
  },
  {
   "cell_type": "code",
   "execution_count": 23,
   "metadata": {},
   "outputs": [],
   "source": [
    "#pipeline\n",
    "def creation_pipeline():\n",
    "    screens = sample[\"screenId\"].head(10).values\n",
    "    for screen_id in screens:\n",
    "        s2w_summarized(screen_id)\n",
    "        print(f\"{screen_id}: creation done\")"
   ]
  },
  {
   "cell_type": "code",
   "execution_count": 24,
   "metadata": {},
   "outputs": [
    {
     "name": "stdout",
     "output_type": "stream",
     "text": [
      "{'summary': 'The screen is a pop-up or page that shows various sharing options for social apps. It allows the user to share an episode through different social apps.', 'creation': '<!DOCTYPE html>\\n<html>\\n<head>\\n    <title>Share Episode</title>\\n    <style>\\n        body {\\n            font-family: Arial, sans-serif;\\n            background-color: #f2f2f2;\\n        }\\n        \\n        .container {\\n            width: 300px;\\n            margin: 0 auto;\\n            padding: 20px;\\n            background-color: #fff;\\n            border-radius: 5px;\\n            box-shadow: 0 2px 5px rgba(0, 0, 0, 0.3);\\n        }\\n        \\n        h1 {\\n            text-align: center;\\n            color: #333;\\n        }\\n        \\n        .social-icons {\\n            display: flex;\\n            justify-content: space-around;\\n            margin-top: 20px;\\n        }\\n        \\n        .social-icons a {\\n            text-decoration: none;\\n            color: #333;\\n        }\\n        \\n        .social-icons a:hover {\\n            color: #007bff;\\n        }\\n    </style>\\n</head>\\n<body>\\n    <div class=\"container\">\\n        <h1>Share Episode</h1>\\n        <div class=\"social-icons\">\\n            <a href=\"https://www.facebook.com\"><img src=\"facebook.png\" alt=\"Facebook\"></a>\\n            <a href=\"https://www.twitter.com\"><img src=\"twitter.png\" alt=\"Twitter\"></a>\\n            <a href=\"https://www.instagram.com\"><img src=\"instagram.png\" alt=\"Instagram\"></a>\\n            <a href=\"https://www.linkedin.com\"><img src=\"linkedin.png\" alt=\"LinkedIn\"></a>\\n        </div>\\n    </div>\\n</body>\\n</html>'}\n",
      "f{screen_id}: creation done\n",
      "{'summary': 'A screen is displayed in a religious app that serves as a help menu. It provides options and a tutorial to assist users in understanding and navigating the application. Additionally, there is a contact us option available for further assistance.', 'creation': '<!DOCTYPE html>\\n<html>\\n<head>\\n    <title>Religious App Help Menu</title>\\n    <style>\\n        body {\\n            font-family: Arial, sans-serif;\\n            background-color: #f2f2f2;\\n            margin: 0;\\n            padding: 0;\\n        }\\n        \\n        header {\\n            background-color: #333;\\n            color: #fff;\\n            padding: 10px;\\n            text-align: center;\\n        }\\n        \\n        h1 {\\n            margin: 0;\\n            font-size: 24px;\\n        }\\n        \\n        main {\\n            padding: 20px;\\n        }\\n        \\n        h2 {\\n            font-size: 20px;\\n            margin-top: 0;\\n        }\\n        \\n        p {\\n            margin-bottom: 10px;\\n        }\\n        \\n        .option {\\n            background-color: #fff;\\n            padding: 10px;\\n            margin-bottom: 10px;\\n            border-radius: 5px;\\n            box-shadow: 0 2px 5px rgba(0, 0, 0, 0.1);\\n        }\\n        \\n        .option:hover {\\n            background-color: #f2f2f2;\\n        }\\n        \\n        .contact-us {\\n            background-color: #fff;\\n            padding: 10px;\\n            border-radius: 5px;\\n            box-shadow: 0 2px 5px rgba(0, 0, 0, 0.1);\\n            text-align: center;\\n        }\\n        \\n        .contact-us a {\\n            color: #333;\\n            text-decoration: none;\\n        }\\n        \\n        .contact-us a:hover {\\n            text-decoration: underline;\\n        }\\n    </style>\\n</head>\\n<body>\\n    <header>\\n        <h1>Religious App Help Menu</h1>\\n    </header>\\n    <main>\\n        <h2>Options</h2>\\n        <div class=\"option\">\\n            <h3>Getting Started</h3>\\n            <p>Learn how to use the app and get started with its features.</p>\\n        </div>\\n        <div class=\"option\">\\n            <h3>Navigation</h3>\\n            <p>Understand how to navigate through different sections of the app.</p>\\n        </div>\\n        <div class=\"option\">\\n            <h3>Tutorial</h3>\\n            <p>Watch a step-by-step tutorial to learn more about the app\\'s functionalities.</p>\\n        </div>\\n        <h2>Contact Us</h2>\\n        <div class=\"contact-us\">\\n            <p>If you need further assistance, feel free to <a href=\"mailto:contact@example.com\">contact us</a>.</p>\\n        </div>\\n    </main>\\n</body>\\n</html>'}\n",
      "f{screen_id}: creation done\n",
      "{'summary': 'The screen displays a page in a learning app where users can practice tenses. It provides options for selecting a tense, answering queries, and taking practice tests.', 'creation': '<!DOCTYPE html>\\n<html>\\n<head>\\n    <title>Learning App - Tenses Practice</title>\\n    <style>\\n        body {\\n            font-family: Arial, sans-serif;\\n            background-color: #f2f2f2;\\n        }\\n        \\n        .container {\\n            max-width: 600px;\\n            margin: 0 auto;\\n            padding: 20px;\\n            background-color: #fff;\\n            border-radius: 10px;\\n            box-shadow: 0 0 10px rgba(0, 0, 0, 0.1);\\n        }\\n        \\n        h1 {\\n            text-align: center;\\n            color: #333;\\n        }\\n        \\n        .select-tense {\\n            margin-bottom: 20px;\\n        }\\n        \\n        .select-tense label {\\n            display: block;\\n            font-weight: bold;\\n            margin-bottom: 5px;\\n        }\\n        \\n        .select-tense select {\\n            width: 100%;\\n            padding: 10px;\\n            border: 1px solid #ccc;\\n            border-radius: 5px;\\n        }\\n        \\n        .query {\\n            margin-bottom: 20px;\\n        }\\n        \\n        .query label {\\n            display: block;\\n            font-weight: bold;\\n            margin-bottom: 5px;\\n        }\\n        \\n        .query input[type=\"text\"] {\\n            width: 100%;\\n            padding: 10px;\\n            border: 1px solid #ccc;\\n            border-radius: 5px;\\n        }\\n        \\n        .practice-test {\\n            text-align: center;\\n        }\\n        \\n        .practice-test button {\\n            padding: 10px 20px;\\n            background-color: #333;\\n            color: #fff;\\n            border: none;\\n            border-radius: 5px;\\n            cursor: pointer;\\n        }\\n        \\n        .practice-test button:hover {\\n            background-color: #555;\\n        }\\n    </style>\\n</head>\\n<body>\\n    <div class=\"container\">\\n        <h1>Tenses Practice</h1>\\n        \\n        <div class=\"select-tense\">\\n            <label>Select a tense:</label>\\n            <select>\\n                <option value=\"present\">Present Tense</option>\\n                <option value=\"past\">Past Tense</option>\\n                <option value=\"future\">Future Tense</option>\\n            </select>\\n        </div>\\n        \\n        <div class=\"query\">\\n            <label>Answer the following query:</label>\\n            <input type=\"text\" placeholder=\"Enter your answer\">\\n        </div>\\n        \\n        <div class=\"practice-test\">\\n            <button>Take Practice Test</button>\\n        </div>\\n    </div>\\n</body>\\n</html>'}\n",
      "f{screen_id}: creation done\n",
      "{'summary': 'A screen is displayed in an app that allows users to track menstrual details. It serves as a welcome page with the option to create and enter details. The screen also offers multiple options for users to choose from in a menstrual application. This screen can be found in a health care app specifically designed for tracking menstrual information.', 'creation': '<!DOCTYPE html>\\n<html>\\n<head>\\n    <title>Menstrual Tracker</title>\\n    <style>\\n        body {\\n            font-family: Arial, sans-serif;\\n            background-color: #f2f2f2;\\n            margin: 0;\\n            padding: 0;\\n        }\\n        \\n        .container {\\n            max-width: 600px;\\n            margin: 0 auto;\\n            padding: 20px;\\n        }\\n        \\n        h1 {\\n            text-align: center;\\n            color: #333;\\n        }\\n        \\n        p {\\n            text-align: center;\\n            color: #666;\\n        }\\n        \\n        .button {\\n            display: block;\\n            width: 200px;\\n            margin: 20px auto;\\n            padding: 10px;\\n            text-align: center;\\n            background-color: #4CAF50;\\n            color: #fff;\\n            text-decoration: none;\\n            border-radius: 5px;\\n        }\\n        \\n        .button:hover {\\n            background-color: #45a049;\\n        }\\n    </style>\\n</head>\\n<body>\\n    <div class=\"container\">\\n        <h1>Welcome to Menstrual Tracker</h1>\\n        <p>Track and manage your menstrual details with ease!</p>\\n        <a href=\"create-details.html\" class=\"button\">Create and Enter Details</a>\\n        <h2>Options:</h2>\\n        <ul>\\n            <li>Track menstrual cycle</li>\\n            <li>Record symptoms</li>\\n            <li>Set reminders</li>\\n            <li>View history</li>\\n        </ul>\\n    </div>\\n</body>\\n</html>'}\n",
      "f{screen_id}: creation done\n",
      "{'summary': 'The screen is a display of a mobile banking app that includes a settings page. It also shows the quick balance feature and provides balance information.', 'creation': '<!DOCTYPE html>\\n<html>\\n<head>\\n    <title>Mobile Banking App</title>\\n    <style>\\n        body {\\n            font-family: Arial, sans-serif;\\n            background-color: #f2f2f2;\\n            margin: 0;\\n            padding: 0;\\n        }\\n        \\n        .header {\\n            background-color: #007bff;\\n            color: #fff;\\n            padding: 10px;\\n            text-align: center;\\n        }\\n        \\n        .container {\\n            margin: 20px;\\n        }\\n        \\n        .settings {\\n            background-color: #fff;\\n            padding: 10px;\\n            margin-bottom: 20px;\\n        }\\n        \\n        .settings h2 {\\n            margin: 0;\\n            padding: 0;\\n            font-size: 18px;\\n            font-weight: bold;\\n        }\\n        \\n        .settings ul {\\n            list-style-type: none;\\n            padding: 0;\\n            margin: 0;\\n        }\\n        \\n        .settings li {\\n            margin-bottom: 10px;\\n        }\\n        \\n        .quick-balance {\\n            background-color: #fff;\\n            padding: 10px;\\n        }\\n        \\n        .quick-balance h2 {\\n            margin: 0;\\n            padding: 0;\\n            font-size: 18px;\\n            font-weight: bold;\\n        }\\n        \\n        .balance-info {\\n            background-color: #fff;\\n            padding: 10px;\\n        }\\n        \\n        .balance-info h2 {\\n            margin: 0;\\n            padding: 0;\\n            font-size: 18px;\\n            font-weight: bold;\\n        }\\n        \\n        .balance-info p {\\n            margin: 0;\\n            padding: 0;\\n            font-size: 16px;\\n        }\\n    </style>\\n</head>\\n<body>\\n    <div class=\"header\">\\n        <h1>Mobile Banking App</h1>\\n    </div>\\n    <div class=\"container\">\\n        <div class=\"settings\">\\n            <h2>Settings</h2>\\n            <ul>\\n                <li>Change Password</li>\\n                <li>Update Contact Information</li>\\n                <li>Manage Notifications</li>\\n            </ul>\\n        </div>\\n        <div class=\"quick-balance\">\\n            <h2>Quick Balance</h2>\\n            <p>Your current balance is $5000</p>\\n        </div>\\n        <div class=\"balance-info\">\\n            <h2>Balance Information</h2>\\n            <p>Account Number: 123456789</p>\\n            <p>Available Balance: $5000</p>\\n            <p>Last Transaction: $100 on 01/01/2022</p>\\n        </div>\\n    </div>\\n</body>\\n</html>'}\n",
      "f{screen_id}: creation done\n",
      "{'summary': 'The screen is a page in the application that displays balance information for an account. It also includes an option for quick balance. Additionally, it shows the current device being used in the application.', 'creation': '<!DOCTYPE html>\\n<html>\\n<head>\\n    <title>Account Balance</title>\\n    <style>\\n        body {\\n            font-family: Arial, sans-serif;\\n            background-color: #f2f2f2;\\n            margin: 0;\\n            padding: 0;\\n        }\\n        \\n        .container {\\n            max-width: 600px;\\n            margin: 0 auto;\\n            padding: 20px;\\n            background-color: #fff;\\n            border-radius: 10px;\\n            box-shadow: 0 0 10px rgba(0, 0, 0, 0.1);\\n        }\\n        \\n        h1 {\\n            text-align: center;\\n            color: #333;\\n        }\\n        \\n        p {\\n            margin-bottom: 10px;\\n        }\\n        \\n        .balance {\\n            font-size: 24px;\\n            font-weight: bold;\\n            color: #333;\\n        }\\n        \\n        .quick-balance {\\n            text-align: center;\\n            margin-top: 20px;\\n        }\\n        \\n        .device-info {\\n            margin-top: 40px;\\n            text-align: center;\\n            color: #666;\\n        }\\n    </style>\\n</head>\\n<body>\\n    <div class=\"container\">\\n        <h1>Account Balance</h1>\\n        <p class=\"balance\">Balance: $5000</p>\\n        <div class=\"quick-balance\">\\n            <label for=\"quick-balance-checkbox\">Quick Balance:</label>\\n            <input type=\"checkbox\" id=\"quick-balance-checkbox\">\\n        </div>\\n        <p class=\"device-info\">Current Device: Mobile</p>\\n    </div>\\n</body>\\n</html>'}\n",
      "f{screen_id}: creation done\n",
      "{'summary': 'The screen is a page or pop-up in a dating app that displays a list of preferences or settings. It provides multiple options for the user to choose from and includes a description specifically related to searching for females.', 'creation': '<!DOCTYPE html>\\n<html>\\n<head>\\n    <title>Preferences</title>\\n    <style>\\n        body {\\n            font-family: Arial, sans-serif;\\n            background-color: #f2f2f2;\\n        }\\n        \\n        .container {\\n            max-width: 400px;\\n            margin: 0 auto;\\n            padding: 20px;\\n            background-color: #fff;\\n            border-radius: 10px;\\n            box-shadow: 0 2px 5px rgba(0, 0, 0, 0.1);\\n        }\\n        \\n        h1 {\\n            text-align: center;\\n            color: #333;\\n        }\\n        \\n        p {\\n            color: #666;\\n        }\\n        \\n        label {\\n            display: block;\\n            margin-bottom: 10px;\\n            color: #333;\\n        }\\n        \\n        input[type=\"checkbox\"] {\\n            margin-right: 5px;\\n        }\\n        \\n        button {\\n            display: block;\\n            width: 100%;\\n            padding: 10px;\\n            margin-top: 20px;\\n            background-color: #333;\\n            color: #fff;\\n            border: none;\\n            border-radius: 5px;\\n            cursor: pointer;\\n        }\\n        \\n        button:hover {\\n            background-color: #555;\\n        }\\n    </style>\\n</head>\\n<body>\\n    <div class=\"container\">\\n        <h1>Preferences</h1>\\n        <p>Please select your preferences for searching females:</p>\\n        <label>\\n            <input type=\"checkbox\" name=\"age\" value=\"18-25\"> 18-25 years old\\n        </label>\\n        <label>\\n            <input type=\"checkbox\" name=\"age\" value=\"26-35\"> 26-35 years old\\n        </label>\\n        <label>\\n            <input type=\"checkbox\" name=\"age\" value=\"36+\"> 36+ years old\\n        </label>\\n        <label>\\n            <input type=\"checkbox\" name=\"location\" value=\"local\"> Local\\n        </label>\\n        <label>\\n            <input type=\"checkbox\" name=\"location\" value=\"international\"> International\\n        </label>\\n        <button>Save Preferences</button>\\n    </div>\\n</body>\\n</html>'}\n",
      "f{screen_id}: creation done\n",
      "{'summary': 'The screen is a fitness app page that offers various workout options to set. It also provides a timer and different features for tracking exercises. Additionally, there is a pop-up that provides information about body workouts. Users can use this page to start their exercise or workout sessions.', 'creation': '<!DOCTYPE html>\\n<html>\\n<head>\\n    <title>Fitness App</title>\\n    <style>\\n        body {\\n            font-family: Arial, sans-serif;\\n            background-color: #f2f2f2;\\n        }\\n        \\n        .container {\\n            max-width: 600px;\\n            margin: 0 auto;\\n            padding: 20px;\\n            background-color: #fff;\\n            border-radius: 10px;\\n            box-shadow: 0 0 10px rgba(0, 0, 0, 0.1);\\n        }\\n        \\n        h1 {\\n            text-align: center;\\n            color: #333;\\n        }\\n        \\n        .workout-options {\\n            display: flex;\\n            justify-content: space-between;\\n            margin-bottom: 20px;\\n        }\\n        \\n        .workout-option {\\n            width: 30%;\\n            padding: 10px;\\n            background-color: #f9f9f9;\\n            border-radius: 5px;\\n            text-align: center;\\n            cursor: pointer;\\n        }\\n        \\n        .timer {\\n            text-align: center;\\n            font-size: 24px;\\n            margin-bottom: 20px;\\n        }\\n        \\n        .start-button {\\n            display: block;\\n            width: 100%;\\n            padding: 10px;\\n            background-color: #333;\\n            color: #fff;\\n            text-align: center;\\n            border-radius: 5px;\\n            cursor: pointer;\\n        }\\n        \\n        .popup {\\n            position: fixed;\\n            top: 0;\\n            left: 0;\\n            width: 100%;\\n            height: 100%;\\n            background-color: rgba(0, 0, 0, 0.5);\\n            display: none;\\n            justify-content: center;\\n            align-items: center;\\n        }\\n        \\n        .popup-content {\\n            max-width: 400px;\\n            padding: 20px;\\n            background-color: #fff;\\n            border-radius: 5px;\\n            text-align: center;\\n        }\\n        \\n        .close-button {\\n            position: absolute;\\n            top: 10px;\\n            right: 10px;\\n            color: #999;\\n            cursor: pointer;\\n        }\\n    </style>\\n</head>\\n<body>\\n    <div class=\"container\">\\n        <h1>Fitness App</h1>\\n        \\n        <div class=\"workout-options\">\\n            <div class=\"workout-option\">Option 1</div>\\n            <div class=\"workout-option\">Option 2</div>\\n            <div class=\"workout-option\">Option 3</div>\\n        </div>\\n        \\n        <div class=\"timer\">00:00:00</div>\\n        \\n        <button class=\"start-button\">Start Workout</button>\\n        \\n        <div class=\"popup\">\\n            <div class=\"popup-content\">\\n                <h2>Body Workouts</h2>\\n                <p>Lorem ipsum dolor sit amet, consectetur adipiscing elit. Nullam auctor, nunc id lacinia lacinia, nisl nunc lacinia dolor, id tincidunt nunc nunc ac nunc. Sed id semper nunc. Sed auctor, nunc id lacinia lacinia, nisl nunc lacinia dolor, id tincidunt nunc nunc ac nunc.</p>\\n                <span class=\"close-button\">Close</span>\\n            </div>\\n        </div>\\n    </div>\\n    \\n    <script>\\n        const startButton = document.querySelector(\\'.start-button\\');\\n        const popup = document.querySelector(\\'.popup\\');\\n        const closeButton = document.querySelector(\\'.close-button\\');\\n        \\n        startButton.addEventListener(\\'click\\', () => {\\n            // Start the workout timer\\n        });\\n        \\n        closeButton.addEventListener(\\'click\\', () => {\\n            popup.style.display = \\'none\\';\\n        });\\n    </script>\\n</body>\\n</html>'}\n",
      "f{screen_id}: creation done\n",
      "{'summary': 'The screen is a page in a music converter app that displays multiple options, including the empty list of audios, different options, and various options. It also shows stored files in the library.', 'creation': '<!DOCTYPE html>\\n<html>\\n<head>\\n    <title>Music Converter App</title>\\n    <style>\\n        body {\\n            font-family: Arial, sans-serif;\\n            background-color: #f2f2f2;\\n            margin: 0;\\n            padding: 0;\\n        }\\n        \\n        .header {\\n            background-color: #333;\\n            color: #fff;\\n            padding: 20px;\\n            text-align: center;\\n        }\\n        \\n        .container {\\n            max-width: 600px;\\n            margin: 20px auto;\\n            background-color: #fff;\\n            padding: 20px;\\n            border-radius: 5px;\\n            box-shadow: 0 2px 5px rgba(0, 0, 0, 0.1);\\n        }\\n        \\n        .options {\\n            margin-bottom: 20px;\\n        }\\n        \\n        .options h2 {\\n            margin-top: 0;\\n        }\\n        \\n        .audio-list {\\n            list-style-type: none;\\n            padding: 0;\\n        }\\n        \\n        .audio-list li {\\n            margin-bottom: 10px;\\n            padding: 10px;\\n            background-color: #f2f2f2;\\n            border-radius: 5px;\\n        }\\n        \\n        .library {\\n            margin-top: 20px;\\n        }\\n        \\n        .library h2 {\\n            margin-bottom: 10px;\\n        }\\n        \\n        .library-list {\\n            list-style-type: none;\\n            padding: 0;\\n        }\\n        \\n        .library-list li {\\n            margin-bottom: 10px;\\n            padding: 10px;\\n            background-color: #f2f2f2;\\n            border-radius: 5px;\\n        }\\n    </style>\\n</head>\\n<body>\\n    <div class=\"header\">\\n        <h1>Music Converter App</h1>\\n    </div>\\n    <div class=\"container\">\\n        <div class=\"options\">\\n            <h2>Options</h2>\\n            <ul>\\n                <li>Option 1</li>\\n                <li>Option 2</li>\\n                <li>Option 3</li>\\n            </ul>\\n        </div>\\n        <div class=\"audio-list\">\\n            <h2>Empty List of Audios</h2>\\n            <ul>\\n                <!-- No audios available -->\\n            </ul>\\n        </div>\\n        <div class=\"library\">\\n            <h2>Stored Files in Library</h2>\\n            <ul class=\"library-list\">\\n                <li>File 1</li>\\n                <li>File 2</li>\\n                <li>File 3</li>\\n            </ul>\\n        </div>\\n    </div>\\n</body>\\n</html>'}\n",
      "f{screen_id}: creation done\n",
      "{'summary': 'The screen is a sign-in page for a shopping app.', 'creation': 'Sure! Here\\'s an example of HTML code for a sign-in page for a shopping app:\\n\\n```html\\n<!DOCTYPE html>\\n<html>\\n<head>\\n    <title>Shopping App - Sign In</title>\\n    <style>\\n        body {\\n            font-family: Arial, sans-serif;\\n            background-color: #f2f2f2;\\n            margin: 0;\\n            padding: 0;\\n        }\\n        \\n        .container {\\n            max-width: 400px;\\n            margin: 0 auto;\\n            padding: 20px;\\n            background-color: #fff;\\n            border-radius: 5px;\\n            box-shadow: 0 2px 5px rgba(0, 0, 0, 0.1);\\n            margin-top: 100px;\\n        }\\n        \\n        h1 {\\n            text-align: center;\\n            margin-bottom: 20px;\\n        }\\n        \\n        label {\\n            display: block;\\n            margin-bottom: 10px;\\n        }\\n        \\n        input[type=\"text\"],\\n        input[type=\"password\"] {\\n            width: 100%;\\n            padding: 10px;\\n            border: 1px solid #ccc;\\n            border-radius: 3px;\\n            margin-bottom: 20px;\\n        }\\n        \\n        button {\\n            width: 100%;\\n            padding: 10px;\\n            background-color: #4CAF50;\\n            color: #fff;\\n            border: none;\\n            border-radius: 3px;\\n            cursor: pointer;\\n        }\\n        \\n        button:hover {\\n            background-color: #45a049;\\n        }\\n    </style>\\n</head>\\n<body>\\n    <div class=\"container\">\\n        <h1>Sign In</h1>\\n        <form>\\n            <label for=\"username\">Username:</label>\\n            <input type=\"text\" id=\"username\" name=\"username\" placeholder=\"Enter your username\" required>\\n            \\n            <label for=\"password\">Password:</label>\\n            <input type=\"password\" id=\"password\" name=\"password\" placeholder=\"Enter your password\" required>\\n            \\n            <button type=\"submit\">Sign In</button>\\n        </form>\\n    </div>\\n</body>\\n</html>\\n```\\n\\nThis code creates a sign-in page with a container for the form elements. The form includes fields for username and password, and a submit button. The styling is done using CSS to give it a clean and modern look.'}\n",
      "f{screen_id}: creation done\n"
     ]
    }
   ],
   "source": [
    "creation_pipeline()"
   ]
  },
  {
   "cell_type": "code",
   "execution_count": 14,
   "metadata": {},
   "outputs": [
    {
     "name": "stdout",
     "output_type": "stream",
     "text": [
      "{'summary': 'The screen is a fitness app page that offers various workout options to set. It also includes a timer and different features for tracking exercises. Additionally, there is a pop-up that provides information about body workouts. Users can start exercises and workouts from this page.', 'creation': '<!DOCTYPE html>\\n<html>\\n<head>\\n    <title>Fitness App</title>\\n    <style>\\n        body {\\n            font-family: Arial, sans-serif;\\n            background-color: #f2f2f2;\\n        }\\n        \\n        .container {\\n            max-width: 600px;\\n            margin: 0 auto;\\n            padding: 20px;\\n            background-color: #fff;\\n            border-radius: 10px;\\n            box-shadow: 0 0 10px rgba(0, 0, 0, 0.1);\\n        }\\n        \\n        h1 {\\n            text-align: center;\\n            color: #333;\\n        }\\n        \\n        .workout-options {\\n            display: flex;\\n            flex-wrap: wrap;\\n            justify-content: space-between;\\n            margin-top: 20px;\\n        }\\n        \\n        .workout-option {\\n            width: 45%;\\n            padding: 10px;\\n            background-color: #f9f9f9;\\n            border-radius: 5px;\\n            box-shadow: 0 0 5px rgba(0, 0, 0, 0.1);\\n            margin-bottom: 10px;\\n            cursor: pointer;\\n        }\\n        \\n        .workout-option:hover {\\n            background-color: #e9e9e9;\\n        }\\n        \\n        .timer {\\n            text-align: center;\\n            margin-top: 20px;\\n        }\\n        \\n        .timer span {\\n            font-size: 24px;\\n            color: #333;\\n        }\\n        \\n        .start-button {\\n            display: block;\\n            width: 100%;\\n            padding: 10px;\\n            background-color: #333;\\n            color: #fff;\\n            text-align: center;\\n            border-radius: 5px;\\n            margin-top: 20px;\\n            cursor: pointer;\\n        }\\n        \\n        .start-button:hover {\\n            background-color: #555;\\n        }\\n        \\n        .popup {\\n            position: fixed;\\n            top: 0;\\n            left: 0;\\n            width: 100%;\\n            height: 100%;\\n            background-color: rgba(0, 0, 0, 0.5);\\n            display: none;\\n            justify-content: center;\\n            align-items: center;\\n        }\\n        \\n        .popup-content {\\n            max-width: 400px;\\n            padding: 20px;\\n            background-color: #fff;\\n            border-radius: 5px;\\n            box-shadow: 0 0 10px rgba(0, 0, 0, 0.3);\\n            text-align: center;\\n        }\\n        \\n        .close-button {\\n            position: absolute;\\n            top: 10px;\\n            right: 10px;\\n            color: #999;\\n            cursor: pointer;\\n        }\\n    </style>\\n</head>\\n<body>\\n    <div class=\"container\">\\n        <h1>Fitness App</h1>\\n        <div class=\"workout-options\">\\n            <div class=\"workout-option\">Workout 1</div>\\n            <div class=\"workout-option\">Workout 2</div>\\n            <div class=\"workout-option\">Workout 3</div>\\n            <div class=\"workout-option\">Workout 4</div>\\n            <div class=\"workout-option\">Workout 5</div>\\n            <div class=\"workout-option\">Workout 6</div>\\n        </div>\\n        <div class=\"timer\">\\n            <span>00:00:00</span>\\n        </div>\\n        <button class=\"start-button\">Start</button>\\n    </div>\\n    <div class=\"popup\">\\n        <div class=\"popup-content\">\\n            <h2>Body Workouts</h2>\\n            <p>Lorem ipsum dolor sit amet, consectetur adipiscing elit. Nullam auctor, nisl ac lacinia tincidunt, nunc nisl tincidunt urna, vel luctus nunc nunc id nunc. Sed auctor, nunc eu lacinia tincidunt, nunc nisl tincidunt urna, vel luctus nunc nunc id nunc.</p>\\n            <span class=\"close-button\">Close</span>\\n        </div>\\n    </div>\\n    <script>\\n        const startButton = document.querySelector(\\'.start-button\\');\\n        const popup = document.querySelector(\\'.popup\\');\\n        const closeButton = document.querySelector(\\'.close-button\\');\\n        \\n        startButton.addEventListener(\\'click\\', () => {\\n            // Start the exercise or workout\\n        });\\n        \\n        closeButton.addEventListener(\\'click\\', () => {\\n            popup.style.display = \\'none\\';\\n        });\\n    </script>\\n</body>\\n</html>'}\n"
     ]
    },
    {
     "data": {
      "text/plain": [
       "{'summary': 'The screen is a fitness app page that offers various workout options to set. It also includes a timer and different features for tracking exercises. Additionally, there is a pop-up that provides information about body workouts. Users can start exercises and workouts from this page.',\n",
       " 'creation': '<!DOCTYPE html>\\n<html>\\n<head>\\n    <title>Fitness App</title>\\n    <style>\\n        body {\\n            font-family: Arial, sans-serif;\\n            background-color: #f2f2f2;\\n        }\\n        \\n        .container {\\n            max-width: 600px;\\n            margin: 0 auto;\\n            padding: 20px;\\n            background-color: #fff;\\n            border-radius: 10px;\\n            box-shadow: 0 0 10px rgba(0, 0, 0, 0.1);\\n        }\\n        \\n        h1 {\\n            text-align: center;\\n            color: #333;\\n        }\\n        \\n        .workout-options {\\n            display: flex;\\n            flex-wrap: wrap;\\n            justify-content: space-between;\\n            margin-top: 20px;\\n        }\\n        \\n        .workout-option {\\n            width: 45%;\\n            padding: 10px;\\n            background-color: #f9f9f9;\\n            border-radius: 5px;\\n            box-shadow: 0 0 5px rgba(0, 0, 0, 0.1);\\n            margin-bottom: 10px;\\n            cursor: pointer;\\n        }\\n        \\n        .workout-option:hover {\\n            background-color: #e9e9e9;\\n        }\\n        \\n        .timer {\\n            text-align: center;\\n            margin-top: 20px;\\n        }\\n        \\n        .timer span {\\n            font-size: 24px;\\n            color: #333;\\n        }\\n        \\n        .start-button {\\n            display: block;\\n            width: 100%;\\n            padding: 10px;\\n            background-color: #333;\\n            color: #fff;\\n            text-align: center;\\n            border-radius: 5px;\\n            margin-top: 20px;\\n            cursor: pointer;\\n        }\\n        \\n        .start-button:hover {\\n            background-color: #555;\\n        }\\n        \\n        .popup {\\n            position: fixed;\\n            top: 0;\\n            left: 0;\\n            width: 100%;\\n            height: 100%;\\n            background-color: rgba(0, 0, 0, 0.5);\\n            display: none;\\n            justify-content: center;\\n            align-items: center;\\n        }\\n        \\n        .popup-content {\\n            max-width: 400px;\\n            padding: 20px;\\n            background-color: #fff;\\n            border-radius: 5px;\\n            box-shadow: 0 0 10px rgba(0, 0, 0, 0.3);\\n            text-align: center;\\n        }\\n        \\n        .close-button {\\n            position: absolute;\\n            top: 10px;\\n            right: 10px;\\n            color: #999;\\n            cursor: pointer;\\n        }\\n    </style>\\n</head>\\n<body>\\n    <div class=\"container\">\\n        <h1>Fitness App</h1>\\n        <div class=\"workout-options\">\\n            <div class=\"workout-option\">Workout 1</div>\\n            <div class=\"workout-option\">Workout 2</div>\\n            <div class=\"workout-option\">Workout 3</div>\\n            <div class=\"workout-option\">Workout 4</div>\\n            <div class=\"workout-option\">Workout 5</div>\\n            <div class=\"workout-option\">Workout 6</div>\\n        </div>\\n        <div class=\"timer\">\\n            <span>00:00:00</span>\\n        </div>\\n        <button class=\"start-button\">Start</button>\\n    </div>\\n    <div class=\"popup\">\\n        <div class=\"popup-content\">\\n            <h2>Body Workouts</h2>\\n            <p>Lorem ipsum dolor sit amet, consectetur adipiscing elit. Nullam auctor, nisl ac lacinia tincidunt, nunc nisl tincidunt urna, vel luctus nunc nunc id nunc. Sed auctor, nunc eu lacinia tincidunt, nunc nisl tincidunt urna, vel luctus nunc nunc id nunc.</p>\\n            <span class=\"close-button\">Close</span>\\n        </div>\\n    </div>\\n    <script>\\n        const startButton = document.querySelector(\\'.start-button\\');\\n        const popup = document.querySelector(\\'.popup\\');\\n        const closeButton = document.querySelector(\\'.close-button\\');\\n        \\n        startButton.addEventListener(\\'click\\', () => {\\n            // Start the exercise or workout\\n        });\\n        \\n        closeButton.addEventListener(\\'click\\', () => {\\n            popup.style.display = \\'none\\';\\n        });\\n    </script>\\n</body>\\n</html>'}"
      ]
     },
     "execution_count": 14,
     "metadata": {},
     "output_type": "execute_result"
    }
   ],
   "source": [
    "s2w_summarized(1264)"
   ]
  },
  {
   "cell_type": "code",
   "execution_count": 6,
   "metadata": {},
   "outputs": [
    {
     "data": {
      "text/plain": [
       "array(['alert message displaying social apps',\n",
       "       'display of a pop up with share options',\n",
       "       'page displaying multiple share options',\n",
       "       'pop-up showing different sharing options',\n",
       "       'share episode through social app'], dtype=object)"
      ]
     },
     "execution_count": 6,
     "metadata": {},
     "output_type": "execute_result"
    }
   ],
   "source": [
    "s2w[s2w[\"screenId\"]==486][\"summary\"].values\n"
   ]
  },
  {
   "cell_type": "code",
   "execution_count": null,
   "metadata": {},
   "outputs": [],
   "source": []
  }
 ],
 "metadata": {
  "kernelspec": {
   "display_name": ".venv",
   "language": "python",
   "name": "python3"
  },
  "language_info": {
   "codemirror_mode": {
    "name": "ipython",
    "version": 3
   },
   "file_extension": ".py",
   "mimetype": "text/x-python",
   "name": "python",
   "nbconvert_exporter": "python",
   "pygments_lexer": "ipython3",
   "version": "3.9.0"
  }
 },
 "nbformat": 4,
 "nbformat_minor": 2
}
