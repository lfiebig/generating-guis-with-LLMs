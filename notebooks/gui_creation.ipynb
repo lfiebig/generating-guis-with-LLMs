{
 "cells": [
  {
   "cell_type": "code",
   "execution_count": 17,
   "metadata": {},
   "outputs": [],
   "source": [
    "from dotenv import load_dotenv\n",
    "from langchain.chat_models import ChatOpenAI\n",
    "from langchain.prompts import PromptTemplate\n",
    "import pandas as pd\n",
    "from langfuse.callback import CallbackHandler\n",
    "import os\n",
    "from langchain.schema.runnable import RunnablePassthrough\n",
    "from langchain.schema import StrOutputParser\n",
    "\n",
    "load_dotenv()\n",
    "\n",
    "handler = CallbackHandler(os.environ.get(\"LANGFUSE_PUBLIC_KEY\"), os.environ.get(\"LANGFUSE_SECRET_KEY\"))"
   ]
  },
  {
   "cell_type": "code",
   "execution_count": 18,
   "metadata": {},
   "outputs": [],
   "source": [
    "MODEL = \"gpt-3.5-turbo\"\n",
    "OUTPUT_FOLDER = \"../generated_GUIs/\"\n",
    "IMAGE_INPUT_FOLDER = \"../data/\"\n",
    "CREATION_PROMPT = PromptTemplate(\n",
    "    input_variables=[\"summary\"],\n",
    "    template= \"\"\"create the HTML code for a Mobilepage, \n",
    "    with a bit of styling, that represents following functionality: \n",
    "    {summary}.\"\"\"\n",
    ")\n",
    "SUMMARY_PROMPT = PromptTemplate(\n",
    "    input_variables=[\"summaries\"],\n",
    "    template=\"\"\"Given a collection of Screen summaries, which describe the same screen:\n",
    "        {summaries}.\n",
    "        \n",
    "        Extract the provided information of the screen and formulate a new description. make sure, that no information is lost\"\"\"\n",
    ")\n",
    "s2w = pd.read_csv(\"../data/Screen2Words.csv\")\n",
    "s2w = s2w.drop('Unnamed: 0', axis=1)\n",
    "sample = pd.read_csv(\"../data/s2w_sample.csv\")\n",
    "sample = sample.drop(\"Unnamed: 0\", axis=1)"
   ]
  },
  {
   "cell_type": "code",
   "execution_count": 19,
   "metadata": {},
   "outputs": [],
   "source": [
    "#Sequential chain, of summarizing the Screen2Words Summaries into one and creating a GUI\n",
    "def s2w_summarized(id, temp=0.5):\n",
    "\n",
    "    summaries = s2w[s2w[\"screenId\"]==id].values\n",
    "\n",
    "    llm = ChatOpenAI(model_name=MODEL, temperature=temp)\n",
    "    \n",
    "    summary_chain = SUMMARY_PROMPT | llm | StrOutputParser()\n",
    "    creation_chain = CREATION_PROMPT | llm | StrOutputParser()\n",
    "    \n",
    "    chain = {\"summary\": summary_chain} | RunnablePassthrough.assign(creation=creation_chain)\n",
    "    \n",
    "    summaries_str = \"\\n\".join([f\"Summary {i+1}: {summary}\" for i, summary in enumerate(summaries)])\n",
    "    \n",
    "    try: \n",
    "        response = chain.invoke({\"summaries\": summaries_str})#, config={\"callbacks\":[handler]})\n",
    "    except Exception as e:\n",
    "        print(e)\n",
    "    \n",
    "    print(response)\n",
    "    with open(OUTPUT_FOLDER + f\"{id}_S2W.html\", 'w') as f:\n",
    "        f.write(response.get('creation'))\n",
    "    return response"
   ]
  },
  {
   "cell_type": "code",
   "execution_count": 20,
   "metadata": {},
   "outputs": [],
   "source": [
    "#pipeline\n",
    "def creation_pipeline():\n",
    "    screens = sample[\"screenId\"].head(10).values\n",
    "    for screen_id in screens:\n",
    "        s2w_summarized(screen_id)\n",
    "        print(\"f{screen_id}: creation done\")"
   ]
  },
  {
   "cell_type": "code",
   "execution_count": 21,
   "metadata": {},
   "outputs": [
    {
     "name": "stdout",
     "output_type": "stream",
     "text": [
      "{'summary': 'The screen displays a pop-up or page with multiple share options for sharing an episode through social apps on a train.', 'creation': '<!DOCTYPE html>\\n<html>\\n<head>\\n    <title>Mobile Page - Share Episode</title>\\n    <style>\\n        body {\\n            font-family: Arial, sans-serif;\\n            background-color: #f2f2f2;\\n            margin: 0;\\n            padding: 0;\\n        }\\n        \\n        .popup {\\n            position: fixed;\\n            top: 50%;\\n            left: 50%;\\n            transform: translate(-50%, -50%);\\n            background-color: white;\\n            border-radius: 10px;\\n            padding: 20px;\\n            box-shadow: 0 0 10px rgba(0, 0, 0, 0.3);\\n            max-width: 300px;\\n        }\\n        \\n        h1 {\\n            font-size: 20px;\\n            margin-top: 0;\\n        }\\n        \\n        ul {\\n            list-style-type: none;\\n            padding: 0;\\n            margin: 0;\\n        }\\n        \\n        li {\\n            margin-bottom: 10px;\\n        }\\n        \\n        a {\\n            display: block;\\n            padding: 10px;\\n            background-color: #f2f2f2;\\n            text-decoration: none;\\n            color: #333;\\n            border-radius: 5px;\\n            transition: background-color 0.3s ease;\\n        }\\n        \\n        a:hover {\\n            background-color: #ccc;\\n        }\\n    </style>\\n</head>\\n<body>\\n    <div class=\"popup\">\\n        <h1>Share Episode</h1>\\n        <ul>\\n            <li><a href=\"#\">Share on Facebook</a></li>\\n            <li><a href=\"#\">Share on Twitter</a></li>\\n            <li><a href=\"#\">Share on Instagram</a></li>\\n            <li><a href=\"#\">Share on WhatsApp</a></li>\\n            <li><a href=\"#\">Share on Pinterest</a></li>\\n        </ul>\\n    </div>\\n</body>\\n</html>'}\n",
      "f{screen_id}: creation done\n",
      "{'summary': 'The new description of the screen could be: \"This screen is a help page in a religious app. It displays options to know about the application, provides a tutorial help, and offers a contact us feature.\"', 'creation': '<!DOCTYPE html>\\n<html>\\n<head>\\n    <title>Help Page</title>\\n    <style>\\n        body {\\n            font-family: Arial, sans-serif;\\n            background-color: #f2f2f2;\\n            margin: 0;\\n            padding: 0;\\n        }\\n        \\n        .container {\\n            max-width: 400px;\\n            margin: 0 auto;\\n            padding: 20px;\\n            background-color: #fff;\\n            border-radius: 10px;\\n            box-shadow: 0 2px 5px rgba(0, 0, 0, 0.1);\\n        }\\n        \\n        h1 {\\n            text-align: center;\\n            color: #333;\\n        }\\n        \\n        .options {\\n            margin-top: 20px;\\n        }\\n        \\n        .option {\\n            padding: 10px;\\n            background-color: #f9f9f9;\\n            border-radius: 5px;\\n            margin-bottom: 10px;\\n        }\\n        \\n        .option:hover {\\n            background-color: #e9e9e9;\\n        }\\n        \\n        .option a {\\n            text-decoration: none;\\n            color: #333;\\n        }\\n        \\n        .contact-us {\\n            text-align: center;\\n            margin-top: 20px;\\n        }\\n        \\n        .contact-us a {\\n            text-decoration: none;\\n            color: #333;\\n            font-weight: bold;\\n        }\\n    </style>\\n</head>\\n<body>\\n    <div class=\"container\">\\n        <h1>Help Page</h1>\\n        <div class=\"options\">\\n            <div class=\"option\">\\n                <a href=\"#\">About the Application</a>\\n            </div>\\n            <div class=\"option\">\\n                <a href=\"#\">Tutorial Help</a>\\n            </div>\\n        </div>\\n        <div class=\"contact-us\">\\n            <a href=\"#\">Contact Us</a>\\n        </div>\\n    </div>\\n</body>\\n</html>'}\n",
      "f{screen_id}: creation done\n",
      "{'summary': 'The screen displays a page in a learning app where users can practice tenses. It provides options for selecting a tense and answering queries.', 'creation': '<!DOCTYPE html>\\n<html>\\n<head>\\n    <title>Learning App - Tenses Practice</title>\\n    <style>\\n        body {\\n            font-family: Arial, sans-serif;\\n            background-color: #f2f2f2;\\n            padding: 20px;\\n        }\\n        \\n        h1 {\\n            text-align: center;\\n            color: #333;\\n        }\\n        \\n        .container {\\n            max-width: 600px;\\n            margin: 0 auto;\\n            background-color: #fff;\\n            padding: 20px;\\n            border-radius: 5px;\\n            box-shadow: 0 2px 5px rgba(0, 0, 0, 0.1);\\n        }\\n        \\n        label {\\n            font-weight: bold;\\n        }\\n        \\n        select,\\n        input[type=\"text\"] {\\n            width: 100%;\\n            padding: 10px;\\n            margin-bottom: 10px;\\n            border: 1px solid #ccc;\\n            border-radius: 5px;\\n        }\\n        \\n        button {\\n            background-color: #4CAF50;\\n            color: #fff;\\n            border: none;\\n            padding: 10px 20px;\\n            border-radius: 5px;\\n            cursor: pointer;\\n        }\\n        \\n        button:hover {\\n            background-color: #45a049;\\n        }\\n    </style>\\n</head>\\n<body>\\n    <div class=\"container\">\\n        <h1>Tenses Practice</h1>\\n        <label for=\"tense-select\">Select a tense:</label>\\n        <select id=\"tense-select\">\\n            <option value=\"present\">Present Tense</option>\\n            <option value=\"past\">Past Tense</option>\\n            <option value=\"future\">Future Tense</option>\\n        </select>\\n        <label for=\"query-input\">Answer the query:</label>\\n        <input type=\"text\" id=\"query-input\" placeholder=\"Type your answer here...\">\\n        <button id=\"submit-btn\">Submit</button>\\n    </div>\\n</body>\\n</html>'}\n",
      "f{screen_id}: creation done\n",
      "{'summary': 'The provided information of the screen can be extracted as follows:\\n\\nScreen ID: 865\\nDescription: Page displaying options to create menstrual details in a tracking app, requesting to enter details on a health care app, showing welcome with create option, and displaying multiple options in a menstrual application. It is a welcome page with details in a period tracking app. The screen is related to a train.', 'creation': '<!DOCTYPE html>\\n<html>\\n<head>\\n    <meta name=\"viewport\" content=\"width=device-width, initial-scale=1.0\">\\n    <style>\\n        body {\\n            font-family: Arial, sans-serif;\\n            margin: 0;\\n            padding: 0;\\n            background-color: #f2f2f2;\\n        }\\n\\n        .container {\\n            max-width: 600px;\\n            margin: 0 auto;\\n            padding: 20px;\\n            background-color: #fff;\\n            border-radius: 10px;\\n            box-shadow: 0 0 10px rgba(0, 0, 0, 0.1);\\n        }\\n\\n        h1 {\\n            text-align: center;\\n            margin-bottom: 30px;\\n        }\\n\\n        p {\\n            margin-bottom: 20px;\\n        }\\n\\n        .options {\\n            display: flex;\\n            flex-wrap: wrap;\\n            justify-content: space-between;\\n        }\\n\\n        .option {\\n            width: calc(50% - 10px);\\n            margin-bottom: 20px;\\n            padding: 10px;\\n            background-color: #e6e6e6;\\n            border-radius: 5px;\\n        }\\n\\n        .option:hover {\\n            background-color: #d9d9d9;\\n        }\\n    </style>\\n</head>\\n<body>\\n    <div class=\"container\">\\n        <h1>Welcome to the Period Tracking App</h1>\\n        <p>This page allows you to create and track your menstrual details.</p>\\n        <p>Please enter your details in the health care app and start tracking your periods.</p>\\n        <div class=\"options\">\\n            <div class=\"option\">\\n                <h2>Create Details</h2>\\n                <p>Click here to enter your menstrual details.</p>\\n            </div>\\n            <div class=\"option\">\\n                <h2>Multiple Options</h2>\\n                <p>Explore various options available in the menstrual application.</p>\\n            </div>\\n        </div>\\n        <p>This screen is related to a train.</p>\\n    </div>\\n</body>\\n</html>'}\n",
      "f{screen_id}: creation done\n",
      "{'summary': 'The new description of the screen can be formulated as follows:\\n\\nThe screen displays a settings page of a mobile banking app, which includes information about the balance. Additionally, there is a quick balance display feature available on the screen.', 'creation': '<!DOCTYPE html>\\n<html>\\n<head>\\n    <title>Mobile Banking App - Settings</title>\\n    <style>\\n        body {\\n            font-family: Arial, sans-serif;\\n            margin: 0;\\n            padding: 20px;\\n        }\\n        \\n        h1 {\\n            font-size: 24px;\\n            margin-bottom: 10px;\\n        }\\n        \\n        p {\\n            font-size: 16px;\\n            margin-bottom: 20px;\\n        }\\n        \\n        .balance-container {\\n            background-color: #f0f0f0;\\n            padding: 10px;\\n            border-radius: 5px;\\n            margin-bottom: 20px;\\n        }\\n        \\n        .balance-title {\\n            font-size: 18px;\\n            font-weight: bold;\\n            margin-bottom: 10px;\\n        }\\n        \\n        .balance-amount {\\n            font-size: 24px;\\n        }\\n        \\n        .quick-balance-container {\\n            background-color: #f0f0f0;\\n            padding: 10px;\\n            border-radius: 5px;\\n        }\\n        \\n        .quick-balance-title {\\n            font-size: 18px;\\n            font-weight: bold;\\n            margin-bottom: 10px;\\n        }\\n        \\n        .quick-balance-amount {\\n            font-size: 24px;\\n        }\\n    </style>\\n</head>\\n<body>\\n    <h1>Settings</h1>\\n    <p>Welcome to the settings page of the mobile banking app.</p>\\n    \\n    <div class=\"balance-container\">\\n        <h2 class=\"balance-title\">Account Balance</h2>\\n        <p class=\"balance-amount\">$500.00</p>\\n    </div>\\n    \\n    <div class=\"quick-balance-container\">\\n        <h2 class=\"quick-balance-title\">Quick Balance</h2>\\n        <p class=\"quick-balance-amount\">$500.00</p>\\n    </div>\\n</body>\\n</html>'}\n",
      "f{screen_id}: creation done\n",
      "{'summary': 'The provided information of the screen can be extracted as follows:\\n- Screen ID: 882\\n- Description: Displaying a page in the application with the option of quick balance. This page also shows balance information for an account along with other options. It also displays the current device in the application.\\n\\nFormulated new description: Screen 882 is a page in the application that offers the option of quick balance. It provides balance information for an account, along with other options, and also displays the current device being used in the application.', 'creation': '<!DOCTYPE html>\\n<html>\\n<head>\\n    <title>Mobile Page</title>\\n    <style>\\n        body {\\n            font-family: Arial, sans-serif;\\n            background-color: #f2f2f2;\\n            margin: 0;\\n            padding: 0;\\n        }\\n        \\n        .container {\\n            max-width: 600px;\\n            margin: 0 auto;\\n            padding: 20px;\\n            background-color: #fff;\\n            border-radius: 5px;\\n            box-shadow: 0 2px 5px rgba(0, 0, 0, 0.1);\\n        }\\n        \\n        h1 {\\n            font-size: 24px;\\n            margin-top: 0;\\n        }\\n        \\n        p {\\n            font-size: 16px;\\n            line-height: 1.5;\\n        }\\n        \\n        .balance-info {\\n            margin-top: 20px;\\n        }\\n        \\n        .options {\\n            margin-top: 20px;\\n        }\\n        \\n        .device-info {\\n            margin-top: 20px;\\n        }\\n    </style>\\n</head>\\n<body>\\n    <div class=\"container\">\\n        <h1>Screen 882</h1>\\n        <p>This page offers the option of quick balance. It provides balance information for an account, along with other options, and also displays the current device being used in the application.</p>\\n        <div class=\"balance-info\">\\n            <h2>Balance Information</h2>\\n            <!-- Add balance information here -->\\n        </div>\\n        <div class=\"options\">\\n            <h2>Options</h2>\\n            <!-- Add options here -->\\n        </div>\\n        <div class=\"device-info\">\\n            <h2>Device Information</h2>\\n            <!-- Add device information here -->\\n        </div>\\n    </div>\\n</body>\\n</html>'}\n",
      "f{screen_id}: creation done\n",
      "{'summary': 'The screen is a train with the ID 1050. It is a page or list in a dating app that displays preferences, settings, options, and descriptions for searching females.', 'creation': '<!DOCTYPE html>\\n<html>\\n<head>\\n    <title>Mobile Dating App</title>\\n    <style>\\n        body {\\n            font-family: Arial, sans-serif;\\n            background-color: #f2f2f2;\\n            margin: 0;\\n            padding: 0;\\n        }\\n\\n        .header {\\n            background-color: #333;\\n            color: #fff;\\n            padding: 15px;\\n            text-align: center;\\n        }\\n\\n        .container {\\n            margin: 20px;\\n        }\\n\\n        .train {\\n            background-color: #fff;\\n            border-radius: 5px;\\n            box-shadow: 0 2px 5px rgba(0, 0, 0, 0.1);\\n            padding: 20px;\\n        }\\n\\n        .section {\\n            margin-bottom: 20px;\\n        }\\n\\n        h1 {\\n            font-size: 20px;\\n            margin-bottom: 10px;\\n        }\\n\\n        p {\\n            margin: 0;\\n        }\\n\\n        .preference-item {\\n            display: flex;\\n            align-items: center;\\n            margin-bottom: 10px;\\n        }\\n\\n        .preference-item label {\\n            margin-right: 10px;\\n        }\\n\\n        .search-option {\\n            margin-bottom: 10px;\\n        }\\n\\n        .search-option input[type=\"checkbox\"] {\\n            margin-right: 5px;\\n        }\\n\\n        .search-option label {\\n            font-weight: bold;\\n        }\\n\\n        .button {\\n            background-color: #4CAF50;\\n            color: #fff;\\n            border: none;\\n            padding: 10px 20px;\\n            text-align: center;\\n            text-decoration: none;\\n            display: inline-block;\\n            font-size: 16px;\\n            margin-top: 10px;\\n            cursor: pointer;\\n            border-radius: 5px;\\n        }\\n    </style>\\n</head>\\n<body>\\n    <div class=\"header\">\\n        <h1>Train #1050 - Dating App</h1>\\n    </div>\\n    <div class=\"container\">\\n        <div class=\"train\">\\n            <div class=\"section\">\\n                <h1>Preferences</h1>\\n                <div class=\"preference-item\">\\n                    <label for=\"age\">Age:</label>\\n                    <input type=\"text\" id=\"age\" name=\"age\" placeholder=\"Enter preferred age range\">\\n                </div>\\n                <div class=\"preference-item\">\\n                    <label for=\"height\">Height:</label>\\n                    <input type=\"text\" id=\"height\" name=\"height\" placeholder=\"Enter preferred height range\">\\n                </div>\\n                <div class=\"preference-item\">\\n                    <label for=\"body-type\">Body Type:</label>\\n                    <select id=\"body-type\" name=\"body-type\">\\n                        <option value=\"slim\">Slim</option>\\n                        <option value=\"average\">Average</option>\\n                        <option value=\"curvy\">Curvy</option>\\n                        <option value=\"athletic\">Athletic</option>\\n                    </select>\\n                </div>\\n            </div>\\n            <div class=\"section\">\\n                <h1>Settings</h1>\\n                <div class=\"preference-item\">\\n                    <label for=\"distance\">Distance:</label>\\n                    <input type=\"text\" id=\"distance\" name=\"distance\" placeholder=\"Enter preferred distance\">\\n                </div>\\n                <div class=\"preference-item\">\\n                    <label for=\"notifications\">Notifications:</label>\\n                    <input type=\"checkbox\" id=\"notifications\" name=\"notifications\">\\n                    <label for=\"notifications\">Receive notifications</label>\\n                </div>\\n            </div>\\n            <div class=\"section\">\\n                <h1>Options</h1>\\n                <div class=\"search-option\">\\n                    <input type=\"checkbox\" id=\"photos\" name=\"photos\">\\n                    <label for=\"photos\">Only show profiles with photos</label>\\n                </div>\\n                <div class=\"search-option\">\\n                    <input type=\"checkbox\" id=\"online\" name=\"online\">\\n                    <label for=\"online\">Only show profiles of online users</label>\\n                </div>\\n            </div>\\n            <div class=\"section\">\\n                <h1>Description</h1>\\n                <p>This page displays preferences, settings, options, and descriptions for searching females in the dating app.</p>\\n            </div>\\n            <button class=\"button\">Search</button>\\n        </div>\\n    </div>\\n</body>\\n</html>'}\n",
      "f{screen_id}: creation done\n",
      "{'summary': 'The screen is a training page (1264) that displays various workout options to set and start exercising. It also includes a pop-up about body workouts and features a timer and other functionalities of a fitness app.', 'creation': '<!DOCTYPE html>\\n<html>\\n<head>\\n    <title>Mobile Fitness App</title>\\n    <style>\\n        body {\\n            font-family: Arial, sans-serif;\\n        }\\n        \\n        .container {\\n            width: 80%;\\n            margin: 0 auto;\\n            padding: 20px;\\n        }\\n        \\n        h1 {\\n            text-align: center;\\n            margin-bottom: 20px;\\n        }\\n        \\n        .workout-options {\\n            display: flex;\\n            flex-wrap: wrap;\\n            justify-content: space-between;\\n        }\\n        \\n        .workout-card {\\n            width: 45%;\\n            background-color: #f2f2f2;\\n            padding: 10px;\\n            margin-bottom: 20px;\\n            border-radius: 5px;\\n        }\\n        \\n        .workout-card h2 {\\n            font-size: 18px;\\n            margin-bottom: 10px;\\n        }\\n        \\n        .workout-card p {\\n            font-size: 14px;\\n            color: #666;\\n        }\\n        \\n        .popup {\\n            position: fixed;\\n            top: 0;\\n            left: 0;\\n            width: 100%;\\n            height: 100%;\\n            background-color: rgba(0, 0, 0, 0.5);\\n            display: none;\\n            justify-content: center;\\n            align-items: center;\\n        }\\n        \\n        .popup-content {\\n            background-color: #fff;\\n            padding: 20px;\\n            border-radius: 5px;\\n            max-width: 80%;\\n            text-align: center;\\n        }\\n        \\n        .close-btn {\\n            position: absolute;\\n            top: 10px;\\n            right: 10px;\\n            cursor: pointer;\\n        }\\n        \\n        .timer {\\n            text-align: center;\\n            font-size: 24px;\\n            margin-bottom: 20px;\\n        }\\n        \\n        .timer-btns {\\n            display: flex;\\n            justify-content: center;\\n        }\\n        \\n        .timer-btns button {\\n            margin: 0 10px;\\n            padding: 10px 20px;\\n            font-size: 16px;\\n            background-color: #4CAF50;\\n            color: #fff;\\n            border: none;\\n            border-radius: 5px;\\n            cursor: pointer;\\n        }\\n    </style>\\n</head>\\n<body>\\n    <div class=\"container\">\\n        <h1>Training Page</h1>\\n        \\n        <div class=\"workout-options\">\\n            <div class=\"workout-card\">\\n                <h2>Cardio Workout</h2>\\n                <p>Improve cardiovascular health and burn calories.</p>\\n            </div>\\n            <div class=\"workout-card\">\\n                <h2>Strength Training</h2>\\n                <p>Build strength and increase muscle mass.</p>\\n            </div>\\n            <div class=\"workout-card\">\\n                <h2>Yoga</h2>\\n                <p>Improve flexibility, balance, and mindfulness.</p>\\n            </div>\\n            <div class=\"workout-card\">\\n                <h2>Pilates</h2>\\n                <p>Strengthen core muscles and improve posture.</p>\\n            </div>\\n        </div>\\n        \\n        <button onclick=\"showPopup()\">Learn More</button>\\n        \\n        <div class=\"popup\" id=\"popup\">\\n            <div class=\"popup-content\">\\n                <span class=\"close-btn\" onclick=\"closePopup()\">&times;</span>\\n                <h2>About Body Workouts</h2>\\n                <p>Lorem ipsum dolor sit amet, consectetur adipiscing elit. Nullam id ligula sit amet ligula eleifend lacinia. Proin id convallis diam. In hac habitasse platea dictumst. Sed luctus semper tortor, et finibus arcu suscipit eget. Nullam auctor, elit vitae aliquet imperdiet, nisl mauris sodales turpis, quis bibendum mauris nisi id metus.</p>\\n            </div>\\n        </div>\\n        \\n        <div class=\"timer\">\\n            <span id=\"timer\">00:00:00</span>\\n        </div>\\n        \\n        <div class=\"timer-btns\">\\n            <button onclick=\"startTimer()\">Start</button>\\n            <button onclick=\"pauseTimer()\">Pause</button>\\n            <button onclick=\"resetTimer()\">Reset</button>\\n        </div>\\n    </div>\\n    \\n    <script>\\n        function showPopup() {\\n            document.getElementById(\"popup\").style.display = \"flex\";\\n        }\\n        \\n        function closePopup() {\\n            document.getElementById(\"popup\").style.display = \"none\";\\n        }\\n        \\n        function startTimer() {\\n            // Code for starting the timer\\n        }\\n        \\n        function pauseTimer() {\\n            // Code for pausing the timer\\n        }\\n        \\n        function resetTimer() {\\n            // Code for resetting the timer\\n        }\\n    </script>\\n</body>\\n</html>'}\n",
      "f{screen_id}: creation done\n",
      "{'summary': 'The screen being described is a train-related page (screen ID: 1365) that displays multiple options. It is a page in a music converter app that shows various options and stored files in the library.', 'creation': '<!DOCTYPE html>\\n<html>\\n<head>\\n    <meta name=\"viewport\" content=\"width=device-width, initial-scale=1.0\">\\n    <style>\\n        body {\\n            font-family: Arial, sans-serif;\\n            background-color: #f2f2f2;\\n            margin: 0;\\n            padding: 0;\\n        }\\n        \\n        .container {\\n            max-width: 600px;\\n            margin: 0 auto;\\n            padding: 20px;\\n        }\\n        \\n        h1 {\\n            text-align: center;\\n            color: #333;\\n        }\\n        \\n        .options {\\n            margin-top: 30px;\\n        }\\n        \\n        .option {\\n            display: flex;\\n            align-items: center;\\n            margin-bottom: 20px;\\n            padding: 10px;\\n            background-color: #fff;\\n            border-radius: 5px;\\n            box-shadow: 0 2px 5px rgba(0, 0, 0, 0.1);\\n        }\\n        \\n        .option img {\\n            width: 50px;\\n            height: 50px;\\n            margin-right: 10px;\\n        }\\n        \\n        .option .title {\\n            font-size: 18px;\\n            font-weight: bold;\\n            color: #333;\\n        }\\n        \\n        .option .description {\\n            font-size: 14px;\\n            color: #666;\\n        }\\n        \\n        .library {\\n            margin-top: 30px;\\n        }\\n        \\n        .file {\\n            display: flex;\\n            align-items: center;\\n            margin-bottom: 10px;\\n            padding: 10px;\\n            background-color: #fff;\\n            border-radius: 5px;\\n            box-shadow: 0 2px 5px rgba(0, 0, 0, 0.1);\\n        }\\n        \\n        .file img {\\n            width: 40px;\\n            height: 40px;\\n            margin-right: 10px;\\n        }\\n        \\n        .file .name {\\n            font-size: 14px;\\n            color: #333;\\n        }\\n        \\n        .file .size {\\n            font-size: 12px;\\n            color: #666;\\n        }\\n    </style>\\n</head>\\n<body>\\n    <div class=\"container\">\\n        <h1>Train-Related Page</h1>\\n        \\n        <div class=\"options\">\\n            <div class=\"option\">\\n                <img src=\"train_option1.png\" alt=\"Option 1\">\\n                <div>\\n                    <div class=\"title\">Option 1</div>\\n                    <div class=\"description\">Description of Option 1</div>\\n                </div>\\n            </div>\\n            \\n            <div class=\"option\">\\n                <img src=\"train_option2.png\" alt=\"Option 2\">\\n                <div>\\n                    <div class=\"title\">Option 2</div>\\n                    <div class=\"description\">Description of Option 2</div>\\n                </div>\\n            </div>\\n            \\n            <div class=\"option\">\\n                <img src=\"train_option3.png\" alt=\"Option 3\">\\n                <div>\\n                    <div class=\"title\">Option 3</div>\\n                    <div class=\"description\">Description of Option 3</div>\\n                </div>\\n            </div>\\n        </div>\\n        \\n        <div class=\"library\">\\n            <div class=\"file\">\\n                <img src=\"train_file1.png\" alt=\"File 1\">\\n                <div>\\n                    <div class=\"name\">File 1</div>\\n                    <div class=\"size\">Size: 10 MB</div>\\n                </div>\\n            </div>\\n            \\n            <div class=\"file\">\\n                <img src=\"train_file2.png\" alt=\"File 2\">\\n                <div>\\n                    <div class=\"name\">File 2</div>\\n                    <div class=\"size\">Size: 5 MB</div>\\n                </div>\\n            </div>\\n            \\n            <div class=\"file\">\\n                <img src=\"train_file3.png\" alt=\"File 3\">\\n                <div>\\n                    <div class=\"name\">File 3</div>\\n                    <div class=\"size\">Size: 8 MB</div>\\n                </div>\\n            </div>\\n        </div>\\n    </div>\\n</body>\\n</html>'}\n",
      "f{screen_id}: creation done\n",
      "{'summary': \"The provided information of the screen can be extracted and formulated into a new description as follows:\\n\\nSummary: [1929 'Sign-in page for a shopping app' 'dev']\\n\\nIn this new description, the common information from all the given summaries is combined to create a more comprehensive summary. The year (1929) remains the same, while the specific details about the screen are merged to form a clear and concise description. The additional information about it being a development version ('dev') is also retained.\", 'creation': '<!DOCTYPE html>\\n<html>\\n<head>\\n    <title>Mobile Page</title>\\n    <style>\\n        body {\\n            font-family: Arial, sans-serif;\\n            margin: 0;\\n            padding: 20px;\\n        }\\n\\n        h1 {\\n            font-size: 24px;\\n            margin-bottom: 10px;\\n        }\\n\\n        p {\\n            font-size: 16px;\\n            margin-bottom: 10px;\\n        }\\n\\n        .summary {\\n            background-color: #f2f2f2;\\n            padding: 20px;\\n            border-radius: 5px;\\n            margin-bottom: 20px;\\n        }\\n    </style>\\n</head>\\n<body>\\n    <div class=\"summary\">\\n        <h1>Summary: 1929 \\'Sign-in page for a shopping app\\' \\'dev\\'</h1>\\n        <p>In this new description, the common information from all the given summaries is combined to create a more comprehensive summary. The year (1929) remains the same, while the specific details about the screen are merged to form a clear and concise description. The additional information about it being a development version (\\'dev\\') is also retained.</p>\\n    </div>\\n</body>\\n</html>'}\n",
      "f{screen_id}: creation done\n"
     ]
    }
   ],
   "source": [
    "creation_pipeline()"
   ]
  },
  {
   "cell_type": "code",
   "execution_count": 23,
   "metadata": {},
   "outputs": [
    {
     "data": {
      "text/plain": [
       "array([ 486,  546,  661,  865,  876,  882, 1050, 1264, 1365, 1929],\n",
       "      dtype=int64)"
      ]
     },
     "execution_count": 23,
     "metadata": {},
     "output_type": "execute_result"
    }
   ],
   "source": [
    "sample[\"screenId\"].head(10).values\n"
   ]
  },
  {
   "cell_type": "code",
   "execution_count": null,
   "metadata": {},
   "outputs": [],
   "source": []
  }
 ],
 "metadata": {
  "kernelspec": {
   "display_name": ".venv",
   "language": "python",
   "name": "python3"
  },
  "language_info": {
   "codemirror_mode": {
    "name": "ipython",
    "version": 3
   },
   "file_extension": ".py",
   "mimetype": "text/x-python",
   "name": "python",
   "nbconvert_exporter": "python",
   "pygments_lexer": "ipython3",
   "version": "3.9.0"
  }
 },
 "nbformat": 4,
 "nbformat_minor": 2
}
